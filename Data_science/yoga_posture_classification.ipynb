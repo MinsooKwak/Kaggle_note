{
  "nbformat": 4,
  "nbformat_minor": 0,
  "metadata": {
    "colab": {
      "provenance": [],
      "authorship_tag": "ABX9TyN9GY648o54E6z1Kf139NRl",
      "include_colab_link": true
    },
    "kernelspec": {
      "name": "python3",
      "display_name": "Python 3"
    },
    "language_info": {
      "name": "python"
    }
  },
  "cells": [
    {
      "cell_type": "markdown",
      "metadata": {
        "id": "view-in-github",
        "colab_type": "text"
      },
      "source": [
        "<a href=\"https://colab.research.google.com/github/MinsooKwak/Kaggle_note/blob/main/Data_science/yoga_posture_classification.ipynb\" target=\"_parent\"><img src=\"https://colab.research.google.com/assets/colab-badge.svg\" alt=\"Open In Colab\"/></a>"
      ]
    },
    {
      "cell_type": "markdown",
      "source": [
        "참고 링크: https://www.kaggle.com/code/vencerlanz09/yoga-pose-classification-using-cnn-mobilenetv3"
      ],
      "metadata": {
        "id": "M1dSQVwkWtH1"
      }
    },
    {
      "cell_type": "code",
      "execution_count": 1,
      "metadata": {
        "colab": {
          "base_uri": "https://localhost:8080/"
        },
        "id": "rathKq_lWdMa",
        "outputId": "3574f079-78bb-42e8-8053-f3ff3dbba6f9"
      },
      "outputs": [
        {
          "output_type": "stream",
          "name": "stdout",
          "text": [
            "Mounted at /content/drive\n"
          ]
        }
      ],
      "source": [
        "from google.colab import drive\n",
        "drive.mount('/content/drive')"
      ]
    },
    {
      "cell_type": "code",
      "source": [
        "import warnings\n",
        "warnings.filterwarnings('ignore')\n",
        "\n",
        "# import Libraries\n",
        "import pandas as pd\n",
        "import numpy as np\n",
        "import tensorflow as tf\n",
        "from sklearn.model_selection import train_test_split\n",
        "import itertools\n",
        "import random\n",
        "\n",
        "# import visualization Libraries\n",
        "import matplotlib.pyplot as plt\n",
        "import seaborn as sns\n",
        "import matplotlib.font_manager as fm  # 폰트 관련 용도\n",
        "import matplotlib.cm as cm\n",
        "import cv2\n",
        "\n",
        "# Tensorflow Libraries\n",
        "from tensorflow import keras\n",
        "from tensorflow.keras import layers, models\n",
        "from keras_preprocessing.image import ImageDataGenerator\n",
        "from keras.layers import Dense, Dropout\n",
        "from tensorflow.keras.callbacks import Callback, EarlyStopping, ModelCheckpoint\n",
        "from tensorflow.keras.optimizers import Adam\n",
        "from tensorflow.keras.applications import MobileNetV2\n",
        "from tensorflow.keras import Model\n",
        "from tensorflow.keras.layers.experimental import preprocessing\n",
        "\n",
        "# System libraries\n",
        "from pathlib import Path\n",
        "import os.path\n",
        "\n",
        "# Metrics\n",
        "from sklearn.metrics import classification_report, confusion_matrix"
      ],
      "metadata": {
        "id": "crcTI1wLWxVN"
      },
      "execution_count": 6,
      "outputs": []
    },
    {
      "cell_type": "markdown",
      "source": [
        "**confusion matrix**\n",
        "\n",
        "https://jerimo.github.io/python/confusion-matrix/"
      ],
      "metadata": {
        "id": "-t5c-JGQa_7d"
      }
    },
    {
      "cell_type": "code",
      "source": [
        "# Wget으로 파일 다운(helper_functions.py)\n",
        "!wget https://raw.githubusercontent.com/mrdbourke/tensorflow-deep-learning/main/extras/helper_functions.py\n",
        "\n",
        "# Import series of helper functions for our notebook \n",
        "from helper_functions import create_tensorboard_callback, plot_loss_curves, unzip_data, compare_historys, pred_and_plot"
      ],
      "metadata": {
        "colab": {
          "base_uri": "https://localhost:8080/"
        },
        "id": "rF8D0x5WbR3r",
        "outputId": "fd4f950a-5f96-4a5a-a9dc-2ccdc7de14e9"
      },
      "execution_count": 7,
      "outputs": [
        {
          "output_type": "stream",
          "name": "stdout",
          "text": [
            "--2022-09-13 15:21:00--  https://raw.githubusercontent.com/mrdbourke/tensorflow-deep-learning/main/extras/helper_functions.py\n",
            "Resolving raw.githubusercontent.com (raw.githubusercontent.com)... 185.199.108.133, 185.199.109.133, 185.199.110.133, ...\n",
            "Connecting to raw.githubusercontent.com (raw.githubusercontent.com)|185.199.108.133|:443... connected.\n",
            "HTTP request sent, awaiting response... 200 OK\n",
            "Length: 10246 (10K) [text/plain]\n",
            "Saving to: ‘helper_functions.py’\n",
            "\n",
            "helper_functions.py 100%[===================>]  10.01K  --.-KB/s    in 0s      \n",
            "\n",
            "2022-09-13 15:21:00 (73.1 MB/s) - ‘helper_functions.py’ saved [10246/10246]\n",
            "\n"
          ]
        }
      ]
    },
    {
      "cell_type": "markdown",
      "source": [
        "### 한글 폰트 설치 및 설정"
      ],
      "metadata": {
        "id": "kZaT4rJ8W_eC"
      }
    },
    {
      "cell_type": "code",
      "source": [
        "#!sudo apt-get install -y fonts-nanum  ## 폰트설치\n",
        "#!sudo fc-cache -fv ## 폰트 업데이트\n",
        "#!rm ~/.cache/matplotlib -rf ## 캐쉬된 matplotlib 폰트 삭제하여 재로딩"
      ],
      "metadata": {
        "id": "CUjvevOGWz67"
      },
      "execution_count": null,
      "outputs": []
    },
    {
      "cell_type": "code",
      "source": [
        "# ttflist에 Nanum 글자 들어가는 폰트 있는지 확인하는 코드\n",
        "f = [f.name for f in fm.fontManager.ttflist if 'Nanum' in f.name]\n",
        "f"
      ],
      "metadata": {
        "id": "bNIlmwCcW4Nh"
      },
      "execution_count": null,
      "outputs": []
    },
    {
      "cell_type": "code",
      "source": [
        "#폰트종류설정\n",
        "plt.rcParams[\"font.family\"] ='NanumSquare'\n",
        "\n",
        "# 현재 설정되어 있는 폰트 사이즈와 글꼴을 알아보자\n",
        "!python --version\n",
        "def current_font():\n",
        "  print(f\"설정 폰트 글꼴: {plt.rcParams['font.family']}, 설정 폰트 사이즈: {plt.rcParams['font.size']}\")  # 파이썬 3.6 이상 사용가능하다\n",
        "        \n",
        "current_font()"
      ],
      "metadata": {
        "id": "Ee6xBfq6W5tA"
      },
      "execution_count": null,
      "outputs": []
    },
    {
      "cell_type": "code",
      "source": [
        "path = '/content/drive/MyDrive/text/NanumSquareR.ttf'  # 설치된 나눔글꼴중 원하는 녀석의 전체 경로를 가져오자\n",
        "font_name = fm.FontProperties(fname=path, size=10).get_name()\n",
        "print(font_name)\n",
        "plt.rc('font', family=font_name)"
      ],
      "metadata": {
        "id": "60BJ2hC8W7Ey"
      },
      "execution_count": null,
      "outputs": []
    },
    {
      "cell_type": "code",
      "source": [
        "import matplotlib.pyplot as plt\n",
        "from matplotlib import font_manager\n",
        "plt.rcParams['axes.unicode_minus']=False\n",
        "font_path = '/content/drive/MyDrive/text/NanumSquareR.ttf'\n",
        "fontprop = font_manager.FontProperties(fname=font_path, size=20)\n",
        "\n",
        "plt.rc('font', family='NanumBarunGothic')"
      ],
      "metadata": {
        "id": "NT7kLqGpW8SI"
      },
      "execution_count": null,
      "outputs": []
    },
    {
      "cell_type": "markdown",
      "source": [
        "# Load and transform Data"
      ],
      "metadata": {
        "id": "voHDn14yXEha"
      }
    },
    {
      "cell_type": "code",
      "source": [
        "BATCH_SIZE = 32\n",
        "IMAGE_SIZE = (224,224)"
      ],
      "metadata": {
        "id": "4KMWqvieXCxA"
      },
      "execution_count": 8,
      "outputs": []
    },
    {
      "cell_type": "code",
      "source": [
        "dataset = \"/content/drive/MyDrive/kaggle/yoga_posture_dataset\"\n",
        "\n",
        "def walk_through_dir(dir_path):\n",
        "  '''\n",
        "  Args:\n",
        "    dir_path (str): target directory\n",
        "  \n",
        "  Returns:\n",
        "    number of subdirectories in dir_path\n",
        "    number of image(files) in each subdirectory\n",
        "    name of each subdirectory\n",
        "  '''\n",
        "  for dirpath, dirnames, filenames in os.walk(dir_path):\n",
        "    print(f\"There are {len(dirnames)} directories and {len(filenames)} images in '{dirpath}'.\")\n",
        "\n",
        "walk_through_dir(dataset)"
      ],
      "metadata": {
        "colab": {
          "base_uri": "https://localhost:8080/"
        },
        "id": "50CptX84cTKw",
        "outputId": "3aef0206-9aea-46a0-aeb5-818b771eb57d"
      },
      "execution_count": 9,
      "outputs": [
        {
          "output_type": "stream",
          "name": "stdout",
          "text": [
            "There are 47 directories and 1 images in '/content/drive/MyDrive/kaggle/yoga_posture_dataset'.\n",
            "There are 0 directories and 59 images in '/content/drive/MyDrive/kaggle/yoga_posture_dataset/Ardha Chandrasana'.\n",
            "There are 0 directories and 81 images in '/content/drive/MyDrive/kaggle/yoga_posture_dataset/Baddha Konasana'.\n",
            "There are 0 directories and 13 images in '/content/drive/MyDrive/kaggle/yoga_posture_dataset/Ardha Navasana'.\n",
            "There are 0 directories and 74 images in '/content/drive/MyDrive/kaggle/yoga_posture_dataset/Adho Mukha Svanasana'.\n",
            "There are 0 directories and 54 images in '/content/drive/MyDrive/kaggle/yoga_posture_dataset/Ardha Pincha Mayurasana'.\n",
            "There are 0 directories and 12 images in '/content/drive/MyDrive/kaggle/yoga_posture_dataset/Ashta Chandrasana'.\n",
            "There are 0 directories and 71 images in '/content/drive/MyDrive/kaggle/yoga_posture_dataset/Anjaneyasana'.\n",
            "There are 0 directories and 18 images in '/content/drive/MyDrive/kaggle/yoga_posture_dataset/Alanasana'.\n",
            "There are 0 directories and 65 images in '/content/drive/MyDrive/kaggle/yoga_posture_dataset/Adho Mukha Vrksasana'.\n",
            "There are 0 directories and 96 images in '/content/drive/MyDrive/kaggle/yoga_posture_dataset/Ardha Matsyendrasana'.\n",
            "There are 0 directories and 85 images in '/content/drive/MyDrive/kaggle/yoga_posture_dataset/Garudasana'.\n",
            "There are 0 directories and 41 images in '/content/drive/MyDrive/kaggle/yoga_posture_dataset/Hanumanasana'.\n",
            "There are 0 directories and 73 images in '/content/drive/MyDrive/kaggle/yoga_posture_dataset/Malasana'.\n",
            "There are 0 directories and 71 images in '/content/drive/MyDrive/kaggle/yoga_posture_dataset/Halasana'.\n",
            "There are 0 directories and 54 images in '/content/drive/MyDrive/kaggle/yoga_posture_dataset/Dhanurasana'.\n",
            "There are 0 directories and 53 images in '/content/drive/MyDrive/kaggle/yoga_posture_dataset/Eka Pada Rajakapotasana'.\n",
            "There are 0 directories and 94 images in '/content/drive/MyDrive/kaggle/yoga_posture_dataset/Bitilasana'.\n",
            "There are 0 directories and 84 images in '/content/drive/MyDrive/kaggle/yoga_posture_dataset/Bakasana'.\n",
            "There are 0 directories and 62 images in '/content/drive/MyDrive/kaggle/yoga_posture_dataset/Camatkarasana'.\n",
            "There are 0 directories and 79 images in '/content/drive/MyDrive/kaggle/yoga_posture_dataset/Balasana'.\n",
            "There are 0 directories and 14 images in '/content/drive/MyDrive/kaggle/yoga_posture_dataset/Parsva Virabhadrasana'.\n",
            "There are 0 directories and 43 images in '/content/drive/MyDrive/kaggle/yoga_posture_dataset/Pincha Mayurasana'.\n",
            "There are 0 directories and 43 images in '/content/drive/MyDrive/kaggle/yoga_posture_dataset/Parsvottanasana'.\n",
            "There are 0 directories and 56 images in '/content/drive/MyDrive/kaggle/yoga_posture_dataset/Marjaryasana'.\n",
            "There are 0 directories and 62 images in '/content/drive/MyDrive/kaggle/yoga_posture_dataset/Salamba Bhujangasana'.\n",
            "There are 0 directories and 66 images in '/content/drive/MyDrive/kaggle/yoga_posture_dataset/Phalakasana'.\n",
            "There are 0 directories and 73 images in '/content/drive/MyDrive/kaggle/yoga_posture_dataset/Salamba Sarvangasana'.\n",
            "There are 0 directories and 77 images in '/content/drive/MyDrive/kaggle/yoga_posture_dataset/Padmasana'.\n",
            "There are 0 directories and 18 images in '/content/drive/MyDrive/kaggle/yoga_posture_dataset/Navasana'.\n",
            "There are 0 directories and 62 images in '/content/drive/MyDrive/kaggle/yoga_posture_dataset/Paschimottanasana'.\n",
            "There are 0 directories and 17 images in '/content/drive/MyDrive/kaggle/yoga_posture_dataset/Upavistha Konasana'.\n",
            "There are 0 directories and 74 images in '/content/drive/MyDrive/kaggle/yoga_posture_dataset/Urdhva Dhanurasana'.\n",
            "There are 0 directories and 69 images in '/content/drive/MyDrive/kaggle/yoga_posture_dataset/Urdhva Mukha Svsnssana'.\n",
            "There are 0 directories and 66 images in '/content/drive/MyDrive/kaggle/yoga_posture_dataset/Setu Bandha Sarvangasana'.\n",
            "There are 0 directories and 96 images in '/content/drive/MyDrive/kaggle/yoga_posture_dataset/Ustrasana'.\n",
            "There are 0 directories and 13 images in '/content/drive/MyDrive/kaggle/yoga_posture_dataset/Supta Kapotasana'.\n",
            "There are 0 directories and 23 images in '/content/drive/MyDrive/kaggle/yoga_posture_dataset/Trikonasana'.\n",
            "There are 0 directories and 20 images in '/content/drive/MyDrive/kaggle/yoga_posture_dataset/Sivasana'.\n",
            "There are 0 directories and 81 images in '/content/drive/MyDrive/kaggle/yoga_posture_dataset/Utkatasana'.\n",
            "There are 0 directories and 71 images in '/content/drive/MyDrive/kaggle/yoga_posture_dataset/Uttanasana'.\n",
            "There are 0 directories and 80 images in '/content/drive/MyDrive/kaggle/yoga_posture_dataset/Vasisthasana'.\n",
            "There are 0 directories and 61 images in '/content/drive/MyDrive/kaggle/yoga_posture_dataset/Virabhadrasana Two'.\n",
            "There are 0 directories and 64 images in '/content/drive/MyDrive/kaggle/yoga_posture_dataset/Virabhadrasana One'.\n",
            "There are 0 directories and 69 images in '/content/drive/MyDrive/kaggle/yoga_posture_dataset/Virabhadrasana Three'.\n",
            "There are 0 directories and 69 images in '/content/drive/MyDrive/kaggle/yoga_posture_dataset/Utthita Parsvakonasana'.\n",
            "There are 0 directories and 64 images in '/content/drive/MyDrive/kaggle/yoga_posture_dataset/Utthita Hasta Padangusthasana'.\n",
            "There are 0 directories and 68 images in '/content/drive/MyDrive/kaggle/yoga_posture_dataset/Vrksasana'.\n"
          ]
        }
      ]
    },
    {
      "cell_type": "markdown",
      "source": [
        "-> 해당 내용 보기 쉽게 수정할 필요 있을 것 같음"
      ],
      "metadata": {
        "id": "zUP0wEifd8Za"
      }
    },
    {
      "cell_type": "code",
      "source": [],
      "metadata": {
        "id": "l-_Eib6ddtNm"
      },
      "execution_count": null,
      "outputs": []
    }
  ]
}