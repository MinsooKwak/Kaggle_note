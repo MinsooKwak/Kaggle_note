{
  "nbformat": 4,
  "nbformat_minor": 0,
  "metadata": {
    "colab": {
      "provenance": [],
      "collapsed_sections": [],
      "authorship_tag": "ABX9TyNW3PGoTshSGezLfOVR2jnq",
      "include_colab_link": true
    },
    "kernelspec": {
      "name": "python3",
      "display_name": "Python 3"
    },
    "language_info": {
      "name": "python"
    }
  },
  "cells": [
    {
      "cell_type": "markdown",
      "metadata": {
        "id": "view-in-github",
        "colab_type": "text"
      },
      "source": [
        "<a href=\"https://colab.research.google.com/github/MinsooKwak/Kaggle_note/blob/main/Data_science/lung_cancer_analysis_note.ipynb\" target=\"_parent\"><img src=\"https://colab.research.google.com/assets/colab-badge.svg\" alt=\"Open In Colab\"/></a>"
      ]
    },
    {
      "cell_type": "markdown",
      "source": [
        "**Kaggle 필사 study하기**\n",
        "\n",
        "참고 링크: https://www.kaggle.com/code/hasibalmuzdadid/lung-cancer-analysis-accuracy-96-4/notebook"
      ],
      "metadata": {
        "id": "NNBjZewyYt0a"
      }
    },
    {
      "cell_type": "code",
      "execution_count": 1,
      "metadata": {
        "colab": {
          "base_uri": "https://localhost:8080/"
        },
        "id": "61--x2P6TJ8G",
        "outputId": "8c348548-6bc6-472e-a7a3-d270a06bcf82"
      },
      "outputs": [
        {
          "output_type": "stream",
          "name": "stdout",
          "text": [
            "Drive already mounted at /content/drive; to attempt to forcibly remount, call drive.mount(\"/content/drive\", force_remount=True).\n"
          ]
        }
      ],
      "source": [
        "from google.colab import drive\n",
        "drive.mount('/content/drive')"
      ]
    },
    {
      "cell_type": "code",
      "source": [
        "import pandas as pd\n",
        "import numpy as np\n",
        "import matplotlib.pyplot as plt\n",
        "import seaborn as sns\n",
        "\n",
        "import matplotlib.font_manager as fm  # 폰트 관련 용도"
      ],
      "metadata": {
        "id": "FEHnmHXATb3N"
      },
      "execution_count": 2,
      "outputs": []
    },
    {
      "cell_type": "code",
      "source": [
        "import warnings\n",
        "warnings.filterwarnings('ignore')"
      ],
      "metadata": {
        "id": "I5nCE9BVE2Rh"
      },
      "execution_count": 3,
      "outputs": []
    },
    {
      "cell_type": "markdown",
      "source": [
        "### 한글 폰트 설치 및 설정"
      ],
      "metadata": {
        "id": "Arl9HN2WEn8C"
      }
    },
    {
      "cell_type": "code",
      "source": [
        "#!sudo apt-get install -y fonts-nanum  ## 폰트설치\n",
        "#!sudo fc-cache -fv ## 폰트 업데이트\n",
        "#!rm ~/.cache/matplotlib -rf ## 캐쉬된 matplotlib 폰트 삭제하여 재로딩"
      ],
      "metadata": {
        "id": "QHZ7pOAXEfwi"
      },
      "execution_count": null,
      "outputs": []
    },
    {
      "cell_type": "code",
      "source": [
        "# ttflist에 Nanum 글자 들어가는 폰트 있는지 확인하는 코드\n",
        "f = [f.name for f in fm.fontManager.ttflist if 'Nanum' in f.name]\n",
        "f"
      ],
      "metadata": {
        "colab": {
          "base_uri": "https://localhost:8080/"
        },
        "id": "VbmjQG88Ehrv",
        "outputId": "dcfc8a6f-d605-4766-e96c-aaed5fe8078e"
      },
      "execution_count": 4,
      "outputs": [
        {
          "output_type": "execute_result",
          "data": {
            "text/plain": [
              "['NanumSquare',\n",
              " 'NanumMyeongjo',\n",
              " 'NanumGothic',\n",
              " 'NanumSquare',\n",
              " 'NanumBarunGothic',\n",
              " 'NanumBarunGothic',\n",
              " 'NanumSquareRound',\n",
              " 'NanumSquareRound',\n",
              " 'NanumMyeongjo',\n",
              " 'NanumGothic']"
            ]
          },
          "metadata": {},
          "execution_count": 4
        }
      ]
    },
    {
      "cell_type": "code",
      "source": [
        "#폰트종류설정\n",
        "plt.rcParams[\"font.family\"] ='NanumSquare'\n",
        "\n",
        "# 현재 설정되어 있는 폰트 사이즈와 글꼴을 알아보자\n",
        "!python --version\n",
        "def current_font():\n",
        "  print(f\"설정 폰트 글꼴: {plt.rcParams['font.family']}, 설정 폰트 사이즈: {plt.rcParams['font.size']}\")  # 파이썬 3.6 이상 사용가능하다\n",
        "        \n",
        "current_font()"
      ],
      "metadata": {
        "colab": {
          "base_uri": "https://localhost:8080/"
        },
        "id": "3BMgm9YFEjB6",
        "outputId": "0a32b548-7271-44d5-dd5e-ca8549e4bdbd"
      },
      "execution_count": 5,
      "outputs": [
        {
          "output_type": "stream",
          "name": "stdout",
          "text": [
            "Python 3.7.13\n",
            "설정 폰트 글꼴: ['NanumSquare'], 설정 폰트 사이즈: 10.0\n"
          ]
        }
      ]
    },
    {
      "cell_type": "code",
      "source": [
        "path = '/content/drive/MyDrive/text/NanumSquareR.ttf'  # 설치된 나눔글꼴중 원하는 녀석의 전체 경로를 가져오자\n",
        "font_name = fm.FontProperties(fname=path, size=10).get_name()\n",
        "print(font_name)\n",
        "plt.rc('font', family=font_name)"
      ],
      "metadata": {
        "colab": {
          "base_uri": "https://localhost:8080/"
        },
        "id": "sGNdqtt_Emn6",
        "outputId": "fd7d6fb3-2fd3-48b1-c0f1-2b895ed99907"
      },
      "execution_count": 26,
      "outputs": [
        {
          "output_type": "stream",
          "name": "stdout",
          "text": [
            "NanumSquare\n"
          ]
        }
      ]
    },
    {
      "cell_type": "code",
      "source": [
        "import matplotlib.pyplot as plt\n",
        "from matplotlib import font_manager\n",
        "plt.rcParams['axes.unicode_minus']=False\n",
        "font_path = '/content/drive/MyDrive/text/NanumSquareR.ttf'\n",
        "fontprop = font_manager.FontProperties(fname=font_path, size=20)\n",
        "\n",
        "plt.rc('font', family='NanumBarunGothic')"
      ],
      "metadata": {
        "id": "WK19YHQSF69d"
      },
      "execution_count": 27,
      "outputs": []
    },
    {
      "cell_type": "markdown",
      "source": [
        "# EDA"
      ],
      "metadata": {
        "id": "SYMicepexeVY"
      }
    },
    {
      "cell_type": "code",
      "source": [
        "df = pd.read_csv('/content/drive/MyDrive/data/kaggle_data/survey_lung_cancer.csv')"
      ],
      "metadata": {
        "id": "3ZgulzvTTl-c"
      },
      "execution_count": 8,
      "outputs": []
    },
    {
      "cell_type": "code",
      "source": [
        "df.head()"
      ],
      "metadata": {
        "colab": {
          "base_uri": "https://localhost:8080/",
          "height": 287
        },
        "id": "KQqk63zCT7lF",
        "outputId": "f00d004b-29b6-4fcb-dd0f-48b3ba498ae6"
      },
      "execution_count": 9,
      "outputs": [
        {
          "output_type": "execute_result",
          "data": {
            "text/plain": [
              "  GENDER  AGE  SMOKING  YELLOW_FINGERS  ANXIETY  PEER_PRESSURE  \\\n",
              "0      M   69        1               2        2              1   \n",
              "1      M   74        2               1        1              1   \n",
              "2      F   59        1               1        1              2   \n",
              "3      M   63        2               2        2              1   \n",
              "4      F   63        1               2        1              1   \n",
              "\n",
              "   CHRONIC DISEASE  FATIGUE   ALLERGY   WHEEZING  ALCOHOL CONSUMING  COUGHING  \\\n",
              "0                1         2         1         2                  2         2   \n",
              "1                2         2         2         1                  1         1   \n",
              "2                1         2         1         2                  1         2   \n",
              "3                1         1         1         1                  2         1   \n",
              "4                1         1         1         2                  1         2   \n",
              "\n",
              "   SHORTNESS OF BREATH  SWALLOWING DIFFICULTY  CHEST PAIN LUNG_CANCER  \n",
              "0                    2                      2           2         YES  \n",
              "1                    2                      2           2         YES  \n",
              "2                    2                      1           2          NO  \n",
              "3                    1                      2           2          NO  \n",
              "4                    2                      1           1          NO  "
            ],
            "text/html": [
              "\n",
              "  <div id=\"df-45c0dbb0-ff6c-4987-81c5-ae4317ed9029\">\n",
              "    <div class=\"colab-df-container\">\n",
              "      <div>\n",
              "<style scoped>\n",
              "    .dataframe tbody tr th:only-of-type {\n",
              "        vertical-align: middle;\n",
              "    }\n",
              "\n",
              "    .dataframe tbody tr th {\n",
              "        vertical-align: top;\n",
              "    }\n",
              "\n",
              "    .dataframe thead th {\n",
              "        text-align: right;\n",
              "    }\n",
              "</style>\n",
              "<table border=\"1\" class=\"dataframe\">\n",
              "  <thead>\n",
              "    <tr style=\"text-align: right;\">\n",
              "      <th></th>\n",
              "      <th>GENDER</th>\n",
              "      <th>AGE</th>\n",
              "      <th>SMOKING</th>\n",
              "      <th>YELLOW_FINGERS</th>\n",
              "      <th>ANXIETY</th>\n",
              "      <th>PEER_PRESSURE</th>\n",
              "      <th>CHRONIC DISEASE</th>\n",
              "      <th>FATIGUE</th>\n",
              "      <th>ALLERGY</th>\n",
              "      <th>WHEEZING</th>\n",
              "      <th>ALCOHOL CONSUMING</th>\n",
              "      <th>COUGHING</th>\n",
              "      <th>SHORTNESS OF BREATH</th>\n",
              "      <th>SWALLOWING DIFFICULTY</th>\n",
              "      <th>CHEST PAIN</th>\n",
              "      <th>LUNG_CANCER</th>\n",
              "    </tr>\n",
              "  </thead>\n",
              "  <tbody>\n",
              "    <tr>\n",
              "      <th>0</th>\n",
              "      <td>M</td>\n",
              "      <td>69</td>\n",
              "      <td>1</td>\n",
              "      <td>2</td>\n",
              "      <td>2</td>\n",
              "      <td>1</td>\n",
              "      <td>1</td>\n",
              "      <td>2</td>\n",
              "      <td>1</td>\n",
              "      <td>2</td>\n",
              "      <td>2</td>\n",
              "      <td>2</td>\n",
              "      <td>2</td>\n",
              "      <td>2</td>\n",
              "      <td>2</td>\n",
              "      <td>YES</td>\n",
              "    </tr>\n",
              "    <tr>\n",
              "      <th>1</th>\n",
              "      <td>M</td>\n",
              "      <td>74</td>\n",
              "      <td>2</td>\n",
              "      <td>1</td>\n",
              "      <td>1</td>\n",
              "      <td>1</td>\n",
              "      <td>2</td>\n",
              "      <td>2</td>\n",
              "      <td>2</td>\n",
              "      <td>1</td>\n",
              "      <td>1</td>\n",
              "      <td>1</td>\n",
              "      <td>2</td>\n",
              "      <td>2</td>\n",
              "      <td>2</td>\n",
              "      <td>YES</td>\n",
              "    </tr>\n",
              "    <tr>\n",
              "      <th>2</th>\n",
              "      <td>F</td>\n",
              "      <td>59</td>\n",
              "      <td>1</td>\n",
              "      <td>1</td>\n",
              "      <td>1</td>\n",
              "      <td>2</td>\n",
              "      <td>1</td>\n",
              "      <td>2</td>\n",
              "      <td>1</td>\n",
              "      <td>2</td>\n",
              "      <td>1</td>\n",
              "      <td>2</td>\n",
              "      <td>2</td>\n",
              "      <td>1</td>\n",
              "      <td>2</td>\n",
              "      <td>NO</td>\n",
              "    </tr>\n",
              "    <tr>\n",
              "      <th>3</th>\n",
              "      <td>M</td>\n",
              "      <td>63</td>\n",
              "      <td>2</td>\n",
              "      <td>2</td>\n",
              "      <td>2</td>\n",
              "      <td>1</td>\n",
              "      <td>1</td>\n",
              "      <td>1</td>\n",
              "      <td>1</td>\n",
              "      <td>1</td>\n",
              "      <td>2</td>\n",
              "      <td>1</td>\n",
              "      <td>1</td>\n",
              "      <td>2</td>\n",
              "      <td>2</td>\n",
              "      <td>NO</td>\n",
              "    </tr>\n",
              "    <tr>\n",
              "      <th>4</th>\n",
              "      <td>F</td>\n",
              "      <td>63</td>\n",
              "      <td>1</td>\n",
              "      <td>2</td>\n",
              "      <td>1</td>\n",
              "      <td>1</td>\n",
              "      <td>1</td>\n",
              "      <td>1</td>\n",
              "      <td>1</td>\n",
              "      <td>2</td>\n",
              "      <td>1</td>\n",
              "      <td>2</td>\n",
              "      <td>2</td>\n",
              "      <td>1</td>\n",
              "      <td>1</td>\n",
              "      <td>NO</td>\n",
              "    </tr>\n",
              "  </tbody>\n",
              "</table>\n",
              "</div>\n",
              "      <button class=\"colab-df-convert\" onclick=\"convertToInteractive('df-45c0dbb0-ff6c-4987-81c5-ae4317ed9029')\"\n",
              "              title=\"Convert this dataframe to an interactive table.\"\n",
              "              style=\"display:none;\">\n",
              "        \n",
              "  <svg xmlns=\"http://www.w3.org/2000/svg\" height=\"24px\"viewBox=\"0 0 24 24\"\n",
              "       width=\"24px\">\n",
              "    <path d=\"M0 0h24v24H0V0z\" fill=\"none\"/>\n",
              "    <path d=\"M18.56 5.44l.94 2.06.94-2.06 2.06-.94-2.06-.94-.94-2.06-.94 2.06-2.06.94zm-11 1L8.5 8.5l.94-2.06 2.06-.94-2.06-.94L8.5 2.5l-.94 2.06-2.06.94zm10 10l.94 2.06.94-2.06 2.06-.94-2.06-.94-.94-2.06-.94 2.06-2.06.94z\"/><path d=\"M17.41 7.96l-1.37-1.37c-.4-.4-.92-.59-1.43-.59-.52 0-1.04.2-1.43.59L10.3 9.45l-7.72 7.72c-.78.78-.78 2.05 0 2.83L4 21.41c.39.39.9.59 1.41.59.51 0 1.02-.2 1.41-.59l7.78-7.78 2.81-2.81c.8-.78.8-2.07 0-2.86zM5.41 20L4 18.59l7.72-7.72 1.47 1.35L5.41 20z\"/>\n",
              "  </svg>\n",
              "      </button>\n",
              "      \n",
              "  <style>\n",
              "    .colab-df-container {\n",
              "      display:flex;\n",
              "      flex-wrap:wrap;\n",
              "      gap: 12px;\n",
              "    }\n",
              "\n",
              "    .colab-df-convert {\n",
              "      background-color: #E8F0FE;\n",
              "      border: none;\n",
              "      border-radius: 50%;\n",
              "      cursor: pointer;\n",
              "      display: none;\n",
              "      fill: #1967D2;\n",
              "      height: 32px;\n",
              "      padding: 0 0 0 0;\n",
              "      width: 32px;\n",
              "    }\n",
              "\n",
              "    .colab-df-convert:hover {\n",
              "      background-color: #E2EBFA;\n",
              "      box-shadow: 0px 1px 2px rgba(60, 64, 67, 0.3), 0px 1px 3px 1px rgba(60, 64, 67, 0.15);\n",
              "      fill: #174EA6;\n",
              "    }\n",
              "\n",
              "    [theme=dark] .colab-df-convert {\n",
              "      background-color: #3B4455;\n",
              "      fill: #D2E3FC;\n",
              "    }\n",
              "\n",
              "    [theme=dark] .colab-df-convert:hover {\n",
              "      background-color: #434B5C;\n",
              "      box-shadow: 0px 1px 3px 1px rgba(0, 0, 0, 0.15);\n",
              "      filter: drop-shadow(0px 1px 2px rgba(0, 0, 0, 0.3));\n",
              "      fill: #FFFFFF;\n",
              "    }\n",
              "  </style>\n",
              "\n",
              "      <script>\n",
              "        const buttonEl =\n",
              "          document.querySelector('#df-45c0dbb0-ff6c-4987-81c5-ae4317ed9029 button.colab-df-convert');\n",
              "        buttonEl.style.display =\n",
              "          google.colab.kernel.accessAllowed ? 'block' : 'none';\n",
              "\n",
              "        async function convertToInteractive(key) {\n",
              "          const element = document.querySelector('#df-45c0dbb0-ff6c-4987-81c5-ae4317ed9029');\n",
              "          const dataTable =\n",
              "            await google.colab.kernel.invokeFunction('convertToInteractive',\n",
              "                                                     [key], {});\n",
              "          if (!dataTable) return;\n",
              "\n",
              "          const docLinkHtml = 'Like what you see? Visit the ' +\n",
              "            '<a target=\"_blank\" href=https://colab.research.google.com/notebooks/data_table.ipynb>data table notebook</a>'\n",
              "            + ' to learn more about interactive tables.';\n",
              "          element.innerHTML = '';\n",
              "          dataTable['output_type'] = 'display_data';\n",
              "          await google.colab.output.renderOutput(dataTable, element);\n",
              "          const docLink = document.createElement('div');\n",
              "          docLink.innerHTML = docLinkHtml;\n",
              "          element.appendChild(docLink);\n",
              "        }\n",
              "      </script>\n",
              "    </div>\n",
              "  </div>\n",
              "  "
            ]
          },
          "metadata": {},
          "execution_count": 9
        }
      ]
    },
    {
      "cell_type": "markdown",
      "source": [
        "이 중 범주형으로 보이는 항목의 unique한 값들을 살펴보도록 하겠다."
      ],
      "metadata": {
        "id": "4Acdu5qhBPAt"
      }
    },
    {
      "cell_type": "code",
      "source": [
        "print(df['GENDER'].unique())\n",
        "print(df['LUNG_CANCER'].unique())"
      ],
      "metadata": {
        "colab": {
          "base_uri": "https://localhost:8080/"
        },
        "id": "J6Oi0v02UDdc",
        "outputId": "59b4930b-97bd-469e-968e-eb0e49f667eb"
      },
      "execution_count": 10,
      "outputs": [
        {
          "output_type": "stream",
          "name": "stdout",
          "text": [
            "['M' 'F']\n",
            "['YES' 'NO']\n"
          ]
        }
      ]
    },
    {
      "cell_type": "markdown",
      "source": [
        "### **ABOUT DATASET**"
      ],
      "metadata": {
        "id": "JNuPbS6Zxr3U"
      }
    },
    {
      "cell_type": "markdown",
      "source": [
        "- Gender : M, F\n",
        "- AGE : patient age\n",
        "- SMOKING : 2[Yes], 1[No]\n",
        "- ANXIETY : 2[Yes], 1[No]\n",
        "- PEER_PRESSURE : 2[Yes], 1[No]\n",
        "- CHRONIC DISEASE : 2[Yes], 1[No]\n",
        "- FATIGUE : 2[Yes], 1[No]\n",
        "- ALLERGY : 2[Yes], 1[No]\n",
        "- WHEEZIZNG : 2[Yes], 1[No]\n",
        "- ALCOHOL CONSUMING : 2[Yes], 1[No]\n",
        "- COUGHING : 2[Yes], 1[No]\n",
        "- SHROTNESS OF BREATH : 2[Yes], 1[No]\n",
        "- SWALLOWING DIFFICULTY : 2[Yes], 1[No]\n",
        "- CHEST PAIN : 2[Yes], 1[No]\n",
        "- LUNG_CANCER : Yes(Pos), NO(neg)\n"
      ],
      "metadata": {
        "id": "T9XN95D7T_lW"
      }
    },
    {
      "cell_type": "code",
      "source": [
        "print(f'현재 {df.shape[0]}개의 dataset이 존재함')\n",
        "print(f'총 {df.shape[1]}개의 컬럼으로 구성되어 있음')"
      ],
      "metadata": {
        "colab": {
          "base_uri": "https://localhost:8080/"
        },
        "id": "cG335L6fVEvr",
        "outputId": "42928056-fd86-48b3-dfab-ba08387be2c3"
      },
      "execution_count": 11,
      "outputs": [
        {
          "output_type": "stream",
          "name": "stdout",
          "text": [
            "현재 309개의 dataset이 존재함\n",
            "총 16개의 컬럼으로 구성되어 있음\n"
          ]
        }
      ]
    },
    {
      "cell_type": "markdown",
      "source": [
        "### **Data types**"
      ],
      "metadata": {
        "id": "WAkt5K1DxyzX"
      }
    },
    {
      "cell_type": "code",
      "source": [
        "df.info()"
      ],
      "metadata": {
        "colab": {
          "base_uri": "https://localhost:8080/"
        },
        "id": "g4bkGNM-VIPZ",
        "outputId": "66993997-7c04-4ea8-d0a3-eab15f30376d"
      },
      "execution_count": 12,
      "outputs": [
        {
          "output_type": "stream",
          "name": "stdout",
          "text": [
            "<class 'pandas.core.frame.DataFrame'>\n",
            "RangeIndex: 309 entries, 0 to 308\n",
            "Data columns (total 16 columns):\n",
            " #   Column                 Non-Null Count  Dtype \n",
            "---  ------                 --------------  ----- \n",
            " 0   GENDER                 309 non-null    object\n",
            " 1   AGE                    309 non-null    int64 \n",
            " 2   SMOKING                309 non-null    int64 \n",
            " 3   YELLOW_FINGERS         309 non-null    int64 \n",
            " 4   ANXIETY                309 non-null    int64 \n",
            " 5   PEER_PRESSURE          309 non-null    int64 \n",
            " 6   CHRONIC DISEASE        309 non-null    int64 \n",
            " 7   FATIGUE                309 non-null    int64 \n",
            " 8   ALLERGY                309 non-null    int64 \n",
            " 9   WHEEZING               309 non-null    int64 \n",
            " 10  ALCOHOL CONSUMING      309 non-null    int64 \n",
            " 11  COUGHING               309 non-null    int64 \n",
            " 12  SHORTNESS OF BREATH    309 non-null    int64 \n",
            " 13  SWALLOWING DIFFICULTY  309 non-null    int64 \n",
            " 14  CHEST PAIN             309 non-null    int64 \n",
            " 15  LUNG_CANCER            309 non-null    object\n",
            "dtypes: int64(14), object(2)\n",
            "memory usage: 38.8+ KB\n"
          ]
        }
      ]
    },
    {
      "cell_type": "markdown",
      "source": [
        "GENDER, LUNG_CANCER 은 object 형태로, 나머지는 int 형태의 dtype을 가진다."
      ],
      "metadata": {
        "id": "zM7tcU5jCtS6"
      }
    },
    {
      "cell_type": "markdown",
      "source": [
        "### **Dataset Summary**"
      ],
      "metadata": {
        "id": "KAmvf463VWAp"
      }
    },
    {
      "cell_type": "code",
      "source": [
        "df.describe().T"
      ],
      "metadata": {
        "colab": {
          "base_uri": "https://localhost:8080/",
          "height": 488
        },
        "id": "_-CW6g73VPMD",
        "outputId": "5f203780-c67f-44bc-b6d3-c709fb91dae5"
      },
      "execution_count": 13,
      "outputs": [
        {
          "output_type": "execute_result",
          "data": {
            "text/plain": [
              "                       count       mean       std   min   25%   50%   75%  \\\n",
              "AGE                    309.0  62.673139  8.210301  21.0  57.0  62.0  69.0   \n",
              "SMOKING                309.0   1.563107  0.496806   1.0   1.0   2.0   2.0   \n",
              "YELLOW_FINGERS         309.0   1.569579  0.495938   1.0   1.0   2.0   2.0   \n",
              "ANXIETY                309.0   1.498382  0.500808   1.0   1.0   1.0   2.0   \n",
              "PEER_PRESSURE          309.0   1.501618  0.500808   1.0   1.0   2.0   2.0   \n",
              "CHRONIC DISEASE        309.0   1.504854  0.500787   1.0   1.0   2.0   2.0   \n",
              "FATIGUE                309.0   1.673139  0.469827   1.0   1.0   2.0   2.0   \n",
              "ALLERGY                309.0   1.556634  0.497588   1.0   1.0   2.0   2.0   \n",
              "WHEEZING               309.0   1.556634  0.497588   1.0   1.0   2.0   2.0   \n",
              "ALCOHOL CONSUMING      309.0   1.556634  0.497588   1.0   1.0   2.0   2.0   \n",
              "COUGHING               309.0   1.579288  0.494474   1.0   1.0   2.0   2.0   \n",
              "SHORTNESS OF BREATH    309.0   1.640777  0.480551   1.0   1.0   2.0   2.0   \n",
              "SWALLOWING DIFFICULTY  309.0   1.469256  0.499863   1.0   1.0   1.0   2.0   \n",
              "CHEST PAIN             309.0   1.556634  0.497588   1.0   1.0   2.0   2.0   \n",
              "\n",
              "                        max  \n",
              "AGE                    87.0  \n",
              "SMOKING                 2.0  \n",
              "YELLOW_FINGERS          2.0  \n",
              "ANXIETY                 2.0  \n",
              "PEER_PRESSURE           2.0  \n",
              "CHRONIC DISEASE         2.0  \n",
              "FATIGUE                 2.0  \n",
              "ALLERGY                 2.0  \n",
              "WHEEZING                2.0  \n",
              "ALCOHOL CONSUMING       2.0  \n",
              "COUGHING                2.0  \n",
              "SHORTNESS OF BREATH     2.0  \n",
              "SWALLOWING DIFFICULTY   2.0  \n",
              "CHEST PAIN              2.0  "
            ],
            "text/html": [
              "\n",
              "  <div id=\"df-bb5b4909-74c0-4a3a-8980-4824c9d215d3\">\n",
              "    <div class=\"colab-df-container\">\n",
              "      <div>\n",
              "<style scoped>\n",
              "    .dataframe tbody tr th:only-of-type {\n",
              "        vertical-align: middle;\n",
              "    }\n",
              "\n",
              "    .dataframe tbody tr th {\n",
              "        vertical-align: top;\n",
              "    }\n",
              "\n",
              "    .dataframe thead th {\n",
              "        text-align: right;\n",
              "    }\n",
              "</style>\n",
              "<table border=\"1\" class=\"dataframe\">\n",
              "  <thead>\n",
              "    <tr style=\"text-align: right;\">\n",
              "      <th></th>\n",
              "      <th>count</th>\n",
              "      <th>mean</th>\n",
              "      <th>std</th>\n",
              "      <th>min</th>\n",
              "      <th>25%</th>\n",
              "      <th>50%</th>\n",
              "      <th>75%</th>\n",
              "      <th>max</th>\n",
              "    </tr>\n",
              "  </thead>\n",
              "  <tbody>\n",
              "    <tr>\n",
              "      <th>AGE</th>\n",
              "      <td>309.0</td>\n",
              "      <td>62.673139</td>\n",
              "      <td>8.210301</td>\n",
              "      <td>21.0</td>\n",
              "      <td>57.0</td>\n",
              "      <td>62.0</td>\n",
              "      <td>69.0</td>\n",
              "      <td>87.0</td>\n",
              "    </tr>\n",
              "    <tr>\n",
              "      <th>SMOKING</th>\n",
              "      <td>309.0</td>\n",
              "      <td>1.563107</td>\n",
              "      <td>0.496806</td>\n",
              "      <td>1.0</td>\n",
              "      <td>1.0</td>\n",
              "      <td>2.0</td>\n",
              "      <td>2.0</td>\n",
              "      <td>2.0</td>\n",
              "    </tr>\n",
              "    <tr>\n",
              "      <th>YELLOW_FINGERS</th>\n",
              "      <td>309.0</td>\n",
              "      <td>1.569579</td>\n",
              "      <td>0.495938</td>\n",
              "      <td>1.0</td>\n",
              "      <td>1.0</td>\n",
              "      <td>2.0</td>\n",
              "      <td>2.0</td>\n",
              "      <td>2.0</td>\n",
              "    </tr>\n",
              "    <tr>\n",
              "      <th>ANXIETY</th>\n",
              "      <td>309.0</td>\n",
              "      <td>1.498382</td>\n",
              "      <td>0.500808</td>\n",
              "      <td>1.0</td>\n",
              "      <td>1.0</td>\n",
              "      <td>1.0</td>\n",
              "      <td>2.0</td>\n",
              "      <td>2.0</td>\n",
              "    </tr>\n",
              "    <tr>\n",
              "      <th>PEER_PRESSURE</th>\n",
              "      <td>309.0</td>\n",
              "      <td>1.501618</td>\n",
              "      <td>0.500808</td>\n",
              "      <td>1.0</td>\n",
              "      <td>1.0</td>\n",
              "      <td>2.0</td>\n",
              "      <td>2.0</td>\n",
              "      <td>2.0</td>\n",
              "    </tr>\n",
              "    <tr>\n",
              "      <th>CHRONIC DISEASE</th>\n",
              "      <td>309.0</td>\n",
              "      <td>1.504854</td>\n",
              "      <td>0.500787</td>\n",
              "      <td>1.0</td>\n",
              "      <td>1.0</td>\n",
              "      <td>2.0</td>\n",
              "      <td>2.0</td>\n",
              "      <td>2.0</td>\n",
              "    </tr>\n",
              "    <tr>\n",
              "      <th>FATIGUE</th>\n",
              "      <td>309.0</td>\n",
              "      <td>1.673139</td>\n",
              "      <td>0.469827</td>\n",
              "      <td>1.0</td>\n",
              "      <td>1.0</td>\n",
              "      <td>2.0</td>\n",
              "      <td>2.0</td>\n",
              "      <td>2.0</td>\n",
              "    </tr>\n",
              "    <tr>\n",
              "      <th>ALLERGY</th>\n",
              "      <td>309.0</td>\n",
              "      <td>1.556634</td>\n",
              "      <td>0.497588</td>\n",
              "      <td>1.0</td>\n",
              "      <td>1.0</td>\n",
              "      <td>2.0</td>\n",
              "      <td>2.0</td>\n",
              "      <td>2.0</td>\n",
              "    </tr>\n",
              "    <tr>\n",
              "      <th>WHEEZING</th>\n",
              "      <td>309.0</td>\n",
              "      <td>1.556634</td>\n",
              "      <td>0.497588</td>\n",
              "      <td>1.0</td>\n",
              "      <td>1.0</td>\n",
              "      <td>2.0</td>\n",
              "      <td>2.0</td>\n",
              "      <td>2.0</td>\n",
              "    </tr>\n",
              "    <tr>\n",
              "      <th>ALCOHOL CONSUMING</th>\n",
              "      <td>309.0</td>\n",
              "      <td>1.556634</td>\n",
              "      <td>0.497588</td>\n",
              "      <td>1.0</td>\n",
              "      <td>1.0</td>\n",
              "      <td>2.0</td>\n",
              "      <td>2.0</td>\n",
              "      <td>2.0</td>\n",
              "    </tr>\n",
              "    <tr>\n",
              "      <th>COUGHING</th>\n",
              "      <td>309.0</td>\n",
              "      <td>1.579288</td>\n",
              "      <td>0.494474</td>\n",
              "      <td>1.0</td>\n",
              "      <td>1.0</td>\n",
              "      <td>2.0</td>\n",
              "      <td>2.0</td>\n",
              "      <td>2.0</td>\n",
              "    </tr>\n",
              "    <tr>\n",
              "      <th>SHORTNESS OF BREATH</th>\n",
              "      <td>309.0</td>\n",
              "      <td>1.640777</td>\n",
              "      <td>0.480551</td>\n",
              "      <td>1.0</td>\n",
              "      <td>1.0</td>\n",
              "      <td>2.0</td>\n",
              "      <td>2.0</td>\n",
              "      <td>2.0</td>\n",
              "    </tr>\n",
              "    <tr>\n",
              "      <th>SWALLOWING DIFFICULTY</th>\n",
              "      <td>309.0</td>\n",
              "      <td>1.469256</td>\n",
              "      <td>0.499863</td>\n",
              "      <td>1.0</td>\n",
              "      <td>1.0</td>\n",
              "      <td>1.0</td>\n",
              "      <td>2.0</td>\n",
              "      <td>2.0</td>\n",
              "    </tr>\n",
              "    <tr>\n",
              "      <th>CHEST PAIN</th>\n",
              "      <td>309.0</td>\n",
              "      <td>1.556634</td>\n",
              "      <td>0.497588</td>\n",
              "      <td>1.0</td>\n",
              "      <td>1.0</td>\n",
              "      <td>2.0</td>\n",
              "      <td>2.0</td>\n",
              "      <td>2.0</td>\n",
              "    </tr>\n",
              "  </tbody>\n",
              "</table>\n",
              "</div>\n",
              "      <button class=\"colab-df-convert\" onclick=\"convertToInteractive('df-bb5b4909-74c0-4a3a-8980-4824c9d215d3')\"\n",
              "              title=\"Convert this dataframe to an interactive table.\"\n",
              "              style=\"display:none;\">\n",
              "        \n",
              "  <svg xmlns=\"http://www.w3.org/2000/svg\" height=\"24px\"viewBox=\"0 0 24 24\"\n",
              "       width=\"24px\">\n",
              "    <path d=\"M0 0h24v24H0V0z\" fill=\"none\"/>\n",
              "    <path d=\"M18.56 5.44l.94 2.06.94-2.06 2.06-.94-2.06-.94-.94-2.06-.94 2.06-2.06.94zm-11 1L8.5 8.5l.94-2.06 2.06-.94-2.06-.94L8.5 2.5l-.94 2.06-2.06.94zm10 10l.94 2.06.94-2.06 2.06-.94-2.06-.94-.94-2.06-.94 2.06-2.06.94z\"/><path d=\"M17.41 7.96l-1.37-1.37c-.4-.4-.92-.59-1.43-.59-.52 0-1.04.2-1.43.59L10.3 9.45l-7.72 7.72c-.78.78-.78 2.05 0 2.83L4 21.41c.39.39.9.59 1.41.59.51 0 1.02-.2 1.41-.59l7.78-7.78 2.81-2.81c.8-.78.8-2.07 0-2.86zM5.41 20L4 18.59l7.72-7.72 1.47 1.35L5.41 20z\"/>\n",
              "  </svg>\n",
              "      </button>\n",
              "      \n",
              "  <style>\n",
              "    .colab-df-container {\n",
              "      display:flex;\n",
              "      flex-wrap:wrap;\n",
              "      gap: 12px;\n",
              "    }\n",
              "\n",
              "    .colab-df-convert {\n",
              "      background-color: #E8F0FE;\n",
              "      border: none;\n",
              "      border-radius: 50%;\n",
              "      cursor: pointer;\n",
              "      display: none;\n",
              "      fill: #1967D2;\n",
              "      height: 32px;\n",
              "      padding: 0 0 0 0;\n",
              "      width: 32px;\n",
              "    }\n",
              "\n",
              "    .colab-df-convert:hover {\n",
              "      background-color: #E2EBFA;\n",
              "      box-shadow: 0px 1px 2px rgba(60, 64, 67, 0.3), 0px 1px 3px 1px rgba(60, 64, 67, 0.15);\n",
              "      fill: #174EA6;\n",
              "    }\n",
              "\n",
              "    [theme=dark] .colab-df-convert {\n",
              "      background-color: #3B4455;\n",
              "      fill: #D2E3FC;\n",
              "    }\n",
              "\n",
              "    [theme=dark] .colab-df-convert:hover {\n",
              "      background-color: #434B5C;\n",
              "      box-shadow: 0px 1px 3px 1px rgba(0, 0, 0, 0.15);\n",
              "      filter: drop-shadow(0px 1px 2px rgba(0, 0, 0, 0.3));\n",
              "      fill: #FFFFFF;\n",
              "    }\n",
              "  </style>\n",
              "\n",
              "      <script>\n",
              "        const buttonEl =\n",
              "          document.querySelector('#df-bb5b4909-74c0-4a3a-8980-4824c9d215d3 button.colab-df-convert');\n",
              "        buttonEl.style.display =\n",
              "          google.colab.kernel.accessAllowed ? 'block' : 'none';\n",
              "\n",
              "        async function convertToInteractive(key) {\n",
              "          const element = document.querySelector('#df-bb5b4909-74c0-4a3a-8980-4824c9d215d3');\n",
              "          const dataTable =\n",
              "            await google.colab.kernel.invokeFunction('convertToInteractive',\n",
              "                                                     [key], {});\n",
              "          if (!dataTable) return;\n",
              "\n",
              "          const docLinkHtml = 'Like what you see? Visit the ' +\n",
              "            '<a target=\"_blank\" href=https://colab.research.google.com/notebooks/data_table.ipynb>data table notebook</a>'\n",
              "            + ' to learn more about interactive tables.';\n",
              "          element.innerHTML = '';\n",
              "          dataTable['output_type'] = 'display_data';\n",
              "          await google.colab.output.renderOutput(dataTable, element);\n",
              "          const docLink = document.createElement('div');\n",
              "          docLink.innerHTML = docLinkHtml;\n",
              "          element.appendChild(docLink);\n",
              "        }\n",
              "      </script>\n",
              "    </div>\n",
              "  </div>\n",
              "  "
            ]
          },
          "metadata": {},
          "execution_count": 13
        }
      ]
    },
    {
      "cell_type": "markdown",
      "source": [
        "-> 위의 내용은 df.descirbe(include=int).T에 대한 내용으로 int형에 대한 내용만 나왔음"
      ],
      "metadata": {
        "id": "3TaWJ8_UvIRz"
      }
    },
    {
      "cell_type": "code",
      "source": [
        "# Boxplot 그려서 분포 확인해보면 좋을 듯 \n",
        "# 1. 이상치 제거 전 (전체 데이터셋)\n",
        "# 2. 이상치 제거 후 비교"
      ],
      "metadata": {
        "id": "MoMNLLlMumeu"
      },
      "execution_count": 15,
      "outputs": []
    },
    {
      "cell_type": "markdown",
      "source": [
        "object 형에 관한 내용 살펴보기"
      ],
      "metadata": {
        "id": "Fbv-G4nGuySE"
      }
    },
    {
      "cell_type": "code",
      "source": [
        "df.describe(include=object).T"
      ],
      "metadata": {
        "colab": {
          "base_uri": "https://localhost:8080/",
          "height": 112
        },
        "id": "ZnNK5tE_Vel8",
        "outputId": "9c147160-2fa5-4434-ba3f-e2eacb968459"
      },
      "execution_count": 14,
      "outputs": [
        {
          "output_type": "execute_result",
          "data": {
            "text/plain": [
              "            count unique  top freq\n",
              "GENDER        309      2    M  162\n",
              "LUNG_CANCER   309      2  YES  270"
            ],
            "text/html": [
              "\n",
              "  <div id=\"df-ff57caa8-4fc3-410d-9c26-4786272d9566\">\n",
              "    <div class=\"colab-df-container\">\n",
              "      <div>\n",
              "<style scoped>\n",
              "    .dataframe tbody tr th:only-of-type {\n",
              "        vertical-align: middle;\n",
              "    }\n",
              "\n",
              "    .dataframe tbody tr th {\n",
              "        vertical-align: top;\n",
              "    }\n",
              "\n",
              "    .dataframe thead th {\n",
              "        text-align: right;\n",
              "    }\n",
              "</style>\n",
              "<table border=\"1\" class=\"dataframe\">\n",
              "  <thead>\n",
              "    <tr style=\"text-align: right;\">\n",
              "      <th></th>\n",
              "      <th>count</th>\n",
              "      <th>unique</th>\n",
              "      <th>top</th>\n",
              "      <th>freq</th>\n",
              "    </tr>\n",
              "  </thead>\n",
              "  <tbody>\n",
              "    <tr>\n",
              "      <th>GENDER</th>\n",
              "      <td>309</td>\n",
              "      <td>2</td>\n",
              "      <td>M</td>\n",
              "      <td>162</td>\n",
              "    </tr>\n",
              "    <tr>\n",
              "      <th>LUNG_CANCER</th>\n",
              "      <td>309</td>\n",
              "      <td>2</td>\n",
              "      <td>YES</td>\n",
              "      <td>270</td>\n",
              "    </tr>\n",
              "  </tbody>\n",
              "</table>\n",
              "</div>\n",
              "      <button class=\"colab-df-convert\" onclick=\"convertToInteractive('df-ff57caa8-4fc3-410d-9c26-4786272d9566')\"\n",
              "              title=\"Convert this dataframe to an interactive table.\"\n",
              "              style=\"display:none;\">\n",
              "        \n",
              "  <svg xmlns=\"http://www.w3.org/2000/svg\" height=\"24px\"viewBox=\"0 0 24 24\"\n",
              "       width=\"24px\">\n",
              "    <path d=\"M0 0h24v24H0V0z\" fill=\"none\"/>\n",
              "    <path d=\"M18.56 5.44l.94 2.06.94-2.06 2.06-.94-2.06-.94-.94-2.06-.94 2.06-2.06.94zm-11 1L8.5 8.5l.94-2.06 2.06-.94-2.06-.94L8.5 2.5l-.94 2.06-2.06.94zm10 10l.94 2.06.94-2.06 2.06-.94-2.06-.94-.94-2.06-.94 2.06-2.06.94z\"/><path d=\"M17.41 7.96l-1.37-1.37c-.4-.4-.92-.59-1.43-.59-.52 0-1.04.2-1.43.59L10.3 9.45l-7.72 7.72c-.78.78-.78 2.05 0 2.83L4 21.41c.39.39.9.59 1.41.59.51 0 1.02-.2 1.41-.59l7.78-7.78 2.81-2.81c.8-.78.8-2.07 0-2.86zM5.41 20L4 18.59l7.72-7.72 1.47 1.35L5.41 20z\"/>\n",
              "  </svg>\n",
              "      </button>\n",
              "      \n",
              "  <style>\n",
              "    .colab-df-container {\n",
              "      display:flex;\n",
              "      flex-wrap:wrap;\n",
              "      gap: 12px;\n",
              "    }\n",
              "\n",
              "    .colab-df-convert {\n",
              "      background-color: #E8F0FE;\n",
              "      border: none;\n",
              "      border-radius: 50%;\n",
              "      cursor: pointer;\n",
              "      display: none;\n",
              "      fill: #1967D2;\n",
              "      height: 32px;\n",
              "      padding: 0 0 0 0;\n",
              "      width: 32px;\n",
              "    }\n",
              "\n",
              "    .colab-df-convert:hover {\n",
              "      background-color: #E2EBFA;\n",
              "      box-shadow: 0px 1px 2px rgba(60, 64, 67, 0.3), 0px 1px 3px 1px rgba(60, 64, 67, 0.15);\n",
              "      fill: #174EA6;\n",
              "    }\n",
              "\n",
              "    [theme=dark] .colab-df-convert {\n",
              "      background-color: #3B4455;\n",
              "      fill: #D2E3FC;\n",
              "    }\n",
              "\n",
              "    [theme=dark] .colab-df-convert:hover {\n",
              "      background-color: #434B5C;\n",
              "      box-shadow: 0px 1px 3px 1px rgba(0, 0, 0, 0.15);\n",
              "      filter: drop-shadow(0px 1px 2px rgba(0, 0, 0, 0.3));\n",
              "      fill: #FFFFFF;\n",
              "    }\n",
              "  </style>\n",
              "\n",
              "      <script>\n",
              "        const buttonEl =\n",
              "          document.querySelector('#df-ff57caa8-4fc3-410d-9c26-4786272d9566 button.colab-df-convert');\n",
              "        buttonEl.style.display =\n",
              "          google.colab.kernel.accessAllowed ? 'block' : 'none';\n",
              "\n",
              "        async function convertToInteractive(key) {\n",
              "          const element = document.querySelector('#df-ff57caa8-4fc3-410d-9c26-4786272d9566');\n",
              "          const dataTable =\n",
              "            await google.colab.kernel.invokeFunction('convertToInteractive',\n",
              "                                                     [key], {});\n",
              "          if (!dataTable) return;\n",
              "\n",
              "          const docLinkHtml = 'Like what you see? Visit the ' +\n",
              "            '<a target=\"_blank\" href=https://colab.research.google.com/notebooks/data_table.ipynb>data table notebook</a>'\n",
              "            + ' to learn more about interactive tables.';\n",
              "          element.innerHTML = '';\n",
              "          dataTable['output_type'] = 'display_data';\n",
              "          await google.colab.output.renderOutput(dataTable, element);\n",
              "          const docLink = document.createElement('div');\n",
              "          docLink.innerHTML = docLinkHtml;\n",
              "          element.appendChild(docLink);\n",
              "        }\n",
              "      </script>\n",
              "    </div>\n",
              "  </div>\n",
              "  "
            ]
          },
          "metadata": {},
          "execution_count": 14
        }
      ]
    },
    {
      "cell_type": "markdown",
      "source": [
        "### **Null Data/ Drop Duplicate**"
      ],
      "metadata": {
        "id": "4FQP2q32x5H1"
      }
    },
    {
      "cell_type": "code",
      "source": [
        "for i in df.columns:\n",
        "  null_rate = df[i].isna().sum()/len(df)*100\n",
        "  if null_rate > 0:\n",
        "    print(f\"{i}'s null rate : {null_rate.round(2)}%\")\n",
        "  else:\n",
        "    print(f\"No null : {i}\")"
      ],
      "metadata": {
        "colab": {
          "base_uri": "https://localhost:8080/"
        },
        "id": "Cfq1u49lvd3G",
        "outputId": "b2c1f60e-2c24-40f8-c3d6-f8b9f2769f36"
      },
      "execution_count": 15,
      "outputs": [
        {
          "output_type": "stream",
          "name": "stdout",
          "text": [
            "No null : GENDER\n",
            "No null : AGE\n",
            "No null : SMOKING\n",
            "No null : YELLOW_FINGERS\n",
            "No null : ANXIETY\n",
            "No null : PEER_PRESSURE\n",
            "No null : CHRONIC DISEASE\n",
            "No null : FATIGUE \n",
            "No null : ALLERGY \n",
            "No null : WHEEZING\n",
            "No null : ALCOHOL CONSUMING\n",
            "No null : COUGHING\n",
            "No null : SHORTNESS OF BREATH\n",
            "No null : SWALLOWING DIFFICULTY\n",
            "No null : CHEST PAIN\n",
            "No null : LUNG_CANCER\n"
          ]
        }
      ]
    },
    {
      "cell_type": "code",
      "source": [
        "# 결측치의 합을 df형으로 다시 확인\n",
        "df.isna().sum().to_frame().T"
      ],
      "metadata": {
        "colab": {
          "base_uri": "https://localhost:8080/",
          "height": 162
        },
        "id": "jjaDYHX5VkJH",
        "outputId": "3e5fa764-e0f9-4b04-a7eb-f286dad22ab2"
      },
      "execution_count": 16,
      "outputs": [
        {
          "output_type": "execute_result",
          "data": {
            "text/plain": [
              "   GENDER  AGE  SMOKING  YELLOW_FINGERS  ANXIETY  PEER_PRESSURE  \\\n",
              "0       0    0        0               0        0              0   \n",
              "\n",
              "   CHRONIC DISEASE  FATIGUE   ALLERGY   WHEEZING  ALCOHOL CONSUMING  COUGHING  \\\n",
              "0                0         0         0         0                  0         0   \n",
              "\n",
              "   SHORTNESS OF BREATH  SWALLOWING DIFFICULTY  CHEST PAIN  LUNG_CANCER  \n",
              "0                    0                      0           0            0  "
            ],
            "text/html": [
              "\n",
              "  <div id=\"df-84d374fa-0e22-4962-95d4-d61281663bfd\">\n",
              "    <div class=\"colab-df-container\">\n",
              "      <div>\n",
              "<style scoped>\n",
              "    .dataframe tbody tr th:only-of-type {\n",
              "        vertical-align: middle;\n",
              "    }\n",
              "\n",
              "    .dataframe tbody tr th {\n",
              "        vertical-align: top;\n",
              "    }\n",
              "\n",
              "    .dataframe thead th {\n",
              "        text-align: right;\n",
              "    }\n",
              "</style>\n",
              "<table border=\"1\" class=\"dataframe\">\n",
              "  <thead>\n",
              "    <tr style=\"text-align: right;\">\n",
              "      <th></th>\n",
              "      <th>GENDER</th>\n",
              "      <th>AGE</th>\n",
              "      <th>SMOKING</th>\n",
              "      <th>YELLOW_FINGERS</th>\n",
              "      <th>ANXIETY</th>\n",
              "      <th>PEER_PRESSURE</th>\n",
              "      <th>CHRONIC DISEASE</th>\n",
              "      <th>FATIGUE</th>\n",
              "      <th>ALLERGY</th>\n",
              "      <th>WHEEZING</th>\n",
              "      <th>ALCOHOL CONSUMING</th>\n",
              "      <th>COUGHING</th>\n",
              "      <th>SHORTNESS OF BREATH</th>\n",
              "      <th>SWALLOWING DIFFICULTY</th>\n",
              "      <th>CHEST PAIN</th>\n",
              "      <th>LUNG_CANCER</th>\n",
              "    </tr>\n",
              "  </thead>\n",
              "  <tbody>\n",
              "    <tr>\n",
              "      <th>0</th>\n",
              "      <td>0</td>\n",
              "      <td>0</td>\n",
              "      <td>0</td>\n",
              "      <td>0</td>\n",
              "      <td>0</td>\n",
              "      <td>0</td>\n",
              "      <td>0</td>\n",
              "      <td>0</td>\n",
              "      <td>0</td>\n",
              "      <td>0</td>\n",
              "      <td>0</td>\n",
              "      <td>0</td>\n",
              "      <td>0</td>\n",
              "      <td>0</td>\n",
              "      <td>0</td>\n",
              "      <td>0</td>\n",
              "    </tr>\n",
              "  </tbody>\n",
              "</table>\n",
              "</div>\n",
              "      <button class=\"colab-df-convert\" onclick=\"convertToInteractive('df-84d374fa-0e22-4962-95d4-d61281663bfd')\"\n",
              "              title=\"Convert this dataframe to an interactive table.\"\n",
              "              style=\"display:none;\">\n",
              "        \n",
              "  <svg xmlns=\"http://www.w3.org/2000/svg\" height=\"24px\"viewBox=\"0 0 24 24\"\n",
              "       width=\"24px\">\n",
              "    <path d=\"M0 0h24v24H0V0z\" fill=\"none\"/>\n",
              "    <path d=\"M18.56 5.44l.94 2.06.94-2.06 2.06-.94-2.06-.94-.94-2.06-.94 2.06-2.06.94zm-11 1L8.5 8.5l.94-2.06 2.06-.94-2.06-.94L8.5 2.5l-.94 2.06-2.06.94zm10 10l.94 2.06.94-2.06 2.06-.94-2.06-.94-.94-2.06-.94 2.06-2.06.94z\"/><path d=\"M17.41 7.96l-1.37-1.37c-.4-.4-.92-.59-1.43-.59-.52 0-1.04.2-1.43.59L10.3 9.45l-7.72 7.72c-.78.78-.78 2.05 0 2.83L4 21.41c.39.39.9.59 1.41.59.51 0 1.02-.2 1.41-.59l7.78-7.78 2.81-2.81c.8-.78.8-2.07 0-2.86zM5.41 20L4 18.59l7.72-7.72 1.47 1.35L5.41 20z\"/>\n",
              "  </svg>\n",
              "      </button>\n",
              "      \n",
              "  <style>\n",
              "    .colab-df-container {\n",
              "      display:flex;\n",
              "      flex-wrap:wrap;\n",
              "      gap: 12px;\n",
              "    }\n",
              "\n",
              "    .colab-df-convert {\n",
              "      background-color: #E8F0FE;\n",
              "      border: none;\n",
              "      border-radius: 50%;\n",
              "      cursor: pointer;\n",
              "      display: none;\n",
              "      fill: #1967D2;\n",
              "      height: 32px;\n",
              "      padding: 0 0 0 0;\n",
              "      width: 32px;\n",
              "    }\n",
              "\n",
              "    .colab-df-convert:hover {\n",
              "      background-color: #E2EBFA;\n",
              "      box-shadow: 0px 1px 2px rgba(60, 64, 67, 0.3), 0px 1px 3px 1px rgba(60, 64, 67, 0.15);\n",
              "      fill: #174EA6;\n",
              "    }\n",
              "\n",
              "    [theme=dark] .colab-df-convert {\n",
              "      background-color: #3B4455;\n",
              "      fill: #D2E3FC;\n",
              "    }\n",
              "\n",
              "    [theme=dark] .colab-df-convert:hover {\n",
              "      background-color: #434B5C;\n",
              "      box-shadow: 0px 1px 3px 1px rgba(0, 0, 0, 0.15);\n",
              "      filter: drop-shadow(0px 1px 2px rgba(0, 0, 0, 0.3));\n",
              "      fill: #FFFFFF;\n",
              "    }\n",
              "  </style>\n",
              "\n",
              "      <script>\n",
              "        const buttonEl =\n",
              "          document.querySelector('#df-84d374fa-0e22-4962-95d4-d61281663bfd button.colab-df-convert');\n",
              "        buttonEl.style.display =\n",
              "          google.colab.kernel.accessAllowed ? 'block' : 'none';\n",
              "\n",
              "        async function convertToInteractive(key) {\n",
              "          const element = document.querySelector('#df-84d374fa-0e22-4962-95d4-d61281663bfd');\n",
              "          const dataTable =\n",
              "            await google.colab.kernel.invokeFunction('convertToInteractive',\n",
              "                                                     [key], {});\n",
              "          if (!dataTable) return;\n",
              "\n",
              "          const docLinkHtml = 'Like what you see? Visit the ' +\n",
              "            '<a target=\"_blank\" href=https://colab.research.google.com/notebooks/data_table.ipynb>data table notebook</a>'\n",
              "            + ' to learn more about interactive tables.';\n",
              "          element.innerHTML = '';\n",
              "          dataTable['output_type'] = 'display_data';\n",
              "          await google.colab.output.renderOutput(dataTable, element);\n",
              "          const docLink = document.createElement('div');\n",
              "          docLink.innerHTML = docLinkHtml;\n",
              "          element.appendChild(docLink);\n",
              "        }\n",
              "      </script>\n",
              "    </div>\n",
              "  </div>\n",
              "  "
            ]
          },
          "metadata": {},
          "execution_count": 16
        }
      ]
    },
    {
      "cell_type": "code",
      "source": [
        "# 중복 데이터 개수\n",
        "print(f'중복된 데이터 개수 : {df[df.duplicated()].shape[0]}')"
      ],
      "metadata": {
        "colab": {
          "base_uri": "https://localhost:8080/"
        },
        "id": "Ml-sRo4iWFhe",
        "outputId": "354129a1-b452-4278-9841-6e5f805756cc"
      },
      "execution_count": 17,
      "outputs": [
        {
          "output_type": "stream",
          "name": "stdout",
          "text": [
            "중복된 데이터 개수 : 33\n"
          ]
        }
      ]
    },
    {
      "cell_type": "code",
      "source": [
        "# 중복된 데이터 중 첫번째만 남기고 제거\n",
        "df.drop_duplicates(keep='first', inplace=True)\n",
        "\n",
        "print(f'중복된 데이터를 제고하고 남은 데이터 개수는 : {df.shape[0]}')"
      ],
      "metadata": {
        "colab": {
          "base_uri": "https://localhost:8080/"
        },
        "id": "K2YsESYQWu4Y",
        "outputId": "e30fd202-8abd-4b77-fa83-b4726f80180c"
      },
      "execution_count": 18,
      "outputs": [
        {
          "output_type": "stream",
          "name": "stdout",
          "text": [
            "중복된 데이터를 제고하고 남은 데이터 개수는 : 276\n"
          ]
        }
      ]
    },
    {
      "cell_type": "markdown",
      "source": [
        "# Visualization"
      ],
      "metadata": {
        "id": "d8S9g7cIyCb-"
      }
    },
    {
      "cell_type": "markdown",
      "source": [
        "**custom palette for visualization**"
      ],
      "metadata": {
        "id": "90sEE9TIyHp1"
      }
    },
    {
      "cell_type": "code",
      "source": [
        "sns.set_style('whitegrid')                # whitegrid\n",
        "sns.set_context('poster', font_scale=.7)  # poster(큰 사이즈), font_scale은 0.7\n",
        "'''\n",
        "------------------------------------------------------------------------------\n",
        "# set_style : 그림의 전반적 모양 스타일링\n",
        "  background color, grid, spine, tick 정의\n",
        "  ㄴ default  : darkgrid\n",
        "  ㄴ 변경     :\n",
        "          1) Background color : dark, white\n",
        "          2) Grid             : whitegrid, darkgrid\n",
        "          3) Despine(축/테두리 제거)\n",
        "              ㄴ spine : left, right, top, bottom\n",
        "              ㄴ 1) default : top, right 제거\n",
        "              ㄴ 2) sns.despine(left=True)  # left도 제거\n",
        "              ㄴ 3) sns.despine(bottom=True)# bottom도 제거\n",
        "\n",
        "-------------------------------------------------------------------------------\n",
        "# set_context : 다양한 매체에 활용할 수 있도록 스타일링\n",
        "  ㄴ 네 종류의 스케일(사이즈) 선택 가능\n",
        "  ㄴ 스케일(사이즈) 종류 : paper, notebook, talk, poster\n",
        "  ㄴ default : notebook\n",
        "      ㄴ # paper  : 작은 스케일\n",
        "      ㄴ # poster : 글씨가 조금씩 커짐 \n",
        "\n",
        "  --------------------------------------------------------------------------\n",
        "  ### 디테일하게 조정하고 싶을 때:\n",
        "     sns.set_context()안에 rc 파라미터를 딕셔너리 형태로 넣어줌 (run command)\n",
        "     ex) sns.set_context(\"poster\", font_scale=1, rc={\"grid.linewidth\":5})\n",
        "\n",
        "     ### rc 파라미터 종류\n",
        "     {'axes.labelsize': 17.6,\n",
        "      'axes.titlesize': 19.200000000000003,\n",
        "      'font.size': 19.200000000000003,\n",
        "      'grid.linewidth': 1.6,\n",
        "      'legend.fontsize': 16.0,\n",
        "      'lines.linewidth': 2.8000000000000003,\n",
        "      'lines.markeredgewidth': 0.0,\n",
        "      'lines.markersize': 11.200000000000001,\n",
        "      'patch.linewidth': 0.48,\n",
        "      'xtick.labelsize': 16.0,\n",
        "      'xtick.major.pad': 11.200000000000001,\n",
        "      'xtick.major.width': 1.6,\n",
        "      'xtick.minor.width': 0.8,\n",
        "      'ytick.labelsize': 16.0,\n",
        "      'ytick.major.pad': 11.200000000000001,\n",
        "      'ytick.major.width': 1.6,\n",
        "      'ytick.minor.width': 0.8}\n",
        "'''"
      ],
      "metadata": {
        "id": "jLChZzoiXO-z",
        "colab": {
          "base_uri": "https://localhost:8080/",
          "height": 208
        },
        "outputId": "9776d175-68ea-46eb-fb48-5c4ec2d501b5"
      },
      "execution_count": 19,
      "outputs": [
        {
          "output_type": "execute_result",
          "data": {
            "text/plain": [
              "'\\n------------------------------------------------------------------------------\\n# set_style : 그림의 전반적 모양 스타일링\\n  background color, grid, spine, tick 정의\\n  ㄴ default  : darkgrid\\n  ㄴ 변경     :\\n          1) Background color : dark, white\\n          2) Grid             : whitegrid, darkgrid\\n          3) Despine(축/테두리 제거)\\n              ㄴ spine : left, right, top, bottom\\n              ㄴ 1) default : top, right 제거\\n              ㄴ 2) sns.despine(left=True)  # left도 제거\\n              ㄴ 3) sns.despine(bottom=True)# bottom도 제거\\n\\n-------------------------------------------------------------------------------\\n# set_context : 다양한 매체에 활용할 수 있도록 스타일링\\n  ㄴ 네 종류의 스케일(사이즈) 선택 가능\\n  ㄴ 스케일(사이즈) 종류 : paper, notebook, talk, poster\\n  ㄴ default : notebook\\n      ㄴ # paper  : 작은 스케일\\n      ㄴ # poster : 글씨가 조금씩 커짐 \\n\\n  --------------------------------------------------------------------------\\n  ### 디테일하게 조정하고 싶을 때:\\n     sns.set_context()안에 rc 파라미터를 딕셔너리 형태로 넣어줌 (run command)\\n     ex) sns.set_context(\"poster\", font_scale=1, rc={\"grid.linewidth\":5})\\n\\n     ### rc 파라미터 종류\\n     {\\'axes.labelsize\\': 17.6,\\n      \\'axes.titlesize\\': 19.200000000000003,\\n      \\'font.size\\': 19.200000000000003,\\n      \\'grid.linewidth\\': 1.6,\\n      \\'legend.fontsize\\': 16.0,\\n      \\'lines.linewidth\\': 2.8000000000000003,\\n      \\'lines.markeredgewidth\\': 0.0,\\n      \\'lines.markersize\\': 11.200000000000001,\\n      \\'patch.linewidth\\': 0.48,\\n      \\'xtick.labelsize\\': 16.0,\\n      \\'xtick.major.pad\\': 11.200000000000001,\\n      \\'xtick.major.width\\': 1.6,\\n      \\'xtick.minor.width\\': 0.8,\\n      \\'ytick.labelsize\\': 16.0,\\n      \\'ytick.major.pad\\': 11.200000000000001,\\n      \\'ytick.major.width\\': 1.6,\\n      \\'ytick.minor.width\\': 0.8}\\n'"
            ],
            "application/vnd.google.colaboratory.intrinsic+json": {
              "type": "string"
            }
          },
          "metadata": {},
          "execution_count": 19
        }
      ]
    },
    {
      "cell_type": "markdown",
      "source": [
        "참조: https://hleecaster.com/python-seaborn-set-style-and-context/"
      ],
      "metadata": {
        "id": "txjYanrv17IJ"
      }
    },
    {
      "cell_type": "code",
      "source": [
        "palette=  [\"#1d7874\",\"#679289\",\"#f4c095\",\"#ee2e31\",\"#ffb563\",\"#918450\",\"#f85e00\",\"#a41623\",\"#9a031e\",\"#d6d6d6\",\"#ffee32\",\"#ffd100\",\"#333533\",\"#202020\"]"
      ],
      "metadata": {
        "id": "AtjETf1J3SEb"
      },
      "execution_count": 20,
      "outputs": []
    },
    {
      "cell_type": "markdown",
      "source": [
        "sns.palplot을 통해 저장한 팔레트 불러올 수 있음"
      ],
      "metadata": {
        "id": "hUzDmeC64DFq"
      }
    },
    {
      "cell_type": "code",
      "source": [
        "sns.palplot(sns.color_palette(palette))"
      ],
      "metadata": {
        "colab": {
          "base_uri": "https://localhost:8080/",
          "height": 81
        },
        "id": "-ccWWPM1XbCZ",
        "outputId": "0e9a6680-f35e-4f53-c8bc-7bfb0298d32f"
      },
      "execution_count": 21,
      "outputs": [
        {
          "output_type": "display_data",
          "data": {
            "text/plain": [
              "<Figure size 1008x72 with 1 Axes>"
            ],
            "image/png": "[encoded data removed]"
          },
          "metadata": {}
        }
      ]
    },
    {
      "cell_type": "markdown",
      "source": [
        "palette 관련 스터디 추가 참조 자료 : https://hleecaster.com/python-seaborn-color/ "
      ],
      "metadata": {
        "id": "M9Kv-IzN3biz"
      }
    },
    {
      "cell_type": "markdown",
      "source": [
        "# Digging Deeper"
      ],
      "metadata": {
        "id": "Qv5cmJ_7XsTm"
      }
    },
    {
      "cell_type": "code",
      "source": [
        "# df 보존을 위해 copy해 df_temp 만들어 사용\n",
        "df_temp = df.copy()\n",
        "df_temp.head(3)"
      ],
      "metadata": {
        "colab": {
          "base_uri": "https://localhost:8080/",
          "height": 225
        },
        "id": "G89kKiDx47gC",
        "outputId": "e594d459-8ccd-45d9-90f6-78aa41251659"
      },
      "execution_count": 22,
      "outputs": [
        {
          "output_type": "execute_result",
          "data": {
            "text/plain": [
              "  GENDER  AGE  SMOKING  YELLOW_FINGERS  ANXIETY  PEER_PRESSURE  \\\n",
              "0      M   69        1               2        2              1   \n",
              "1      M   74        2               1        1              1   \n",
              "2      F   59        1               1        1              2   \n",
              "\n",
              "   CHRONIC DISEASE  FATIGUE   ALLERGY   WHEEZING  ALCOHOL CONSUMING  COUGHING  \\\n",
              "0                1         2         1         2                  2         2   \n",
              "1                2         2         2         1                  1         1   \n",
              "2                1         2         1         2                  1         2   \n",
              "\n",
              "   SHORTNESS OF BREATH  SWALLOWING DIFFICULTY  CHEST PAIN LUNG_CANCER  \n",
              "0                    2                      2           2         YES  \n",
              "1                    2                      2           2         YES  \n",
              "2                    2                      1           2          NO  "
            ],
            "text/html": [
              "\n",
              "  <div id=\"df-a92560e3-b205-4ce1-b8e4-a5d040b27123\">\n",
              "    <div class=\"colab-df-container\">\n",
              "      <div>\n",
              "<style scoped>\n",
              "    .dataframe tbody tr th:only-of-type {\n",
              "        vertical-align: middle;\n",
              "    }\n",
              "\n",
              "    .dataframe tbody tr th {\n",
              "        vertical-align: top;\n",
              "    }\n",
              "\n",
              "    .dataframe thead th {\n",
              "        text-align: right;\n",
              "    }\n",
              "</style>\n",
              "<table border=\"1\" class=\"dataframe\">\n",
              "  <thead>\n",
              "    <tr style=\"text-align: right;\">\n",
              "      <th></th>\n",
              "      <th>GENDER</th>\n",
              "      <th>AGE</th>\n",
              "      <th>SMOKING</th>\n",
              "      <th>YELLOW_FINGERS</th>\n",
              "      <th>ANXIETY</th>\n",
              "      <th>PEER_PRESSURE</th>\n",
              "      <th>CHRONIC DISEASE</th>\n",
              "      <th>FATIGUE</th>\n",
              "      <th>ALLERGY</th>\n",
              "      <th>WHEEZING</th>\n",
              "      <th>ALCOHOL CONSUMING</th>\n",
              "      <th>COUGHING</th>\n",
              "      <th>SHORTNESS OF BREATH</th>\n",
              "      <th>SWALLOWING DIFFICULTY</th>\n",
              "      <th>CHEST PAIN</th>\n",
              "      <th>LUNG_CANCER</th>\n",
              "    </tr>\n",
              "  </thead>\n",
              "  <tbody>\n",
              "    <tr>\n",
              "      <th>0</th>\n",
              "      <td>M</td>\n",
              "      <td>69</td>\n",
              "      <td>1</td>\n",
              "      <td>2</td>\n",
              "      <td>2</td>\n",
              "      <td>1</td>\n",
              "      <td>1</td>\n",
              "      <td>2</td>\n",
              "      <td>1</td>\n",
              "      <td>2</td>\n",
              "      <td>2</td>\n",
              "      <td>2</td>\n",
              "      <td>2</td>\n",
              "      <td>2</td>\n",
              "      <td>2</td>\n",
              "      <td>YES</td>\n",
              "    </tr>\n",
              "    <tr>\n",
              "      <th>1</th>\n",
              "      <td>M</td>\n",
              "      <td>74</td>\n",
              "      <td>2</td>\n",
              "      <td>1</td>\n",
              "      <td>1</td>\n",
              "      <td>1</td>\n",
              "      <td>2</td>\n",
              "      <td>2</td>\n",
              "      <td>2</td>\n",
              "      <td>1</td>\n",
              "      <td>1</td>\n",
              "      <td>1</td>\n",
              "      <td>2</td>\n",
              "      <td>2</td>\n",
              "      <td>2</td>\n",
              "      <td>YES</td>\n",
              "    </tr>\n",
              "    <tr>\n",
              "      <th>2</th>\n",
              "      <td>F</td>\n",
              "      <td>59</td>\n",
              "      <td>1</td>\n",
              "      <td>1</td>\n",
              "      <td>1</td>\n",
              "      <td>2</td>\n",
              "      <td>1</td>\n",
              "      <td>2</td>\n",
              "      <td>1</td>\n",
              "      <td>2</td>\n",
              "      <td>1</td>\n",
              "      <td>2</td>\n",
              "      <td>2</td>\n",
              "      <td>1</td>\n",
              "      <td>2</td>\n",
              "      <td>NO</td>\n",
              "    </tr>\n",
              "  </tbody>\n",
              "</table>\n",
              "</div>\n",
              "      <button class=\"colab-df-convert\" onclick=\"convertToInteractive('df-a92560e3-b205-4ce1-b8e4-a5d040b27123')\"\n",
              "              title=\"Convert this dataframe to an interactive table.\"\n",
              "              style=\"display:none;\">\n",
              "        \n",
              "  <svg xmlns=\"http://www.w3.org/2000/svg\" height=\"24px\"viewBox=\"0 0 24 24\"\n",
              "       width=\"24px\">\n",
              "    <path d=\"M0 0h24v24H0V0z\" fill=\"none\"/>\n",
              "    <path d=\"M18.56 5.44l.94 2.06.94-2.06 2.06-.94-2.06-.94-.94-2.06-.94 2.06-2.06.94zm-11 1L8.5 8.5l.94-2.06 2.06-.94-2.06-.94L8.5 2.5l-.94 2.06-2.06.94zm10 10l.94 2.06.94-2.06 2.06-.94-2.06-.94-.94-2.06-.94 2.06-2.06.94z\"/><path d=\"M17.41 7.96l-1.37-1.37c-.4-.4-.92-.59-1.43-.59-.52 0-1.04.2-1.43.59L10.3 9.45l-7.72 7.72c-.78.78-.78 2.05 0 2.83L4 21.41c.39.39.9.59 1.41.59.51 0 1.02-.2 1.41-.59l7.78-7.78 2.81-2.81c.8-.78.8-2.07 0-2.86zM5.41 20L4 18.59l7.72-7.72 1.47 1.35L5.41 20z\"/>\n",
              "  </svg>\n",
              "      </button>\n",
              "      \n",
              "  <style>\n",
              "    .colab-df-container {\n",
              "      display:flex;\n",
              "      flex-wrap:wrap;\n",
              "      gap: 12px;\n",
              "    }\n",
              "\n",
              "    .colab-df-convert {\n",
              "      background-color: #E8F0FE;\n",
              "      border: none;\n",
              "      border-radius: 50%;\n",
              "      cursor: pointer;\n",
              "      display: none;\n",
              "      fill: #1967D2;\n",
              "      height: 32px;\n",
              "      padding: 0 0 0 0;\n",
              "      width: 32px;\n",
              "    }\n",
              "\n",
              "    .colab-df-convert:hover {\n",
              "      background-color: #E2EBFA;\n",
              "      box-shadow: 0px 1px 2px rgba(60, 64, 67, 0.3), 0px 1px 3px 1px rgba(60, 64, 67, 0.15);\n",
              "      fill: #174EA6;\n",
              "    }\n",
              "\n",
              "    [theme=dark] .colab-df-convert {\n",
              "      background-color: #3B4455;\n",
              "      fill: #D2E3FC;\n",
              "    }\n",
              "\n",
              "    [theme=dark] .colab-df-convert:hover {\n",
              "      background-color: #434B5C;\n",
              "      box-shadow: 0px 1px 3px 1px rgba(0, 0, 0, 0.15);\n",
              "      filter: drop-shadow(0px 1px 2px rgba(0, 0, 0, 0.3));\n",
              "      fill: #FFFFFF;\n",
              "    }\n",
              "  </style>\n",
              "\n",
              "      <script>\n",
              "        const buttonEl =\n",
              "          document.querySelector('#df-a92560e3-b205-4ce1-b8e4-a5d040b27123 button.colab-df-convert');\n",
              "        buttonEl.style.display =\n",
              "          google.colab.kernel.accessAllowed ? 'block' : 'none';\n",
              "\n",
              "        async function convertToInteractive(key) {\n",
              "          const element = document.querySelector('#df-a92560e3-b205-4ce1-b8e4-a5d040b27123');\n",
              "          const dataTable =\n",
              "            await google.colab.kernel.invokeFunction('convertToInteractive',\n",
              "                                                     [key], {});\n",
              "          if (!dataTable) return;\n",
              "\n",
              "          const docLinkHtml = 'Like what you see? Visit the ' +\n",
              "            '<a target=\"_blank\" href=https://colab.research.google.com/notebooks/data_table.ipynb>data table notebook</a>'\n",
              "            + ' to learn more about interactive tables.';\n",
              "          element.innerHTML = '';\n",
              "          dataTable['output_type'] = 'display_data';\n",
              "          await google.colab.output.renderOutput(dataTable, element);\n",
              "          const docLink = document.createElement('div');\n",
              "          docLink.innerHTML = docLinkHtml;\n",
              "          element.appendChild(docLink);\n",
              "        }\n",
              "      </script>\n",
              "    </div>\n",
              "  </div>\n",
              "  "
            ]
          },
          "metadata": {},
          "execution_count": 22
        }
      ]
    },
    {
      "cell_type": "markdown",
      "source": [
        "- GENDER 변경 가능\n",
        "- 1, 2로 카테고리 분류되어 있는 것 변경 가능"
      ],
      "metadata": {
        "id": "i1WD9MYA5CHV"
      }
    },
    {
      "cell_type": "code",
      "source": [
        "# M -> Male, F -> Female\n",
        "df_temp['GENDER'] = df_temp['GENDER'].replace({'M':'Male', 'F':'Female'})\n",
        "\n",
        "# 2: Yes , 1: No 변경\n",
        "for col in df_temp.columns:\n",
        "  df_temp[col] = df_temp[col].replace({2:'YES', 1:'NO'})\n",
        "\n",
        "df_temp.head()"
      ],
      "metadata": {
        "colab": {
          "base_uri": "https://localhost:8080/",
          "height": 287
        },
        "id": "i3WlAMvAXgwO",
        "outputId": "46608496-962c-43d2-ff07-ffe3895692d7"
      },
      "execution_count": 23,
      "outputs": [
        {
          "output_type": "execute_result",
          "data": {
            "text/plain": [
              "   GENDER  AGE SMOKING YELLOW_FINGERS ANXIETY PEER_PRESSURE CHRONIC DISEASE  \\\n",
              "0    Male   69      NO            YES     YES            NO              NO   \n",
              "1    Male   74     YES             NO      NO            NO             YES   \n",
              "2  Female   59      NO             NO      NO           YES              NO   \n",
              "3    Male   63     YES            YES     YES            NO              NO   \n",
              "4  Female   63      NO            YES      NO            NO              NO   \n",
              "\n",
              "  FATIGUE  ALLERGY  WHEEZING ALCOHOL CONSUMING COUGHING SHORTNESS OF BREATH  \\\n",
              "0      YES       NO      YES               YES      YES                 YES   \n",
              "1      YES      YES       NO                NO       NO                 YES   \n",
              "2      YES       NO      YES                NO      YES                 YES   \n",
              "3       NO       NO       NO               YES       NO                  NO   \n",
              "4       NO       NO      YES                NO      YES                 YES   \n",
              "\n",
              "  SWALLOWING DIFFICULTY CHEST PAIN LUNG_CANCER  \n",
              "0                   YES        YES         YES  \n",
              "1                   YES        YES         YES  \n",
              "2                    NO        YES          NO  \n",
              "3                   YES        YES          NO  \n",
              "4                    NO         NO          NO  "
            ],
            "text/html": [
              "\n",
              "  <div id=\"df-8af20f20-5088-4983-a736-9738757335c8\">\n",
              "    <div class=\"colab-df-container\">\n",
              "      <div>\n",
              "<style scoped>\n",
              "    .dataframe tbody tr th:only-of-type {\n",
              "        vertical-align: middle;\n",
              "    }\n",
              "\n",
              "    .dataframe tbody tr th {\n",
              "        vertical-align: top;\n",
              "    }\n",
              "\n",
              "    .dataframe thead th {\n",
              "        text-align: right;\n",
              "    }\n",
              "</style>\n",
              "<table border=\"1\" class=\"dataframe\">\n",
              "  <thead>\n",
              "    <tr style=\"text-align: right;\">\n",
              "      <th></th>\n",
              "      <th>GENDER</th>\n",
              "      <th>AGE</th>\n",
              "      <th>SMOKING</th>\n",
              "      <th>YELLOW_FINGERS</th>\n",
              "      <th>ANXIETY</th>\n",
              "      <th>PEER_PRESSURE</th>\n",
              "      <th>CHRONIC DISEASE</th>\n",
              "      <th>FATIGUE</th>\n",
              "      <th>ALLERGY</th>\n",
              "      <th>WHEEZING</th>\n",
              "      <th>ALCOHOL CONSUMING</th>\n",
              "      <th>COUGHING</th>\n",
              "      <th>SHORTNESS OF BREATH</th>\n",
              "      <th>SWALLOWING DIFFICULTY</th>\n",
              "      <th>CHEST PAIN</th>\n",
              "      <th>LUNG_CANCER</th>\n",
              "    </tr>\n",
              "  </thead>\n",
              "  <tbody>\n",
              "    <tr>\n",
              "      <th>0</th>\n",
              "      <td>Male</td>\n",
              "      <td>69</td>\n",
              "      <td>NO</td>\n",
              "      <td>YES</td>\n",
              "      <td>YES</td>\n",
              "      <td>NO</td>\n",
              "      <td>NO</td>\n",
              "      <td>YES</td>\n",
              "      <td>NO</td>\n",
              "      <td>YES</td>\n",
              "      <td>YES</td>\n",
              "      <td>YES</td>\n",
              "      <td>YES</td>\n",
              "      <td>YES</td>\n",
              "      <td>YES</td>\n",
              "      <td>YES</td>\n",
              "    </tr>\n",
              "    <tr>\n",
              "      <th>1</th>\n",
              "      <td>Male</td>\n",
              "      <td>74</td>\n",
              "      <td>YES</td>\n",
              "      <td>NO</td>\n",
              "      <td>NO</td>\n",
              "      <td>NO</td>\n",
              "      <td>YES</td>\n",
              "      <td>YES</td>\n",
              "      <td>YES</td>\n",
              "      <td>NO</td>\n",
              "      <td>NO</td>\n",
              "      <td>NO</td>\n",
              "      <td>YES</td>\n",
              "      <td>YES</td>\n",
              "      <td>YES</td>\n",
              "      <td>YES</td>\n",
              "    </tr>\n",
              "    <tr>\n",
              "      <th>2</th>\n",
              "      <td>Female</td>\n",
              "      <td>59</td>\n",
              "      <td>NO</td>\n",
              "      <td>NO</td>\n",
              "      <td>NO</td>\n",
              "      <td>YES</td>\n",
              "      <td>NO</td>\n",
              "      <td>YES</td>\n",
              "      <td>NO</td>\n",
              "      <td>YES</td>\n",
              "      <td>NO</td>\n",
              "      <td>YES</td>\n",
              "      <td>YES</td>\n",
              "      <td>NO</td>\n",
              "      <td>YES</td>\n",
              "      <td>NO</td>\n",
              "    </tr>\n",
              "    <tr>\n",
              "      <th>3</th>\n",
              "      <td>Male</td>\n",
              "      <td>63</td>\n",
              "      <td>YES</td>\n",
              "      <td>YES</td>\n",
              "      <td>YES</td>\n",
              "      <td>NO</td>\n",
              "      <td>NO</td>\n",
              "      <td>NO</td>\n",
              "      <td>NO</td>\n",
              "      <td>NO</td>\n",
              "      <td>YES</td>\n",
              "      <td>NO</td>\n",
              "      <td>NO</td>\n",
              "      <td>YES</td>\n",
              "      <td>YES</td>\n",
              "      <td>NO</td>\n",
              "    </tr>\n",
              "    <tr>\n",
              "      <th>4</th>\n",
              "      <td>Female</td>\n",
              "      <td>63</td>\n",
              "      <td>NO</td>\n",
              "      <td>YES</td>\n",
              "      <td>NO</td>\n",
              "      <td>NO</td>\n",
              "      <td>NO</td>\n",
              "      <td>NO</td>\n",
              "      <td>NO</td>\n",
              "      <td>YES</td>\n",
              "      <td>NO</td>\n",
              "      <td>YES</td>\n",
              "      <td>YES</td>\n",
              "      <td>NO</td>\n",
              "      <td>NO</td>\n",
              "      <td>NO</td>\n",
              "    </tr>\n",
              "  </tbody>\n",
              "</table>\n",
              "</div>\n",
              "      <button class=\"colab-df-convert\" onclick=\"convertToInteractive('df-8af20f20-5088-4983-a736-9738757335c8')\"\n",
              "              title=\"Convert this dataframe to an interactive table.\"\n",
              "              style=\"display:none;\">\n",
              "        \n",
              "  <svg xmlns=\"http://www.w3.org/2000/svg\" height=\"24px\"viewBox=\"0 0 24 24\"\n",
              "       width=\"24px\">\n",
              "    <path d=\"M0 0h24v24H0V0z\" fill=\"none\"/>\n",
              "    <path d=\"M18.56 5.44l.94 2.06.94-2.06 2.06-.94-2.06-.94-.94-2.06-.94 2.06-2.06.94zm-11 1L8.5 8.5l.94-2.06 2.06-.94-2.06-.94L8.5 2.5l-.94 2.06-2.06.94zm10 10l.94 2.06.94-2.06 2.06-.94-2.06-.94-.94-2.06-.94 2.06-2.06.94z\"/><path d=\"M17.41 7.96l-1.37-1.37c-.4-.4-.92-.59-1.43-.59-.52 0-1.04.2-1.43.59L10.3 9.45l-7.72 7.72c-.78.78-.78 2.05 0 2.83L4 21.41c.39.39.9.59 1.41.59.51 0 1.02-.2 1.41-.59l7.78-7.78 2.81-2.81c.8-.78.8-2.07 0-2.86zM5.41 20L4 18.59l7.72-7.72 1.47 1.35L5.41 20z\"/>\n",
              "  </svg>\n",
              "      </button>\n",
              "      \n",
              "  <style>\n",
              "    .colab-df-container {\n",
              "      display:flex;\n",
              "      flex-wrap:wrap;\n",
              "      gap: 12px;\n",
              "    }\n",
              "\n",
              "    .colab-df-convert {\n",
              "      background-color: #E8F0FE;\n",
              "      border: none;\n",
              "      border-radius: 50%;\n",
              "      cursor: pointer;\n",
              "      display: none;\n",
              "      fill: #1967D2;\n",
              "      height: 32px;\n",
              "      padding: 0 0 0 0;\n",
              "      width: 32px;\n",
              "    }\n",
              "\n",
              "    .colab-df-convert:hover {\n",
              "      background-color: #E2EBFA;\n",
              "      box-shadow: 0px 1px 2px rgba(60, 64, 67, 0.3), 0px 1px 3px 1px rgba(60, 64, 67, 0.15);\n",
              "      fill: #174EA6;\n",
              "    }\n",
              "\n",
              "    [theme=dark] .colab-df-convert {\n",
              "      background-color: #3B4455;\n",
              "      fill: #D2E3FC;\n",
              "    }\n",
              "\n",
              "    [theme=dark] .colab-df-convert:hover {\n",
              "      background-color: #434B5C;\n",
              "      box-shadow: 0px 1px 3px 1px rgba(0, 0, 0, 0.15);\n",
              "      filter: drop-shadow(0px 1px 2px rgba(0, 0, 0, 0.3));\n",
              "      fill: #FFFFFF;\n",
              "    }\n",
              "  </style>\n",
              "\n",
              "      <script>\n",
              "        const buttonEl =\n",
              "          document.querySelector('#df-8af20f20-5088-4983-a736-9738757335c8 button.colab-df-convert');\n",
              "        buttonEl.style.display =\n",
              "          google.colab.kernel.accessAllowed ? 'block' : 'none';\n",
              "\n",
              "        async function convertToInteractive(key) {\n",
              "          const element = document.querySelector('#df-8af20f20-5088-4983-a736-9738757335c8');\n",
              "          const dataTable =\n",
              "            await google.colab.kernel.invokeFunction('convertToInteractive',\n",
              "                                                     [key], {});\n",
              "          if (!dataTable) return;\n",
              "\n",
              "          const docLinkHtml = 'Like what you see? Visit the ' +\n",
              "            '<a target=\"_blank\" href=https://colab.research.google.com/notebooks/data_table.ipynb>data table notebook</a>'\n",
              "            + ' to learn more about interactive tables.';\n",
              "          element.innerHTML = '';\n",
              "          dataTable['output_type'] = 'display_data';\n",
              "          await google.colab.output.renderOutput(dataTable, element);\n",
              "          const docLink = document.createElement('div');\n",
              "          docLink.innerHTML = docLinkHtml;\n",
              "          element.appendChild(docLink);\n",
              "        }\n",
              "      </script>\n",
              "    </div>\n",
              "  </div>\n",
              "  "
            ]
          },
          "metadata": {},
          "execution_count": 23
        }
      ]
    },
    {
      "cell_type": "markdown",
      "source": [
        "## Lung Cancer 양성"
      ],
      "metadata": {
        "id": "iYPrHiqTY-SI"
      }
    },
    {
      "cell_type": "code",
      "source": [
        "df_temp_pos = df_temp[df_temp['LUNG_CANCER']=='YES']\n",
        "df_temp_pos.head()"
      ],
      "metadata": {
        "colab": {
          "base_uri": "https://localhost:8080/",
          "height": 287
        },
        "id": "92mBf07GYGIw",
        "outputId": "4b989e8c-7920-4216-bd85-3fb88c9eb9cd"
      },
      "execution_count": 24,
      "outputs": [
        {
          "output_type": "execute_result",
          "data": {
            "text/plain": [
              "   GENDER  AGE SMOKING YELLOW_FINGERS ANXIETY PEER_PRESSURE CHRONIC DISEASE  \\\n",
              "0    Male   69      NO            YES     YES            NO              NO   \n",
              "1    Male   74     YES             NO      NO            NO             YES   \n",
              "5  Female   75      NO            YES      NO            NO             YES   \n",
              "6    Male   52     YES             NO      NO            NO              NO   \n",
              "7  Female   51     YES            YES     YES           YES              NO   \n",
              "\n",
              "  FATIGUE  ALLERGY  WHEEZING ALCOHOL CONSUMING COUGHING SHORTNESS OF BREATH  \\\n",
              "0      YES       NO      YES               YES      YES                 YES   \n",
              "1      YES      YES       NO                NO       NO                 YES   \n",
              "5      YES      YES      YES                NO      YES                 YES   \n",
              "6      YES       NO      YES               YES      YES                 YES   \n",
              "7      YES      YES       NO                NO       NO                 YES   \n",
              "\n",
              "  SWALLOWING DIFFICULTY CHEST PAIN LUNG_CANCER  \n",
              "0                   YES        YES         YES  \n",
              "1                   YES        YES         YES  \n",
              "5                    NO         NO         YES  \n",
              "6                    NO        YES         YES  \n",
              "7                   YES         NO         YES  "
            ],
            "text/html": [
              "\n",
              "  <div id=\"df-4bfbd066-0b97-4bb0-82ff-34576e2acd35\">\n",
              "    <div class=\"colab-df-container\">\n",
              "      <div>\n",
              "<style scoped>\n",
              "    .dataframe tbody tr th:only-of-type {\n",
              "        vertical-align: middle;\n",
              "    }\n",
              "\n",
              "    .dataframe tbody tr th {\n",
              "        vertical-align: top;\n",
              "    }\n",
              "\n",
              "    .dataframe thead th {\n",
              "        text-align: right;\n",
              "    }\n",
              "</style>\n",
              "<table border=\"1\" class=\"dataframe\">\n",
              "  <thead>\n",
              "    <tr style=\"text-align: right;\">\n",
              "      <th></th>\n",
              "      <th>GENDER</th>\n",
              "      <th>AGE</th>\n",
              "      <th>SMOKING</th>\n",
              "      <th>YELLOW_FINGERS</th>\n",
              "      <th>ANXIETY</th>\n",
              "      <th>PEER_PRESSURE</th>\n",
              "      <th>CHRONIC DISEASE</th>\n",
              "      <th>FATIGUE</th>\n",
              "      <th>ALLERGY</th>\n",
              "      <th>WHEEZING</th>\n",
              "      <th>ALCOHOL CONSUMING</th>\n",
              "      <th>COUGHING</th>\n",
              "      <th>SHORTNESS OF BREATH</th>\n",
              "      <th>SWALLOWING DIFFICULTY</th>\n",
              "      <th>CHEST PAIN</th>\n",
              "      <th>LUNG_CANCER</th>\n",
              "    </tr>\n",
              "  </thead>\n",
              "  <tbody>\n",
              "    <tr>\n",
              "      <th>0</th>\n",
              "      <td>Male</td>\n",
              "      <td>69</td>\n",
              "      <td>NO</td>\n",
              "      <td>YES</td>\n",
              "      <td>YES</td>\n",
              "      <td>NO</td>\n",
              "      <td>NO</td>\n",
              "      <td>YES</td>\n",
              "      <td>NO</td>\n",
              "      <td>YES</td>\n",
              "      <td>YES</td>\n",
              "      <td>YES</td>\n",
              "      <td>YES</td>\n",
              "      <td>YES</td>\n",
              "      <td>YES</td>\n",
              "      <td>YES</td>\n",
              "    </tr>\n",
              "    <tr>\n",
              "      <th>1</th>\n",
              "      <td>Male</td>\n",
              "      <td>74</td>\n",
              "      <td>YES</td>\n",
              "      <td>NO</td>\n",
              "      <td>NO</td>\n",
              "      <td>NO</td>\n",
              "      <td>YES</td>\n",
              "      <td>YES</td>\n",
              "      <td>YES</td>\n",
              "      <td>NO</td>\n",
              "      <td>NO</td>\n",
              "      <td>NO</td>\n",
              "      <td>YES</td>\n",
              "      <td>YES</td>\n",
              "      <td>YES</td>\n",
              "      <td>YES</td>\n",
              "    </tr>\n",
              "    <tr>\n",
              "      <th>5</th>\n",
              "      <td>Female</td>\n",
              "      <td>75</td>\n",
              "      <td>NO</td>\n",
              "      <td>YES</td>\n",
              "      <td>NO</td>\n",
              "      <td>NO</td>\n",
              "      <td>YES</td>\n",
              "      <td>YES</td>\n",
              "      <td>YES</td>\n",
              "      <td>YES</td>\n",
              "      <td>NO</td>\n",
              "      <td>YES</td>\n",
              "      <td>YES</td>\n",
              "      <td>NO</td>\n",
              "      <td>NO</td>\n",
              "      <td>YES</td>\n",
              "    </tr>\n",
              "    <tr>\n",
              "      <th>6</th>\n",
              "      <td>Male</td>\n",
              "      <td>52</td>\n",
              "      <td>YES</td>\n",
              "      <td>NO</td>\n",
              "      <td>NO</td>\n",
              "      <td>NO</td>\n",
              "      <td>NO</td>\n",
              "      <td>YES</td>\n",
              "      <td>NO</td>\n",
              "      <td>YES</td>\n",
              "      <td>YES</td>\n",
              "      <td>YES</td>\n",
              "      <td>YES</td>\n",
              "      <td>NO</td>\n",
              "      <td>YES</td>\n",
              "      <td>YES</td>\n",
              "    </tr>\n",
              "    <tr>\n",
              "      <th>7</th>\n",
              "      <td>Female</td>\n",
              "      <td>51</td>\n",
              "      <td>YES</td>\n",
              "      <td>YES</td>\n",
              "      <td>YES</td>\n",
              "      <td>YES</td>\n",
              "      <td>NO</td>\n",
              "      <td>YES</td>\n",
              "      <td>YES</td>\n",
              "      <td>NO</td>\n",
              "      <td>NO</td>\n",
              "      <td>NO</td>\n",
              "      <td>YES</td>\n",
              "      <td>YES</td>\n",
              "      <td>NO</td>\n",
              "      <td>YES</td>\n",
              "    </tr>\n",
              "  </tbody>\n",
              "</table>\n",
              "</div>\n",
              "      <button class=\"colab-df-convert\" onclick=\"convertToInteractive('df-4bfbd066-0b97-4bb0-82ff-34576e2acd35')\"\n",
              "              title=\"Convert this dataframe to an interactive table.\"\n",
              "              style=\"display:none;\">\n",
              "        \n",
              "  <svg xmlns=\"http://www.w3.org/2000/svg\" height=\"24px\"viewBox=\"0 0 24 24\"\n",
              "       width=\"24px\">\n",
              "    <path d=\"M0 0h24v24H0V0z\" fill=\"none\"/>\n",
              "    <path d=\"M18.56 5.44l.94 2.06.94-2.06 2.06-.94-2.06-.94-.94-2.06-.94 2.06-2.06.94zm-11 1L8.5 8.5l.94-2.06 2.06-.94-2.06-.94L8.5 2.5l-.94 2.06-2.06.94zm10 10l.94 2.06.94-2.06 2.06-.94-2.06-.94-.94-2.06-.94 2.06-2.06.94z\"/><path d=\"M17.41 7.96l-1.37-1.37c-.4-.4-.92-.59-1.43-.59-.52 0-1.04.2-1.43.59L10.3 9.45l-7.72 7.72c-.78.78-.78 2.05 0 2.83L4 21.41c.39.39.9.59 1.41.59.51 0 1.02-.2 1.41-.59l7.78-7.78 2.81-2.81c.8-.78.8-2.07 0-2.86zM5.41 20L4 18.59l7.72-7.72 1.47 1.35L5.41 20z\"/>\n",
              "  </svg>\n",
              "      </button>\n",
              "      \n",
              "  <style>\n",
              "    .colab-df-container {\n",
              "      display:flex;\n",
              "      flex-wrap:wrap;\n",
              "      gap: 12px;\n",
              "    }\n",
              "\n",
              "    .colab-df-convert {\n",
              "      background-color: #E8F0FE;\n",
              "      border: none;\n",
              "      border-radius: 50%;\n",
              "      cursor: pointer;\n",
              "      display: none;\n",
              "      fill: #1967D2;\n",
              "      height: 32px;\n",
              "      padding: 0 0 0 0;\n",
              "      width: 32px;\n",
              "    }\n",
              "\n",
              "    .colab-df-convert:hover {\n",
              "      background-color: #E2EBFA;\n",
              "      box-shadow: 0px 1px 2px rgba(60, 64, 67, 0.3), 0px 1px 3px 1px rgba(60, 64, 67, 0.15);\n",
              "      fill: #174EA6;\n",
              "    }\n",
              "\n",
              "    [theme=dark] .colab-df-convert {\n",
              "      background-color: #3B4455;\n",
              "      fill: #D2E3FC;\n",
              "    }\n",
              "\n",
              "    [theme=dark] .colab-df-convert:hover {\n",
              "      background-color: #434B5C;\n",
              "      box-shadow: 0px 1px 3px 1px rgba(0, 0, 0, 0.15);\n",
              "      filter: drop-shadow(0px 1px 2px rgba(0, 0, 0, 0.3));\n",
              "      fill: #FFFFFF;\n",
              "    }\n",
              "  </style>\n",
              "\n",
              "      <script>\n",
              "        const buttonEl =\n",
              "          document.querySelector('#df-4bfbd066-0b97-4bb0-82ff-34576e2acd35 button.colab-df-convert');\n",
              "        buttonEl.style.display =\n",
              "          google.colab.kernel.accessAllowed ? 'block' : 'none';\n",
              "\n",
              "        async function convertToInteractive(key) {\n",
              "          const element = document.querySelector('#df-4bfbd066-0b97-4bb0-82ff-34576e2acd35');\n",
              "          const dataTable =\n",
              "            await google.colab.kernel.invokeFunction('convertToInteractive',\n",
              "                                                     [key], {});\n",
              "          if (!dataTable) return;\n",
              "\n",
              "          const docLinkHtml = 'Like what you see? Visit the ' +\n",
              "            '<a target=\"_blank\" href=https://colab.research.google.com/notebooks/data_table.ipynb>data table notebook</a>'\n",
              "            + ' to learn more about interactive tables.';\n",
              "          element.innerHTML = '';\n",
              "          dataTable['output_type'] = 'display_data';\n",
              "          await google.colab.output.renderOutput(dataTable, element);\n",
              "          const docLink = document.createElement('div');\n",
              "          docLink.innerHTML = docLinkHtml;\n",
              "          element.appendChild(docLink);\n",
              "        }\n",
              "      </script>\n",
              "    </div>\n",
              "  </div>\n",
              "  "
            ]
          },
          "metadata": {},
          "execution_count": 24
        }
      ]
    },
    {
      "cell_type": "markdown",
      "source": [
        "### 양성인 경우의 Age Distribution"
      ],
      "metadata": {
        "id": "ON0zHxlhZUES"
      }
    },
    {
      "cell_type": "markdown",
      "source": [
        "**# subplot() vs. subplots()**\n",
        "\n",
        "**case1. 하나씩 설정 (subplot)**\n",
        "- nrows, ncols, index (각 정수는 10보다 작은 값) \n",
        "\n",
        "```\n",
        "plt.subplot(2,1,1)\n",
        "plt.subplot(2,1,2)\n",
        "plt.show()\n",
        "```\n",
        "- projection \n",
        "  - 기본값: None (rectilinear가 입력)\n",
        "  - True : projection= 'polar'\n",
        "  - None, 'aitoff', 'hammer','lambert','mollwide','polar','rectilinear', str\n",
        "\n",
        "\n",
        "**case2. 한번에 설정 (subplots)**\n",
        "\n",
        "```\n",
        "plt.subplots(nrow=2, ncols=1)\n",
        "plt.show()\n",
        "```\n",
        "\n",
        "\n"
      ],
      "metadata": {
        "id": "YJ5SoMfJ7ppQ"
      }
    },
    {
      "cell_type": "markdown",
      "source": [
        "참조 : https://m.blog.naver.com/PostView.naver?isHttpsRedirect=true&blogId=heygun&logNo=221520454294\n",
        "\n",
        "참조2 : https://runebook.dev/ko/docs/matplotlib/_as_gen/matplotlib.pyplot.subplot\n",
        "\n",
        "참조3 : https://kongdols-room.tistory.com/98"
      ],
      "metadata": {
        "id": "aMB5GWfU9uCB"
      }
    },
    {
      "cell_type": "code",
      "source": [
        "import matplotlib.pyplot as plt\n",
        "from matplotlib import font_manager\n",
        "plt.rcParams['axes.unicode_minus']=False\n",
        "font_path = '/content/drive/MyDrive/text/NanumSquareR.ttf'\n",
        "fontprop = font_manager.FontProperties(fname=font_path, size=20)\n",
        "\n",
        "plt.rc('font', family='NanumBarunGothic')"
      ],
      "metadata": {
        "id": "r2ry5dZXL1bj"
      },
      "execution_count": null,
      "outputs": []
    },
    {
      "cell_type": "code",
      "source": [
        "fig, axes = plt.subplots(nrows=2,ncols=1, figsize=(20,10), sharex=True, sharey=True)\n",
        "# fig   : figure (전체 subplot을 의미 == 전체 사이즈)\n",
        "# axes  : 전체 중 낱개 \n",
        "  ### subplot의 경우는 부분을 지시하는 키워드로 하나의 값(axes)만 받을 수 있음\n",
        "  ### subplots의 경우는 axes 여러개의 값\n",
        "# sharex : Xtick의 값을 각각 공유할지 안할지  # sharex=False이면 x축 값 모두 다르게 출력\n",
        "# sharey : Ytick의 값을 각각 공유할지 안할지  # sharey=False이면 y축 값 모두 다르게 출력\n",
        "\n",
        "\n",
        "# tight_layout(pad=1.08, h_pad=None, w_pad=None, rect=None)\n",
        "### 자동으로 명시된 여백(padding)에 관련된 서브플롯 파라미터 조정\n",
        "    # pad   : figure 모서리와 서브플롯 모서리 사이의 여백(padding)을 설정\n",
        "    # h_pad : 높이의 여백\n",
        "    # w_pad : 너비의 여백 \n",
        "    # rect  : 서브플롯을 넣기 위한 사각형 설정(왼,바닥,오,위)\n",
        "              # 총 크기 대비 정규화된 값\n",
        "              # 기본: (0,0,1,1)\n",
        "plt.tight_layout(pad=4.0)\n",
        "\n",
        "\n",
        "# 양성 Male의 Age 분포\n",
        "sns.histplot(df_temp_pos[df_temp_pos['GENDER']=='Male']['AGE'], color=palette[11], kde=True, ax=axes[0], bins=20, alpha=1, fill=True)\n",
        "axes[0].lines[0].set_color(palette[12])\n",
        "axes[0].set_title('\\n양성 Male의 연령 분포\\n', fontsize=25)\n",
        "axes[0].set_xlabel('Age')\n",
        "axes[0].set_ylabel('Quantity')\n",
        "\n",
        "# 양성 Female의 Age 분포\n",
        "sns.histplot(df_temp_pos[df_temp_pos['GENDER']=='Female']['AGE'], color=palette[12], kde=True, ax=axes[1], bins=20, alpha=1, fill=True)\n",
        "axes[1].lines[0].set_color(palette[11])\n",
        "axes[1].set_title('\\n양성 Female의 연령 분포\\n', fontsize=25)\n",
        "axes[1].set_xlabel('Age')\n",
        "axes[1].set_ylabel('Quantity')\n",
        "\n",
        "# 축 없애기 (기본: top, right)\n",
        "sns.despine(left=True, bottom=True)\n",
        "plt.show()"
      ],
      "metadata": {
        "colab": {
          "base_uri": "https://localhost:8080/",
          "height": 413
        },
        "id": "IdtbF2JkZL8o",
        "outputId": "7714608c-fdef-4141-fcc7-6317b38c1744"
      },
      "execution_count": 28,
      "outputs": [
        {
          "output_type": "display_data",
          "data": {
            "text/plain": [
              "<Figure size 1440x720 with 2 Axes>"
            ],
            "image/png": "[encoded data removed]"
          },
          "metadata": {}
        }
      ]
    },
    {
      "cell_type": "markdown",
      "source": [
        "Male, Female의 두 가지 경우를 합쳐보면"
      ],
      "metadata": {
        "id": "3Nw6UPgGGomb"
      }
    },
    {
      "cell_type": "code",
      "source": [
        "plt.subplots(figsize=(20,8))\n",
        "p = sns.histplot(data=df_temp_pos, x=\"AGE\", hue=\"GENDER\", \n",
        "                 multiple=\"stack\",          # multiple=\"stack\"이용해서 stack할 수 있음\n",
        "                 palette=palette[11:13],    # 11~13번 색상 사용\n",
        "                 kde=True, shrink=.99,bins=20, alpha=1, fill=True)\n",
        "\n",
        "p.axes.lines[0].set_color(palette[11])\n",
        "p.axes.lines[1].set_color(palette[12])\n",
        "p.axes.set_title(\"\\n양성인 경우의 연령 분포\\n\", fontsize=25)\n",
        "plt.xlabel(\"Age\")\n",
        "plt.ylabel('Count')\n",
        "\n",
        "sns.despine(left=True, bottom=True)\n",
        "plt.show()"
      ],
      "metadata": {
        "id": "PJ94ZtD7ZiZj",
        "colab": {
          "base_uri": "https://localhost:8080/",
          "height": 388
        },
        "outputId": "e7e8a9b1-40cc-44bc-bcd2-1e0f0f7c01a3"
      },
      "execution_count": 29,
      "outputs": [
        {
          "output_type": "display_data",
          "data": {
            "text/plain": [
              "<Figure size 1440x576 with 1 Axes>"
            ],
            "image/png": "[encoded data removed]"
          },
          "metadata": {}
        }
      ]
    },
    {
      "cell_type": "markdown",
      "source": [
        "### 양성인 경우의 Gender Distribution"
      ],
      "metadata": {
        "id": "QMxc8fEd6Un0"
      }
    },
    {
      "cell_type": "code",
      "source": [
        "plt.subplots(figsize=(12, 12))\n",
        "\n",
        "labels = \"Male\",\"Female\"\n",
        "size = 0.7\n",
        "\n",
        "wedges, texts, autotexts = plt.pie([len(df_temp_pos[df_temp_pos[\"GENDER\"]==\"Male\"][\"GENDER\"]),\n",
        "                                    len(df_temp_pos[df_temp_pos[\"GENDER\"]==\"Female\"][\"GENDER\"])],\n",
        "                                    explode = (0.1,0),\n",
        "                                    textprops=dict(size= 25, color= \"white\"),\n",
        "                                    autopct=\"%.2f%%\", \n",
        "                                    pctdistance = 0.5,\n",
        "                                    radius=.9, \n",
        "                                    colors = [\"#0f4c5c\",\"#FFC300\"], \n",
        "                                    shadow = True,\n",
        "                                    wedgeprops= dict(width = size, edgecolor = \"white\", linewidth = 5),\n",
        "                                    startangle = 0)\n",
        "\n",
        "plt.legend(wedges, labels, title=\"Category\",loc=\"center left\",bbox_to_anchor=(1, 0, 0.5, 1))\n",
        "plt.title(\"\\n양성인 경우 성별 분포\",fontsize=25)\n",
        "plt.show()"
      ],
      "metadata": {
        "colab": {
          "base_uri": "https://localhost:8080/",
          "height": 709
        },
        "id": "gi54h8WDIaKA",
        "outputId": "ee4c85a6-10f6-47ae-9332-1eb112ac1b1f"
      },
      "execution_count": 30,
      "outputs": [
        {
          "output_type": "display_data",
          "data": {
            "text/plain": [
              "<Figure size 864x864 with 1 Axes>"
            ],
            "image/png": "[encoded data removed]"
          },
          "metadata": {}
        }
      ]
    },
    {
      "cell_type": "code",
      "source": [],
      "metadata": {
        "id": "tNl2h7jZKryx"
      },
      "execution_count": null,
      "outputs": []
    }
  ]
}