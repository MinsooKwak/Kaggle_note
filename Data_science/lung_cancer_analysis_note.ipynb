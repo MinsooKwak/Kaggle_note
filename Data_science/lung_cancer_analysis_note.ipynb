{
  "nbformat": 4,
  "nbformat_minor": 0,
  "metadata": {
    "colab": {
      "provenance": [],
      "collapsed_sections": [],
      "authorship_tag": "ABX9TyN/1KH1cUfhfUFLU89wQ8GC",
      "include_colab_link": true
    },
    "kernelspec": {
      "name": "python3",
      "display_name": "Python 3"
    },
    "language_info": {
      "name": "python"
    }
  },
  "cells": [
    {
      "cell_type": "markdown",
      "metadata": {
        "id": "view-in-github",
        "colab_type": "text"
      },
      "source": [
        "<a href=\"https://colab.research.google.com/github/MinsooKwak/Kaggle_note/blob/main/Data_science/lung_cancer_analysis_note.ipynb\" target=\"_parent\"><img src=\"https://colab.research.google.com/assets/colab-badge.svg\" alt=\"Open In Colab\"/></a>"
      ]
    },
    {
      "cell_type": "markdown",
      "source": [
        "**Kaggle 필사 study하기**\n",
        "\n",
        "참고 링크: https://www.kaggle.com/code/hasibalmuzdadid/lung-cancer-analysis-accuracy-96-4/notebook"
      ],
      "metadata": {
        "id": "NNBjZewyYt0a"
      }
    },
    {
      "cell_type": "code",
      "execution_count": 1,
      "metadata": {
        "colab": {
          "base_uri": "https://localhost:8080/"
        },
        "id": "61--x2P6TJ8G",
        "outputId": "87b25857-e4c3-4b21-949e-b5705e858cdb"
      },
      "outputs": [
        {
          "output_type": "stream",
          "name": "stdout",
          "text": [
            "Drive already mounted at /content/drive; to attempt to forcibly remount, call drive.mount(\"/content/drive\", force_remount=True).\n"
          ]
        }
      ],
      "source": [
        "from google.colab import drive\n",
        "drive.mount('/content/drive')"
      ]
    },
    {
      "cell_type": "code",
      "source": [
        "import pandas as pd\n",
        "import numpy as np\n",
        "import matplotlib.pyplot as plt\n",
        "import seaborn as sns\n",
        "\n",
        "import matplotlib.font_manager as fm  # 폰트 관련 용도"
      ],
      "metadata": {
        "id": "FEHnmHXATb3N"
      },
      "execution_count": 2,
      "outputs": []
    },
    {
      "cell_type": "code",
      "source": [
        "import warnings\n",
        "warnings.filterwarnings('ignore')"
      ],
      "metadata": {
        "id": "I5nCE9BVE2Rh"
      },
      "execution_count": 3,
      "outputs": []
    },
    {
      "cell_type": "markdown",
      "source": [
        "### 한글 폰트 설치 및 설정"
      ],
      "metadata": {
        "id": "Arl9HN2WEn8C"
      }
    },
    {
      "cell_type": "code",
      "source": [
        "#!sudo apt-get install -y fonts-nanum  ## 폰트설치\n",
        "#!sudo fc-cache -fv ## 폰트 업데이트\n",
        "#!rm ~/.cache/matplotlib -rf ## 캐쉬된 matplotlib 폰트 삭제하여 재로딩"
      ],
      "metadata": {
        "id": "QHZ7pOAXEfwi"
      },
      "execution_count": 4,
      "outputs": []
    },
    {
      "cell_type": "code",
      "source": [
        "# ttflist에 Nanum 글자 들어가는 폰트 있는지 확인하는 코드\n",
        "f = [f.name for f in fm.fontManager.ttflist if 'Nanum' in f.name]\n",
        "f"
      ],
      "metadata": {
        "colab": {
          "base_uri": "https://localhost:8080/"
        },
        "id": "VbmjQG88Ehrv",
        "outputId": "3ea1278f-d482-484f-dee9-1e79d9ab1f67"
      },
      "execution_count": 5,
      "outputs": [
        {
          "output_type": "execute_result",
          "data": {
            "text/plain": [
              "['NanumGothic',\n",
              " 'NanumSquareRound',\n",
              " 'NanumMyeongjo',\n",
              " 'NanumSquareRound',\n",
              " 'NanumBarunGothic',\n",
              " 'NanumBarunGothic',\n",
              " 'NanumGothic',\n",
              " 'NanumMyeongjo',\n",
              " 'NanumSquare',\n",
              " 'NanumSquare']"
            ]
          },
          "metadata": {},
          "execution_count": 5
        }
      ]
    },
    {
      "cell_type": "code",
      "source": [
        "#폰트종류설정\n",
        "plt.rcParams[\"font.family\"] ='NanumSquare'\n",
        "\n",
        "# 현재 설정되어 있는 폰트 사이즈와 글꼴을 알아보자\n",
        "!python --version\n",
        "def current_font():\n",
        "  print(f\"설정 폰트 글꼴: {plt.rcParams['font.family']}, 설정 폰트 사이즈: {plt.rcParams['font.size']}\")  # 파이썬 3.6 이상 사용가능하다\n",
        "        \n",
        "current_font()"
      ],
      "metadata": {
        "colab": {
          "base_uri": "https://localhost:8080/"
        },
        "id": "3BMgm9YFEjB6",
        "outputId": "8efe8755-d484-4b0e-d5be-069c89a9aadf"
      },
      "execution_count": 6,
      "outputs": [
        {
          "output_type": "stream",
          "name": "stdout",
          "text": [
            "Python 3.7.13\n",
            "설정 폰트 글꼴: ['NanumSquare'], 설정 폰트 사이즈: 10.0\n"
          ]
        }
      ]
    },
    {
      "cell_type": "code",
      "source": [
        "path = '/content/drive/MyDrive/text/NanumSquareR.ttf'  # 설치된 나눔글꼴중 원하는 녀석의 전체 경로를 가져오자\n",
        "font_name = fm.FontProperties(fname=path, size=10).get_name()\n",
        "print(font_name)\n",
        "plt.rc('font', family=font_name)"
      ],
      "metadata": {
        "colab": {
          "base_uri": "https://localhost:8080/"
        },
        "id": "sGNdqtt_Emn6",
        "outputId": "ad150199-32c4-4204-c6a6-ea332ad73787"
      },
      "execution_count": 7,
      "outputs": [
        {
          "output_type": "stream",
          "name": "stdout",
          "text": [
            "NanumSquare\n"
          ]
        }
      ]
    },
    {
      "cell_type": "code",
      "source": [
        "import matplotlib.pyplot as plt\n",
        "from matplotlib import font_manager\n",
        "plt.rcParams['axes.unicode_minus']=False\n",
        "font_path = '/content/drive/MyDrive/text/NanumSquareR.ttf'\n",
        "fontprop = font_manager.FontProperties(fname=font_path, size=20)\n",
        "\n",
        "plt.rc('font', family='NanumBarunGothic')"
      ],
      "metadata": {
        "id": "WK19YHQSF69d"
      },
      "execution_count": 8,
      "outputs": []
    },
    {
      "cell_type": "markdown",
      "source": [
        "# EDA"
      ],
      "metadata": {
        "id": "SYMicepexeVY"
      }
    },
    {
      "cell_type": "code",
      "source": [
        "df = pd.read_csv('/content/drive/MyDrive/data/kaggle_data/survey_lung_cancer.csv')"
      ],
      "metadata": {
        "id": "3ZgulzvTTl-c"
      },
      "execution_count": 9,
      "outputs": []
    },
    {
      "cell_type": "code",
      "source": [
        "df.head()"
      ],
      "metadata": {
        "colab": {
          "base_uri": "https://localhost:8080/",
          "height": 287
        },
        "id": "KQqk63zCT7lF",
        "outputId": "4646bc6d-2139-4452-9e20-4a1994cb551f"
      },
      "execution_count": 10,
      "outputs": [
        {
          "output_type": "execute_result",
          "data": {
            "text/plain": [
              "  GENDER  AGE  SMOKING  YELLOW_FINGERS  ANXIETY  PEER_PRESSURE  \\\n",
              "0      M   69        1               2        2              1   \n",
              "1      M   74        2               1        1              1   \n",
              "2      F   59        1               1        1              2   \n",
              "3      M   63        2               2        2              1   \n",
              "4      F   63        1               2        1              1   \n",
              "\n",
              "   CHRONIC DISEASE  FATIGUE   ALLERGY   WHEEZING  ALCOHOL CONSUMING  COUGHING  \\\n",
              "0                1         2         1         2                  2         2   \n",
              "1                2         2         2         1                  1         1   \n",
              "2                1         2         1         2                  1         2   \n",
              "3                1         1         1         1                  2         1   \n",
              "4                1         1         1         2                  1         2   \n",
              "\n",
              "   SHORTNESS OF BREATH  SWALLOWING DIFFICULTY  CHEST PAIN LUNG_CANCER  \n",
              "0                    2                      2           2         YES  \n",
              "1                    2                      2           2         YES  \n",
              "2                    2                      1           2          NO  \n",
              "3                    1                      2           2          NO  \n",
              "4                    2                      1           1          NO  "
            ],
            "text/html": [
              "\n",
              "  <div id=\"df-7728b2b0-46b0-4522-8dcb-623cac1ce5a9\">\n",
              "    <div class=\"colab-df-container\">\n",
              "      <div>\n",
              "<style scoped>\n",
              "    .dataframe tbody tr th:only-of-type {\n",
              "        vertical-align: middle;\n",
              "    }\n",
              "\n",
              "    .dataframe tbody tr th {\n",
              "        vertical-align: top;\n",
              "    }\n",
              "\n",
              "    .dataframe thead th {\n",
              "        text-align: right;\n",
              "    }\n",
              "</style>\n",
              "<table border=\"1\" class=\"dataframe\">\n",
              "  <thead>\n",
              "    <tr style=\"text-align: right;\">\n",
              "      <th></th>\n",
              "      <th>GENDER</th>\n",
              "      <th>AGE</th>\n",
              "      <th>SMOKING</th>\n",
              "      <th>YELLOW_FINGERS</th>\n",
              "      <th>ANXIETY</th>\n",
              "      <th>PEER_PRESSURE</th>\n",
              "      <th>CHRONIC DISEASE</th>\n",
              "      <th>FATIGUE</th>\n",
              "      <th>ALLERGY</th>\n",
              "      <th>WHEEZING</th>\n",
              "      <th>ALCOHOL CONSUMING</th>\n",
              "      <th>COUGHING</th>\n",
              "      <th>SHORTNESS OF BREATH</th>\n",
              "      <th>SWALLOWING DIFFICULTY</th>\n",
              "      <th>CHEST PAIN</th>\n",
              "      <th>LUNG_CANCER</th>\n",
              "    </tr>\n",
              "  </thead>\n",
              "  <tbody>\n",
              "    <tr>\n",
              "      <th>0</th>\n",
              "      <td>M</td>\n",
              "      <td>69</td>\n",
              "      <td>1</td>\n",
              "      <td>2</td>\n",
              "      <td>2</td>\n",
              "      <td>1</td>\n",
              "      <td>1</td>\n",
              "      <td>2</td>\n",
              "      <td>1</td>\n",
              "      <td>2</td>\n",
              "      <td>2</td>\n",
              "      <td>2</td>\n",
              "      <td>2</td>\n",
              "      <td>2</td>\n",
              "      <td>2</td>\n",
              "      <td>YES</td>\n",
              "    </tr>\n",
              "    <tr>\n",
              "      <th>1</th>\n",
              "      <td>M</td>\n",
              "      <td>74</td>\n",
              "      <td>2</td>\n",
              "      <td>1</td>\n",
              "      <td>1</td>\n",
              "      <td>1</td>\n",
              "      <td>2</td>\n",
              "      <td>2</td>\n",
              "      <td>2</td>\n",
              "      <td>1</td>\n",
              "      <td>1</td>\n",
              "      <td>1</td>\n",
              "      <td>2</td>\n",
              "      <td>2</td>\n",
              "      <td>2</td>\n",
              "      <td>YES</td>\n",
              "    </tr>\n",
              "    <tr>\n",
              "      <th>2</th>\n",
              "      <td>F</td>\n",
              "      <td>59</td>\n",
              "      <td>1</td>\n",
              "      <td>1</td>\n",
              "      <td>1</td>\n",
              "      <td>2</td>\n",
              "      <td>1</td>\n",
              "      <td>2</td>\n",
              "      <td>1</td>\n",
              "      <td>2</td>\n",
              "      <td>1</td>\n",
              "      <td>2</td>\n",
              "      <td>2</td>\n",
              "      <td>1</td>\n",
              "      <td>2</td>\n",
              "      <td>NO</td>\n",
              "    </tr>\n",
              "    <tr>\n",
              "      <th>3</th>\n",
              "      <td>M</td>\n",
              "      <td>63</td>\n",
              "      <td>2</td>\n",
              "      <td>2</td>\n",
              "      <td>2</td>\n",
              "      <td>1</td>\n",
              "      <td>1</td>\n",
              "      <td>1</td>\n",
              "      <td>1</td>\n",
              "      <td>1</td>\n",
              "      <td>2</td>\n",
              "      <td>1</td>\n",
              "      <td>1</td>\n",
              "      <td>2</td>\n",
              "      <td>2</td>\n",
              "      <td>NO</td>\n",
              "    </tr>\n",
              "    <tr>\n",
              "      <th>4</th>\n",
              "      <td>F</td>\n",
              "      <td>63</td>\n",
              "      <td>1</td>\n",
              "      <td>2</td>\n",
              "      <td>1</td>\n",
              "      <td>1</td>\n",
              "      <td>1</td>\n",
              "      <td>1</td>\n",
              "      <td>1</td>\n",
              "      <td>2</td>\n",
              "      <td>1</td>\n",
              "      <td>2</td>\n",
              "      <td>2</td>\n",
              "      <td>1</td>\n",
              "      <td>1</td>\n",
              "      <td>NO</td>\n",
              "    </tr>\n",
              "  </tbody>\n",
              "</table>\n",
              "</div>\n",
              "      <button class=\"colab-df-convert\" onclick=\"convertToInteractive('df-7728b2b0-46b0-4522-8dcb-623cac1ce5a9')\"\n",
              "              title=\"Convert this dataframe to an interactive table.\"\n",
              "              style=\"display:none;\">\n",
              "        \n",
              "  <svg xmlns=\"http://www.w3.org/2000/svg\" height=\"24px\"viewBox=\"0 0 24 24\"\n",
              "       width=\"24px\">\n",
              "    <path d=\"M0 0h24v24H0V0z\" fill=\"none\"/>\n",
              "    <path d=\"M18.56 5.44l.94 2.06.94-2.06 2.06-.94-2.06-.94-.94-2.06-.94 2.06-2.06.94zm-11 1L8.5 8.5l.94-2.06 2.06-.94-2.06-.94L8.5 2.5l-.94 2.06-2.06.94zm10 10l.94 2.06.94-2.06 2.06-.94-2.06-.94-.94-2.06-.94 2.06-2.06.94z\"/><path d=\"M17.41 7.96l-1.37-1.37c-.4-.4-.92-.59-1.43-.59-.52 0-1.04.2-1.43.59L10.3 9.45l-7.72 7.72c-.78.78-.78 2.05 0 2.83L4 21.41c.39.39.9.59 1.41.59.51 0 1.02-.2 1.41-.59l7.78-7.78 2.81-2.81c.8-.78.8-2.07 0-2.86zM5.41 20L4 18.59l7.72-7.72 1.47 1.35L5.41 20z\"/>\n",
              "  </svg>\n",
              "      </button>\n",
              "      \n",
              "  <style>\n",
              "    .colab-df-container {\n",
              "      display:flex;\n",
              "      flex-wrap:wrap;\n",
              "      gap: 12px;\n",
              "    }\n",
              "\n",
              "    .colab-df-convert {\n",
              "      background-color: #E8F0FE;\n",
              "      border: none;\n",
              "      border-radius: 50%;\n",
              "      cursor: pointer;\n",
              "      display: none;\n",
              "      fill: #1967D2;\n",
              "      height: 32px;\n",
              "      padding: 0 0 0 0;\n",
              "      width: 32px;\n",
              "    }\n",
              "\n",
              "    .colab-df-convert:hover {\n",
              "      background-color: #E2EBFA;\n",
              "      box-shadow: 0px 1px 2px rgba(60, 64, 67, 0.3), 0px 1px 3px 1px rgba(60, 64, 67, 0.15);\n",
              "      fill: #174EA6;\n",
              "    }\n",
              "\n",
              "    [theme=dark] .colab-df-convert {\n",
              "      background-color: #3B4455;\n",
              "      fill: #D2E3FC;\n",
              "    }\n",
              "\n",
              "    [theme=dark] .colab-df-convert:hover {\n",
              "      background-color: #434B5C;\n",
              "      box-shadow: 0px 1px 3px 1px rgba(0, 0, 0, 0.15);\n",
              "      filter: drop-shadow(0px 1px 2px rgba(0, 0, 0, 0.3));\n",
              "      fill: #FFFFFF;\n",
              "    }\n",
              "  </style>\n",
              "\n",
              "      <script>\n",
              "        const buttonEl =\n",
              "          document.querySelector('#df-7728b2b0-46b0-4522-8dcb-623cac1ce5a9 button.colab-df-convert');\n",
              "        buttonEl.style.display =\n",
              "          google.colab.kernel.accessAllowed ? 'block' : 'none';\n",
              "\n",
              "        async function convertToInteractive(key) {\n",
              "          const element = document.querySelector('#df-7728b2b0-46b0-4522-8dcb-623cac1ce5a9');\n",
              "          const dataTable =\n",
              "            await google.colab.kernel.invokeFunction('convertToInteractive',\n",
              "                                                     [key], {});\n",
              "          if (!dataTable) return;\n",
              "\n",
              "          const docLinkHtml = 'Like what you see? Visit the ' +\n",
              "            '<a target=\"_blank\" href=https://colab.research.google.com/notebooks/data_table.ipynb>data table notebook</a>'\n",
              "            + ' to learn more about interactive tables.';\n",
              "          element.innerHTML = '';\n",
              "          dataTable['output_type'] = 'display_data';\n",
              "          await google.colab.output.renderOutput(dataTable, element);\n",
              "          const docLink = document.createElement('div');\n",
              "          docLink.innerHTML = docLinkHtml;\n",
              "          element.appendChild(docLink);\n",
              "        }\n",
              "      </script>\n",
              "    </div>\n",
              "  </div>\n",
              "  "
            ]
          },
          "metadata": {},
          "execution_count": 10
        }
      ]
    },
    {
      "cell_type": "markdown",
      "source": [
        "이 중 범주형으로 보이는 항목의 unique한 값들을 살펴보도록 하겠다."
      ],
      "metadata": {
        "id": "4Acdu5qhBPAt"
      }
    },
    {
      "cell_type": "code",
      "source": [
        "print(df['GENDER'].unique())\n",
        "print(df['LUNG_CANCER'].unique())"
      ],
      "metadata": {
        "colab": {
          "base_uri": "https://localhost:8080/"
        },
        "id": "J6Oi0v02UDdc",
        "outputId": "caa54f92-d172-4e05-98e9-2b69414661aa"
      },
      "execution_count": 11,
      "outputs": [
        {
          "output_type": "stream",
          "name": "stdout",
          "text": [
            "['M' 'F']\n",
            "['YES' 'NO']\n"
          ]
        }
      ]
    },
    {
      "cell_type": "markdown",
      "source": [
        "### **ABOUT DATASET**"
      ],
      "metadata": {
        "id": "JNuPbS6Zxr3U"
      }
    },
    {
      "cell_type": "markdown",
      "source": [
        "- Gender : M, F\n",
        "- AGE : patient age\n",
        "- SMOKING : 2[Yes], 1[No]\n",
        "- ANXIETY : 2[Yes], 1[No]\n",
        "- PEER_PRESSURE : 2[Yes], 1[No]\n",
        "- CHRONIC DISEASE : 2[Yes], 1[No]\n",
        "- FATIGUE : 2[Yes], 1[No]\n",
        "- ALLERGY : 2[Yes], 1[No]\n",
        "- WHEEZIZNG : 2[Yes], 1[No]\n",
        "- ALCOHOL CONSUMING : 2[Yes], 1[No]\n",
        "- COUGHING : 2[Yes], 1[No]\n",
        "- SHROTNESS OF BREATH : 2[Yes], 1[No]\n",
        "- SWALLOWING DIFFICULTY : 2[Yes], 1[No]\n",
        "- CHEST PAIN : 2[Yes], 1[No]\n",
        "- LUNG_CANCER : Yes(Pos), NO(neg)\n"
      ],
      "metadata": {
        "id": "T9XN95D7T_lW"
      }
    },
    {
      "cell_type": "code",
      "source": [
        "print(f'현재 {df.shape[0]}개의 dataset이 존재함')\n",
        "print(f'총 {df.shape[1]}개의 컬럼으로 구성되어 있음')"
      ],
      "metadata": {
        "colab": {
          "base_uri": "https://localhost:8080/"
        },
        "id": "cG335L6fVEvr",
        "outputId": "2ba2f3dd-a327-4495-baaa-5efa2a286cbe"
      },
      "execution_count": 12,
      "outputs": [
        {
          "output_type": "stream",
          "name": "stdout",
          "text": [
            "현재 309개의 dataset이 존재함\n",
            "총 16개의 컬럼으로 구성되어 있음\n"
          ]
        }
      ]
    },
    {
      "cell_type": "markdown",
      "source": [
        "### **Data types**"
      ],
      "metadata": {
        "id": "WAkt5K1DxyzX"
      }
    },
    {
      "cell_type": "code",
      "source": [
        "df.info()"
      ],
      "metadata": {
        "colab": {
          "base_uri": "https://localhost:8080/"
        },
        "id": "g4bkGNM-VIPZ",
        "outputId": "097772d8-d67e-476d-bcf7-53002de88d67"
      },
      "execution_count": 13,
      "outputs": [
        {
          "output_type": "stream",
          "name": "stdout",
          "text": [
            "<class 'pandas.core.frame.DataFrame'>\n",
            "RangeIndex: 309 entries, 0 to 308\n",
            "Data columns (total 16 columns):\n",
            " #   Column                 Non-Null Count  Dtype \n",
            "---  ------                 --------------  ----- \n",
            " 0   GENDER                 309 non-null    object\n",
            " 1   AGE                    309 non-null    int64 \n",
            " 2   SMOKING                309 non-null    int64 \n",
            " 3   YELLOW_FINGERS         309 non-null    int64 \n",
            " 4   ANXIETY                309 non-null    int64 \n",
            " 5   PEER_PRESSURE          309 non-null    int64 \n",
            " 6   CHRONIC DISEASE        309 non-null    int64 \n",
            " 7   FATIGUE                309 non-null    int64 \n",
            " 8   ALLERGY                309 non-null    int64 \n",
            " 9   WHEEZING               309 non-null    int64 \n",
            " 10  ALCOHOL CONSUMING      309 non-null    int64 \n",
            " 11  COUGHING               309 non-null    int64 \n",
            " 12  SHORTNESS OF BREATH    309 non-null    int64 \n",
            " 13  SWALLOWING DIFFICULTY  309 non-null    int64 \n",
            " 14  CHEST PAIN             309 non-null    int64 \n",
            " 15  LUNG_CANCER            309 non-null    object\n",
            "dtypes: int64(14), object(2)\n",
            "memory usage: 38.8+ KB\n"
          ]
        }
      ]
    },
    {
      "cell_type": "markdown",
      "source": [
        "GENDER, LUNG_CANCER 은 object 형태로, 나머지는 int 형태의 dtype을 가진다."
      ],
      "metadata": {
        "id": "zM7tcU5jCtS6"
      }
    },
    {
      "cell_type": "markdown",
      "source": [
        "### **Dataset Summary**"
      ],
      "metadata": {
        "id": "KAmvf463VWAp"
      }
    },
    {
      "cell_type": "code",
      "source": [
        "df.describe().T"
      ],
      "metadata": {
        "colab": {
          "base_uri": "https://localhost:8080/",
          "height": 488
        },
        "id": "_-CW6g73VPMD",
        "outputId": "3a8581b8-8f7f-4769-b02e-dc5b7d12326f"
      },
      "execution_count": 14,
      "outputs": [
        {
          "output_type": "execute_result",
          "data": {
            "text/plain": [
              "                       count       mean       std   min   25%   50%   75%  \\\n",
              "AGE                    309.0  62.673139  8.210301  21.0  57.0  62.0  69.0   \n",
              "SMOKING                309.0   1.563107  0.496806   1.0   1.0   2.0   2.0   \n",
              "YELLOW_FINGERS         309.0   1.569579  0.495938   1.0   1.0   2.0   2.0   \n",
              "ANXIETY                309.0   1.498382  0.500808   1.0   1.0   1.0   2.0   \n",
              "PEER_PRESSURE          309.0   1.501618  0.500808   1.0   1.0   2.0   2.0   \n",
              "CHRONIC DISEASE        309.0   1.504854  0.500787   1.0   1.0   2.0   2.0   \n",
              "FATIGUE                309.0   1.673139  0.469827   1.0   1.0   2.0   2.0   \n",
              "ALLERGY                309.0   1.556634  0.497588   1.0   1.0   2.0   2.0   \n",
              "WHEEZING               309.0   1.556634  0.497588   1.0   1.0   2.0   2.0   \n",
              "ALCOHOL CONSUMING      309.0   1.556634  0.497588   1.0   1.0   2.0   2.0   \n",
              "COUGHING               309.0   1.579288  0.494474   1.0   1.0   2.0   2.0   \n",
              "SHORTNESS OF BREATH    309.0   1.640777  0.480551   1.0   1.0   2.0   2.0   \n",
              "SWALLOWING DIFFICULTY  309.0   1.469256  0.499863   1.0   1.0   1.0   2.0   \n",
              "CHEST PAIN             309.0   1.556634  0.497588   1.0   1.0   2.0   2.0   \n",
              "\n",
              "                        max  \n",
              "AGE                    87.0  \n",
              "SMOKING                 2.0  \n",
              "YELLOW_FINGERS          2.0  \n",
              "ANXIETY                 2.0  \n",
              "PEER_PRESSURE           2.0  \n",
              "CHRONIC DISEASE         2.0  \n",
              "FATIGUE                 2.0  \n",
              "ALLERGY                 2.0  \n",
              "WHEEZING                2.0  \n",
              "ALCOHOL CONSUMING       2.0  \n",
              "COUGHING                2.0  \n",
              "SHORTNESS OF BREATH     2.0  \n",
              "SWALLOWING DIFFICULTY   2.0  \n",
              "CHEST PAIN              2.0  "
            ],
            "text/html": [
              "\n",
              "  <div id=\"df-4dfbae86-44b0-492f-ac42-227c9b79a63e\">\n",
              "    <div class=\"colab-df-container\">\n",
              "      <div>\n",
              "<style scoped>\n",
              "    .dataframe tbody tr th:only-of-type {\n",
              "        vertical-align: middle;\n",
              "    }\n",
              "\n",
              "    .dataframe tbody tr th {\n",
              "        vertical-align: top;\n",
              "    }\n",
              "\n",
              "    .dataframe thead th {\n",
              "        text-align: right;\n",
              "    }\n",
              "</style>\n",
              "<table border=\"1\" class=\"dataframe\">\n",
              "  <thead>\n",
              "    <tr style=\"text-align: right;\">\n",
              "      <th></th>\n",
              "      <th>count</th>\n",
              "      <th>mean</th>\n",
              "      <th>std</th>\n",
              "      <th>min</th>\n",
              "      <th>25%</th>\n",
              "      <th>50%</th>\n",
              "      <th>75%</th>\n",
              "      <th>max</th>\n",
              "    </tr>\n",
              "  </thead>\n",
              "  <tbody>\n",
              "    <tr>\n",
              "      <th>AGE</th>\n",
              "      <td>309.0</td>\n",
              "      <td>62.673139</td>\n",
              "      <td>8.210301</td>\n",
              "      <td>21.0</td>\n",
              "      <td>57.0</td>\n",
              "      <td>62.0</td>\n",
              "      <td>69.0</td>\n",
              "      <td>87.0</td>\n",
              "    </tr>\n",
              "    <tr>\n",
              "      <th>SMOKING</th>\n",
              "      <td>309.0</td>\n",
              "      <td>1.563107</td>\n",
              "      <td>0.496806</td>\n",
              "      <td>1.0</td>\n",
              "      <td>1.0</td>\n",
              "      <td>2.0</td>\n",
              "      <td>2.0</td>\n",
              "      <td>2.0</td>\n",
              "    </tr>\n",
              "    <tr>\n",
              "      <th>YELLOW_FINGERS</th>\n",
              "      <td>309.0</td>\n",
              "      <td>1.569579</td>\n",
              "      <td>0.495938</td>\n",
              "      <td>1.0</td>\n",
              "      <td>1.0</td>\n",
              "      <td>2.0</td>\n",
              "      <td>2.0</td>\n",
              "      <td>2.0</td>\n",
              "    </tr>\n",
              "    <tr>\n",
              "      <th>ANXIETY</th>\n",
              "      <td>309.0</td>\n",
              "      <td>1.498382</td>\n",
              "      <td>0.500808</td>\n",
              "      <td>1.0</td>\n",
              "      <td>1.0</td>\n",
              "      <td>1.0</td>\n",
              "      <td>2.0</td>\n",
              "      <td>2.0</td>\n",
              "    </tr>\n",
              "    <tr>\n",
              "      <th>PEER_PRESSURE</th>\n",
              "      <td>309.0</td>\n",
              "      <td>1.501618</td>\n",
              "      <td>0.500808</td>\n",
              "      <td>1.0</td>\n",
              "      <td>1.0</td>\n",
              "      <td>2.0</td>\n",
              "      <td>2.0</td>\n",
              "      <td>2.0</td>\n",
              "    </tr>\n",
              "    <tr>\n",
              "      <th>CHRONIC DISEASE</th>\n",
              "      <td>309.0</td>\n",
              "      <td>1.504854</td>\n",
              "      <td>0.500787</td>\n",
              "      <td>1.0</td>\n",
              "      <td>1.0</td>\n",
              "      <td>2.0</td>\n",
              "      <td>2.0</td>\n",
              "      <td>2.0</td>\n",
              "    </tr>\n",
              "    <tr>\n",
              "      <th>FATIGUE</th>\n",
              "      <td>309.0</td>\n",
              "      <td>1.673139</td>\n",
              "      <td>0.469827</td>\n",
              "      <td>1.0</td>\n",
              "      <td>1.0</td>\n",
              "      <td>2.0</td>\n",
              "      <td>2.0</td>\n",
              "      <td>2.0</td>\n",
              "    </tr>\n",
              "    <tr>\n",
              "      <th>ALLERGY</th>\n",
              "      <td>309.0</td>\n",
              "      <td>1.556634</td>\n",
              "      <td>0.497588</td>\n",
              "      <td>1.0</td>\n",
              "      <td>1.0</td>\n",
              "      <td>2.0</td>\n",
              "      <td>2.0</td>\n",
              "      <td>2.0</td>\n",
              "    </tr>\n",
              "    <tr>\n",
              "      <th>WHEEZING</th>\n",
              "      <td>309.0</td>\n",
              "      <td>1.556634</td>\n",
              "      <td>0.497588</td>\n",
              "      <td>1.0</td>\n",
              "      <td>1.0</td>\n",
              "      <td>2.0</td>\n",
              "      <td>2.0</td>\n",
              "      <td>2.0</td>\n",
              "    </tr>\n",
              "    <tr>\n",
              "      <th>ALCOHOL CONSUMING</th>\n",
              "      <td>309.0</td>\n",
              "      <td>1.556634</td>\n",
              "      <td>0.497588</td>\n",
              "      <td>1.0</td>\n",
              "      <td>1.0</td>\n",
              "      <td>2.0</td>\n",
              "      <td>2.0</td>\n",
              "      <td>2.0</td>\n",
              "    </tr>\n",
              "    <tr>\n",
              "      <th>COUGHING</th>\n",
              "      <td>309.0</td>\n",
              "      <td>1.579288</td>\n",
              "      <td>0.494474</td>\n",
              "      <td>1.0</td>\n",
              "      <td>1.0</td>\n",
              "      <td>2.0</td>\n",
              "      <td>2.0</td>\n",
              "      <td>2.0</td>\n",
              "    </tr>\n",
              "    <tr>\n",
              "      <th>SHORTNESS OF BREATH</th>\n",
              "      <td>309.0</td>\n",
              "      <td>1.640777</td>\n",
              "      <td>0.480551</td>\n",
              "      <td>1.0</td>\n",
              "      <td>1.0</td>\n",
              "      <td>2.0</td>\n",
              "      <td>2.0</td>\n",
              "      <td>2.0</td>\n",
              "    </tr>\n",
              "    <tr>\n",
              "      <th>SWALLOWING DIFFICULTY</th>\n",
              "      <td>309.0</td>\n",
              "      <td>1.469256</td>\n",
              "      <td>0.499863</td>\n",
              "      <td>1.0</td>\n",
              "      <td>1.0</td>\n",
              "      <td>1.0</td>\n",
              "      <td>2.0</td>\n",
              "      <td>2.0</td>\n",
              "    </tr>\n",
              "    <tr>\n",
              "      <th>CHEST PAIN</th>\n",
              "      <td>309.0</td>\n",
              "      <td>1.556634</td>\n",
              "      <td>0.497588</td>\n",
              "      <td>1.0</td>\n",
              "      <td>1.0</td>\n",
              "      <td>2.0</td>\n",
              "      <td>2.0</td>\n",
              "      <td>2.0</td>\n",
              "    </tr>\n",
              "  </tbody>\n",
              "</table>\n",
              "</div>\n",
              "      <button class=\"colab-df-convert\" onclick=\"convertToInteractive('df-4dfbae86-44b0-492f-ac42-227c9b79a63e')\"\n",
              "              title=\"Convert this dataframe to an interactive table.\"\n",
              "              style=\"display:none;\">\n",
              "        \n",
              "  <svg xmlns=\"http://www.w3.org/2000/svg\" height=\"24px\"viewBox=\"0 0 24 24\"\n",
              "       width=\"24px\">\n",
              "    <path d=\"M0 0h24v24H0V0z\" fill=\"none\"/>\n",
              "    <path d=\"M18.56 5.44l.94 2.06.94-2.06 2.06-.94-2.06-.94-.94-2.06-.94 2.06-2.06.94zm-11 1L8.5 8.5l.94-2.06 2.06-.94-2.06-.94L8.5 2.5l-.94 2.06-2.06.94zm10 10l.94 2.06.94-2.06 2.06-.94-2.06-.94-.94-2.06-.94 2.06-2.06.94z\"/><path d=\"M17.41 7.96l-1.37-1.37c-.4-.4-.92-.59-1.43-.59-.52 0-1.04.2-1.43.59L10.3 9.45l-7.72 7.72c-.78.78-.78 2.05 0 2.83L4 21.41c.39.39.9.59 1.41.59.51 0 1.02-.2 1.41-.59l7.78-7.78 2.81-2.81c.8-.78.8-2.07 0-2.86zM5.41 20L4 18.59l7.72-7.72 1.47 1.35L5.41 20z\"/>\n",
              "  </svg>\n",
              "      </button>\n",
              "      \n",
              "  <style>\n",
              "    .colab-df-container {\n",
              "      display:flex;\n",
              "      flex-wrap:wrap;\n",
              "      gap: 12px;\n",
              "    }\n",
              "\n",
              "    .colab-df-convert {\n",
              "      background-color: #E8F0FE;\n",
              "      border: none;\n",
              "      border-radius: 50%;\n",
              "      cursor: pointer;\n",
              "      display: none;\n",
              "      fill: #1967D2;\n",
              "      height: 32px;\n",
              "      padding: 0 0 0 0;\n",
              "      width: 32px;\n",
              "    }\n",
              "\n",
              "    .colab-df-convert:hover {\n",
              "      background-color: #E2EBFA;\n",
              "      box-shadow: 0px 1px 2px rgba(60, 64, 67, 0.3), 0px 1px 3px 1px rgba(60, 64, 67, 0.15);\n",
              "      fill: #174EA6;\n",
              "    }\n",
              "\n",
              "    [theme=dark] .colab-df-convert {\n",
              "      background-color: #3B4455;\n",
              "      fill: #D2E3FC;\n",
              "    }\n",
              "\n",
              "    [theme=dark] .colab-df-convert:hover {\n",
              "      background-color: #434B5C;\n",
              "      box-shadow: 0px 1px 3px 1px rgba(0, 0, 0, 0.15);\n",
              "      filter: drop-shadow(0px 1px 2px rgba(0, 0, 0, 0.3));\n",
              "      fill: #FFFFFF;\n",
              "    }\n",
              "  </style>\n",
              "\n",
              "      <script>\n",
              "        const buttonEl =\n",
              "          document.querySelector('#df-4dfbae86-44b0-492f-ac42-227c9b79a63e button.colab-df-convert');\n",
              "        buttonEl.style.display =\n",
              "          google.colab.kernel.accessAllowed ? 'block' : 'none';\n",
              "\n",
              "        async function convertToInteractive(key) {\n",
              "          const element = document.querySelector('#df-4dfbae86-44b0-492f-ac42-227c9b79a63e');\n",
              "          const dataTable =\n",
              "            await google.colab.kernel.invokeFunction('convertToInteractive',\n",
              "                                                     [key], {});\n",
              "          if (!dataTable) return;\n",
              "\n",
              "          const docLinkHtml = 'Like what you see? Visit the ' +\n",
              "            '<a target=\"_blank\" href=https://colab.research.google.com/notebooks/data_table.ipynb>data table notebook</a>'\n",
              "            + ' to learn more about interactive tables.';\n",
              "          element.innerHTML = '';\n",
              "          dataTable['output_type'] = 'display_data';\n",
              "          await google.colab.output.renderOutput(dataTable, element);\n",
              "          const docLink = document.createElement('div');\n",
              "          docLink.innerHTML = docLinkHtml;\n",
              "          element.appendChild(docLink);\n",
              "        }\n",
              "      </script>\n",
              "    </div>\n",
              "  </div>\n",
              "  "
            ]
          },
          "metadata": {},
          "execution_count": 14
        }
      ]
    },
    {
      "cell_type": "markdown",
      "source": [
        "-> 위의 내용은 df.descirbe(include=int).T에 대한 내용으로 int형에 대한 내용만 나왔음"
      ],
      "metadata": {
        "id": "3TaWJ8_UvIRz"
      }
    },
    {
      "cell_type": "code",
      "source": [
        "# Boxplot 그려서 분포 확인해보면 좋을 듯 \n",
        "# 1. 이상치 제거 전 (전체 데이터셋)\n",
        "# 2. 이상치 제거 후 비교"
      ],
      "metadata": {
        "id": "MoMNLLlMumeu"
      },
      "execution_count": 15,
      "outputs": []
    },
    {
      "cell_type": "markdown",
      "source": [
        "object 형에 관한 내용 살펴보기"
      ],
      "metadata": {
        "id": "Fbv-G4nGuySE"
      }
    },
    {
      "cell_type": "code",
      "source": [
        "df.describe(include=object).T"
      ],
      "metadata": {
        "colab": {
          "base_uri": "https://localhost:8080/",
          "height": 112
        },
        "id": "ZnNK5tE_Vel8",
        "outputId": "efdb0d25-5969-4ebb-f8fa-d08cc1089c89"
      },
      "execution_count": 16,
      "outputs": [
        {
          "output_type": "execute_result",
          "data": {
            "text/plain": [
              "            count unique  top freq\n",
              "GENDER        309      2    M  162\n",
              "LUNG_CANCER   309      2  YES  270"
            ],
            "text/html": [
              "\n",
              "  <div id=\"df-f43bb917-33f4-471e-a5c9-4113f38a18bd\">\n",
              "    <div class=\"colab-df-container\">\n",
              "      <div>\n",
              "<style scoped>\n",
              "    .dataframe tbody tr th:only-of-type {\n",
              "        vertical-align: middle;\n",
              "    }\n",
              "\n",
              "    .dataframe tbody tr th {\n",
              "        vertical-align: top;\n",
              "    }\n",
              "\n",
              "    .dataframe thead th {\n",
              "        text-align: right;\n",
              "    }\n",
              "</style>\n",
              "<table border=\"1\" class=\"dataframe\">\n",
              "  <thead>\n",
              "    <tr style=\"text-align: right;\">\n",
              "      <th></th>\n",
              "      <th>count</th>\n",
              "      <th>unique</th>\n",
              "      <th>top</th>\n",
              "      <th>freq</th>\n",
              "    </tr>\n",
              "  </thead>\n",
              "  <tbody>\n",
              "    <tr>\n",
              "      <th>GENDER</th>\n",
              "      <td>309</td>\n",
              "      <td>2</td>\n",
              "      <td>M</td>\n",
              "      <td>162</td>\n",
              "    </tr>\n",
              "    <tr>\n",
              "      <th>LUNG_CANCER</th>\n",
              "      <td>309</td>\n",
              "      <td>2</td>\n",
              "      <td>YES</td>\n",
              "      <td>270</td>\n",
              "    </tr>\n",
              "  </tbody>\n",
              "</table>\n",
              "</div>\n",
              "      <button class=\"colab-df-convert\" onclick=\"convertToInteractive('df-f43bb917-33f4-471e-a5c9-4113f38a18bd')\"\n",
              "              title=\"Convert this dataframe to an interactive table.\"\n",
              "              style=\"display:none;\">\n",
              "        \n",
              "  <svg xmlns=\"http://www.w3.org/2000/svg\" height=\"24px\"viewBox=\"0 0 24 24\"\n",
              "       width=\"24px\">\n",
              "    <path d=\"M0 0h24v24H0V0z\" fill=\"none\"/>\n",
              "    <path d=\"M18.56 5.44l.94 2.06.94-2.06 2.06-.94-2.06-.94-.94-2.06-.94 2.06-2.06.94zm-11 1L8.5 8.5l.94-2.06 2.06-.94-2.06-.94L8.5 2.5l-.94 2.06-2.06.94zm10 10l.94 2.06.94-2.06 2.06-.94-2.06-.94-.94-2.06-.94 2.06-2.06.94z\"/><path d=\"M17.41 7.96l-1.37-1.37c-.4-.4-.92-.59-1.43-.59-.52 0-1.04.2-1.43.59L10.3 9.45l-7.72 7.72c-.78.78-.78 2.05 0 2.83L4 21.41c.39.39.9.59 1.41.59.51 0 1.02-.2 1.41-.59l7.78-7.78 2.81-2.81c.8-.78.8-2.07 0-2.86zM5.41 20L4 18.59l7.72-7.72 1.47 1.35L5.41 20z\"/>\n",
              "  </svg>\n",
              "      </button>\n",
              "      \n",
              "  <style>\n",
              "    .colab-df-container {\n",
              "      display:flex;\n",
              "      flex-wrap:wrap;\n",
              "      gap: 12px;\n",
              "    }\n",
              "\n",
              "    .colab-df-convert {\n",
              "      background-color: #E8F0FE;\n",
              "      border: none;\n",
              "      border-radius: 50%;\n",
              "      cursor: pointer;\n",
              "      display: none;\n",
              "      fill: #1967D2;\n",
              "      height: 32px;\n",
              "      padding: 0 0 0 0;\n",
              "      width: 32px;\n",
              "    }\n",
              "\n",
              "    .colab-df-convert:hover {\n",
              "      background-color: #E2EBFA;\n",
              "      box-shadow: 0px 1px 2px rgba(60, 64, 67, 0.3), 0px 1px 3px 1px rgba(60, 64, 67, 0.15);\n",
              "      fill: #174EA6;\n",
              "    }\n",
              "\n",
              "    [theme=dark] .colab-df-convert {\n",
              "      background-color: #3B4455;\n",
              "      fill: #D2E3FC;\n",
              "    }\n",
              "\n",
              "    [theme=dark] .colab-df-convert:hover {\n",
              "      background-color: #434B5C;\n",
              "      box-shadow: 0px 1px 3px 1px rgba(0, 0, 0, 0.15);\n",
              "      filter: drop-shadow(0px 1px 2px rgba(0, 0, 0, 0.3));\n",
              "      fill: #FFFFFF;\n",
              "    }\n",
              "  </style>\n",
              "\n",
              "      <script>\n",
              "        const buttonEl =\n",
              "          document.querySelector('#df-f43bb917-33f4-471e-a5c9-4113f38a18bd button.colab-df-convert');\n",
              "        buttonEl.style.display =\n",
              "          google.colab.kernel.accessAllowed ? 'block' : 'none';\n",
              "\n",
              "        async function convertToInteractive(key) {\n",
              "          const element = document.querySelector('#df-f43bb917-33f4-471e-a5c9-4113f38a18bd');\n",
              "          const dataTable =\n",
              "            await google.colab.kernel.invokeFunction('convertToInteractive',\n",
              "                                                     [key], {});\n",
              "          if (!dataTable) return;\n",
              "\n",
              "          const docLinkHtml = 'Like what you see? Visit the ' +\n",
              "            '<a target=\"_blank\" href=https://colab.research.google.com/notebooks/data_table.ipynb>data table notebook</a>'\n",
              "            + ' to learn more about interactive tables.';\n",
              "          element.innerHTML = '';\n",
              "          dataTable['output_type'] = 'display_data';\n",
              "          await google.colab.output.renderOutput(dataTable, element);\n",
              "          const docLink = document.createElement('div');\n",
              "          docLink.innerHTML = docLinkHtml;\n",
              "          element.appendChild(docLink);\n",
              "        }\n",
              "      </script>\n",
              "    </div>\n",
              "  </div>\n",
              "  "
            ]
          },
          "metadata": {},
          "execution_count": 16
        }
      ]
    },
    {
      "cell_type": "markdown",
      "source": [
        "### **Null Data/ Drop Duplicate**"
      ],
      "metadata": {
        "id": "4FQP2q32x5H1"
      }
    },
    {
      "cell_type": "code",
      "source": [
        "for i in df.columns:\n",
        "  null_rate = df[i].isna().sum()/len(df)*100\n",
        "  if null_rate > 0:\n",
        "    print(f\"{i}'s null rate : {null_rate.round(2)}%\")\n",
        "  else:\n",
        "    print(f\"No null : {i}\")"
      ],
      "metadata": {
        "colab": {
          "base_uri": "https://localhost:8080/"
        },
        "id": "Cfq1u49lvd3G",
        "outputId": "9b78e892-0d5c-40f7-a994-f3669b300a87"
      },
      "execution_count": 17,
      "outputs": [
        {
          "output_type": "stream",
          "name": "stdout",
          "text": [
            "No null : GENDER\n",
            "No null : AGE\n",
            "No null : SMOKING\n",
            "No null : YELLOW_FINGERS\n",
            "No null : ANXIETY\n",
            "No null : PEER_PRESSURE\n",
            "No null : CHRONIC DISEASE\n",
            "No null : FATIGUE \n",
            "No null : ALLERGY \n",
            "No null : WHEEZING\n",
            "No null : ALCOHOL CONSUMING\n",
            "No null : COUGHING\n",
            "No null : SHORTNESS OF BREATH\n",
            "No null : SWALLOWING DIFFICULTY\n",
            "No null : CHEST PAIN\n",
            "No null : LUNG_CANCER\n"
          ]
        }
      ]
    },
    {
      "cell_type": "code",
      "source": [
        "# 결측치의 합을 df형으로 다시 확인\n",
        "df.isna().sum().to_frame().T"
      ],
      "metadata": {
        "colab": {
          "base_uri": "https://localhost:8080/",
          "height": 162
        },
        "id": "jjaDYHX5VkJH",
        "outputId": "67b031d2-b247-4a1c-ec21-36d6f4f3b432"
      },
      "execution_count": 18,
      "outputs": [
        {
          "output_type": "execute_result",
          "data": {
            "text/plain": [
              "   GENDER  AGE  SMOKING  YELLOW_FINGERS  ANXIETY  PEER_PRESSURE  \\\n",
              "0       0    0        0               0        0              0   \n",
              "\n",
              "   CHRONIC DISEASE  FATIGUE   ALLERGY   WHEEZING  ALCOHOL CONSUMING  COUGHING  \\\n",
              "0                0         0         0         0                  0         0   \n",
              "\n",
              "   SHORTNESS OF BREATH  SWALLOWING DIFFICULTY  CHEST PAIN  LUNG_CANCER  \n",
              "0                    0                      0           0            0  "
            ],
            "text/html": [
              "\n",
              "  <div id=\"df-b817625a-6578-420f-b97c-d39fc1ad61ba\">\n",
              "    <div class=\"colab-df-container\">\n",
              "      <div>\n",
              "<style scoped>\n",
              "    .dataframe tbody tr th:only-of-type {\n",
              "        vertical-align: middle;\n",
              "    }\n",
              "\n",
              "    .dataframe tbody tr th {\n",
              "        vertical-align: top;\n",
              "    }\n",
              "\n",
              "    .dataframe thead th {\n",
              "        text-align: right;\n",
              "    }\n",
              "</style>\n",
              "<table border=\"1\" class=\"dataframe\">\n",
              "  <thead>\n",
              "    <tr style=\"text-align: right;\">\n",
              "      <th></th>\n",
              "      <th>GENDER</th>\n",
              "      <th>AGE</th>\n",
              "      <th>SMOKING</th>\n",
              "      <th>YELLOW_FINGERS</th>\n",
              "      <th>ANXIETY</th>\n",
              "      <th>PEER_PRESSURE</th>\n",
              "      <th>CHRONIC DISEASE</th>\n",
              "      <th>FATIGUE</th>\n",
              "      <th>ALLERGY</th>\n",
              "      <th>WHEEZING</th>\n",
              "      <th>ALCOHOL CONSUMING</th>\n",
              "      <th>COUGHING</th>\n",
              "      <th>SHORTNESS OF BREATH</th>\n",
              "      <th>SWALLOWING DIFFICULTY</th>\n",
              "      <th>CHEST PAIN</th>\n",
              "      <th>LUNG_CANCER</th>\n",
              "    </tr>\n",
              "  </thead>\n",
              "  <tbody>\n",
              "    <tr>\n",
              "      <th>0</th>\n",
              "      <td>0</td>\n",
              "      <td>0</td>\n",
              "      <td>0</td>\n",
              "      <td>0</td>\n",
              "      <td>0</td>\n",
              "      <td>0</td>\n",
              "      <td>0</td>\n",
              "      <td>0</td>\n",
              "      <td>0</td>\n",
              "      <td>0</td>\n",
              "      <td>0</td>\n",
              "      <td>0</td>\n",
              "      <td>0</td>\n",
              "      <td>0</td>\n",
              "      <td>0</td>\n",
              "      <td>0</td>\n",
              "    </tr>\n",
              "  </tbody>\n",
              "</table>\n",
              "</div>\n",
              "      <button class=\"colab-df-convert\" onclick=\"convertToInteractive('df-b817625a-6578-420f-b97c-d39fc1ad61ba')\"\n",
              "              title=\"Convert this dataframe to an interactive table.\"\n",
              "              style=\"display:none;\">\n",
              "        \n",
              "  <svg xmlns=\"http://www.w3.org/2000/svg\" height=\"24px\"viewBox=\"0 0 24 24\"\n",
              "       width=\"24px\">\n",
              "    <path d=\"M0 0h24v24H0V0z\" fill=\"none\"/>\n",
              "    <path d=\"M18.56 5.44l.94 2.06.94-2.06 2.06-.94-2.06-.94-.94-2.06-.94 2.06-2.06.94zm-11 1L8.5 8.5l.94-2.06 2.06-.94-2.06-.94L8.5 2.5l-.94 2.06-2.06.94zm10 10l.94 2.06.94-2.06 2.06-.94-2.06-.94-.94-2.06-.94 2.06-2.06.94z\"/><path d=\"M17.41 7.96l-1.37-1.37c-.4-.4-.92-.59-1.43-.59-.52 0-1.04.2-1.43.59L10.3 9.45l-7.72 7.72c-.78.78-.78 2.05 0 2.83L4 21.41c.39.39.9.59 1.41.59.51 0 1.02-.2 1.41-.59l7.78-7.78 2.81-2.81c.8-.78.8-2.07 0-2.86zM5.41 20L4 18.59l7.72-7.72 1.47 1.35L5.41 20z\"/>\n",
              "  </svg>\n",
              "      </button>\n",
              "      \n",
              "  <style>\n",
              "    .colab-df-container {\n",
              "      display:flex;\n",
              "      flex-wrap:wrap;\n",
              "      gap: 12px;\n",
              "    }\n",
              "\n",
              "    .colab-df-convert {\n",
              "      background-color: #E8F0FE;\n",
              "      border: none;\n",
              "      border-radius: 50%;\n",
              "      cursor: pointer;\n",
              "      display: none;\n",
              "      fill: #1967D2;\n",
              "      height: 32px;\n",
              "      padding: 0 0 0 0;\n",
              "      width: 32px;\n",
              "    }\n",
              "\n",
              "    .colab-df-convert:hover {\n",
              "      background-color: #E2EBFA;\n",
              "      box-shadow: 0px 1px 2px rgba(60, 64, 67, 0.3), 0px 1px 3px 1px rgba(60, 64, 67, 0.15);\n",
              "      fill: #174EA6;\n",
              "    }\n",
              "\n",
              "    [theme=dark] .colab-df-convert {\n",
              "      background-color: #3B4455;\n",
              "      fill: #D2E3FC;\n",
              "    }\n",
              "\n",
              "    [theme=dark] .colab-df-convert:hover {\n",
              "      background-color: #434B5C;\n",
              "      box-shadow: 0px 1px 3px 1px rgba(0, 0, 0, 0.15);\n",
              "      filter: drop-shadow(0px 1px 2px rgba(0, 0, 0, 0.3));\n",
              "      fill: #FFFFFF;\n",
              "    }\n",
              "  </style>\n",
              "\n",
              "      <script>\n",
              "        const buttonEl =\n",
              "          document.querySelector('#df-b817625a-6578-420f-b97c-d39fc1ad61ba button.colab-df-convert');\n",
              "        buttonEl.style.display =\n",
              "          google.colab.kernel.accessAllowed ? 'block' : 'none';\n",
              "\n",
              "        async function convertToInteractive(key) {\n",
              "          const element = document.querySelector('#df-b817625a-6578-420f-b97c-d39fc1ad61ba');\n",
              "          const dataTable =\n",
              "            await google.colab.kernel.invokeFunction('convertToInteractive',\n",
              "                                                     [key], {});\n",
              "          if (!dataTable) return;\n",
              "\n",
              "          const docLinkHtml = 'Like what you see? Visit the ' +\n",
              "            '<a target=\"_blank\" href=https://colab.research.google.com/notebooks/data_table.ipynb>data table notebook</a>'\n",
              "            + ' to learn more about interactive tables.';\n",
              "          element.innerHTML = '';\n",
              "          dataTable['output_type'] = 'display_data';\n",
              "          await google.colab.output.renderOutput(dataTable, element);\n",
              "          const docLink = document.createElement('div');\n",
              "          docLink.innerHTML = docLinkHtml;\n",
              "          element.appendChild(docLink);\n",
              "        }\n",
              "      </script>\n",
              "    </div>\n",
              "  </div>\n",
              "  "
            ]
          },
          "metadata": {},
          "execution_count": 18
        }
      ]
    },
    {
      "cell_type": "code",
      "source": [
        "# 중복 데이터 개수\n",
        "print(f'중복된 데이터 개수 : {df[df.duplicated()].shape[0]}')"
      ],
      "metadata": {
        "colab": {
          "base_uri": "https://localhost:8080/"
        },
        "id": "Ml-sRo4iWFhe",
        "outputId": "13f5d25b-5099-4ee9-a7c1-528f64f5f00f"
      },
      "execution_count": 19,
      "outputs": [
        {
          "output_type": "stream",
          "name": "stdout",
          "text": [
            "중복된 데이터 개수 : 33\n"
          ]
        }
      ]
    },
    {
      "cell_type": "code",
      "source": [
        "# 중복된 데이터 중 첫번째만 남기고 제거\n",
        "df.drop_duplicates(keep='first', inplace=True)\n",
        "\n",
        "print(f'중복된 데이터를 제고하고 남은 데이터 개수는 : {df.shape[0]}')"
      ],
      "metadata": {
        "colab": {
          "base_uri": "https://localhost:8080/"
        },
        "id": "K2YsESYQWu4Y",
        "outputId": "8698d54d-7af4-49fa-d36b-40ddd640252c"
      },
      "execution_count": 20,
      "outputs": [
        {
          "output_type": "stream",
          "name": "stdout",
          "text": [
            "중복된 데이터를 제고하고 남은 데이터 개수는 : 276\n"
          ]
        }
      ]
    },
    {
      "cell_type": "markdown",
      "source": [
        "# Visualization"
      ],
      "metadata": {
        "id": "d8S9g7cIyCb-"
      }
    },
    {
      "cell_type": "markdown",
      "source": [
        "**custom palette for visualization**"
      ],
      "metadata": {
        "id": "90sEE9TIyHp1"
      }
    },
    {
      "cell_type": "code",
      "source": [
        "sns.set_style('whitegrid')                # whitegrid\n",
        "sns.set_context('poster', font_scale=.7)  # poster(큰 사이즈), font_scale은 0.7\n",
        "'''\n",
        "------------------------------------------------------------------------------\n",
        "# set_style : 그림의 전반적 모양 스타일링\n",
        "  background color, grid, spine, tick 정의\n",
        "  ㄴ default  : darkgrid\n",
        "  ㄴ 변경     :\n",
        "          1) Background color : dark, white\n",
        "          2) Grid             : whitegrid, darkgrid\n",
        "          3) Despine(축/테두리 제거)\n",
        "              ㄴ spine : left, right, top, bottom\n",
        "              ㄴ 1) default : top, right 제거\n",
        "              ㄴ 2) sns.despine(left=True)  # left도 제거\n",
        "              ㄴ 3) sns.despine(bottom=True)# bottom도 제거\n",
        "\n",
        "-------------------------------------------------------------------------------\n",
        "# set_context : 다양한 매체에 활용할 수 있도록 스타일링\n",
        "  ㄴ 네 종류의 스케일(사이즈) 선택 가능\n",
        "  ㄴ 스케일(사이즈) 종류 : paper, notebook, talk, poster\n",
        "  ㄴ default : notebook\n",
        "      ㄴ # paper  : 작은 스케일\n",
        "      ㄴ # poster : 글씨가 조금씩 커짐 \n",
        "\n",
        "  --------------------------------------------------------------------------\n",
        "  ### 디테일하게 조정하고 싶을 때:\n",
        "     sns.set_context()안에 rc 파라미터를 딕셔너리 형태로 넣어줌 (run command)\n",
        "     ex) sns.set_context(\"poster\", font_scale=1, rc={\"grid.linewidth\":5})\n",
        "\n",
        "     ### rc 파라미터 종류\n",
        "     {'axes.labelsize': 17.6,\n",
        "      'axes.titlesize': 19.200000000000003,\n",
        "      'font.size': 19.200000000000003,\n",
        "      'grid.linewidth': 1.6,\n",
        "      'legend.fontsize': 16.0,\n",
        "      'lines.linewidth': 2.8000000000000003,\n",
        "      'lines.markeredgewidth': 0.0,\n",
        "      'lines.markersize': 11.200000000000001,\n",
        "      'patch.linewidth': 0.48,\n",
        "      'xtick.labelsize': 16.0,\n",
        "      'xtick.major.pad': 11.200000000000001,\n",
        "      'xtick.major.width': 1.6,\n",
        "      'xtick.minor.width': 0.8,\n",
        "      'ytick.labelsize': 16.0,\n",
        "      'ytick.major.pad': 11.200000000000001,\n",
        "      'ytick.major.width': 1.6,\n",
        "      'ytick.minor.width': 0.8}\n",
        "'''"
      ],
      "metadata": {
        "id": "jLChZzoiXO-z",
        "colab": {
          "base_uri": "https://localhost:8080/",
          "height": 208
        },
        "outputId": "309af58b-96c9-41d8-f4f8-8164d095ced4"
      },
      "execution_count": 21,
      "outputs": [
        {
          "output_type": "execute_result",
          "data": {
            "text/plain": [
              "'\\n------------------------------------------------------------------------------\\n# set_style : 그림의 전반적 모양 스타일링\\n  background color, grid, spine, tick 정의\\n  ㄴ default  : darkgrid\\n  ㄴ 변경     :\\n          1) Background color : dark, white\\n          2) Grid             : whitegrid, darkgrid\\n          3) Despine(축/테두리 제거)\\n              ㄴ spine : left, right, top, bottom\\n              ㄴ 1) default : top, right 제거\\n              ㄴ 2) sns.despine(left=True)  # left도 제거\\n              ㄴ 3) sns.despine(bottom=True)# bottom도 제거\\n\\n-------------------------------------------------------------------------------\\n# set_context : 다양한 매체에 활용할 수 있도록 스타일링\\n  ㄴ 네 종류의 스케일(사이즈) 선택 가능\\n  ㄴ 스케일(사이즈) 종류 : paper, notebook, talk, poster\\n  ㄴ default : notebook\\n      ㄴ # paper  : 작은 스케일\\n      ㄴ # poster : 글씨가 조금씩 커짐 \\n\\n  --------------------------------------------------------------------------\\n  ### 디테일하게 조정하고 싶을 때:\\n     sns.set_context()안에 rc 파라미터를 딕셔너리 형태로 넣어줌 (run command)\\n     ex) sns.set_context(\"poster\", font_scale=1, rc={\"grid.linewidth\":5})\\n\\n     ### rc 파라미터 종류\\n     {\\'axes.labelsize\\': 17.6,\\n      \\'axes.titlesize\\': 19.200000000000003,\\n      \\'font.size\\': 19.200000000000003,\\n      \\'grid.linewidth\\': 1.6,\\n      \\'legend.fontsize\\': 16.0,\\n      \\'lines.linewidth\\': 2.8000000000000003,\\n      \\'lines.markeredgewidth\\': 0.0,\\n      \\'lines.markersize\\': 11.200000000000001,\\n      \\'patch.linewidth\\': 0.48,\\n      \\'xtick.labelsize\\': 16.0,\\n      \\'xtick.major.pad\\': 11.200000000000001,\\n      \\'xtick.major.width\\': 1.6,\\n      \\'xtick.minor.width\\': 0.8,\\n      \\'ytick.labelsize\\': 16.0,\\n      \\'ytick.major.pad\\': 11.200000000000001,\\n      \\'ytick.major.width\\': 1.6,\\n      \\'ytick.minor.width\\': 0.8}\\n'"
            ],
            "application/vnd.google.colaboratory.intrinsic+json": {
              "type": "string"
            }
          },
          "metadata": {},
          "execution_count": 21
        }
      ]
    },
    {
      "cell_type": "markdown",
      "source": [
        "참조: https://hleecaster.com/python-seaborn-set-style-and-context/"
      ],
      "metadata": {
        "id": "txjYanrv17IJ"
      }
    },
    {
      "cell_type": "code",
      "source": [
        "palette=  [\"#1d7874\",\"#679289\",\"#f4c095\",\"#ee2e31\",\"#ffb563\",\"#918450\",\"#f85e00\",\"#a41623\",\"#9a031e\",\"#d6d6d6\",\"#ffee32\",\"#ffd100\",\"#333533\",\"#202020\"]"
      ],
      "metadata": {
        "id": "AtjETf1J3SEb"
      },
      "execution_count": 22,
      "outputs": []
    },
    {
      "cell_type": "markdown",
      "source": [
        "sns.palplot을 통해 저장한 팔레트 불러올 수 있음"
      ],
      "metadata": {
        "id": "hUzDmeC64DFq"
      }
    },
    {
      "cell_type": "code",
      "source": [
        "sns.palplot(sns.color_palette(palette))"
      ],
      "metadata": {
        "colab": {
          "base_uri": "https://localhost:8080/",
          "height": 81
        },
        "id": "-ccWWPM1XbCZ",
        "outputId": "c1731891-d875-4769-d8e2-c90f57d37a24"
      },
      "execution_count": 23,
      "outputs": [
        {
          "output_type": "display_data",
          "data": {
            "text/plain": [
              "<Figure size 1008x72 with 1 Axes>"
            ],
            "image/png": "[encoded data removed]"
          },
          "metadata": {}
        }
      ]
    },
    {
      "cell_type": "markdown",
      "source": [
        "palette 관련 스터디 추가 참조 자료 : https://hleecaster.com/python-seaborn-color/ "
      ],
      "metadata": {
        "id": "M9Kv-IzN3biz"
      }
    },
    {
      "cell_type": "markdown",
      "source": [
        "# Digging Deeper"
      ],
      "metadata": {
        "id": "Qv5cmJ_7XsTm"
      }
    },
    {
      "cell_type": "code",
      "source": [
        "# df 보존을 위해 copy해 df_temp 만들어 사용\n",
        "df_temp = df.copy()\n",
        "df_temp.head(3)"
      ],
      "metadata": {
        "colab": {
          "base_uri": "https://localhost:8080/",
          "height": 225
        },
        "id": "G89kKiDx47gC",
        "outputId": "b53bd46b-19fc-4f84-961f-54537103f0f7"
      },
      "execution_count": 24,
      "outputs": [
        {
          "output_type": "execute_result",
          "data": {
            "text/plain": [
              "  GENDER  AGE  SMOKING  YELLOW_FINGERS  ANXIETY  PEER_PRESSURE  \\\n",
              "0      M   69        1               2        2              1   \n",
              "1      M   74        2               1        1              1   \n",
              "2      F   59        1               1        1              2   \n",
              "\n",
              "   CHRONIC DISEASE  FATIGUE   ALLERGY   WHEEZING  ALCOHOL CONSUMING  COUGHING  \\\n",
              "0                1         2         1         2                  2         2   \n",
              "1                2         2         2         1                  1         1   \n",
              "2                1         2         1         2                  1         2   \n",
              "\n",
              "   SHORTNESS OF BREATH  SWALLOWING DIFFICULTY  CHEST PAIN LUNG_CANCER  \n",
              "0                    2                      2           2         YES  \n",
              "1                    2                      2           2         YES  \n",
              "2                    2                      1           2          NO  "
            ],
            "text/html": [
              "\n",
              "  <div id=\"df-68542f5f-555e-4337-823b-81186ba37eb7\">\n",
              "    <div class=\"colab-df-container\">\n",
              "      <div>\n",
              "<style scoped>\n",
              "    .dataframe tbody tr th:only-of-type {\n",
              "        vertical-align: middle;\n",
              "    }\n",
              "\n",
              "    .dataframe tbody tr th {\n",
              "        vertical-align: top;\n",
              "    }\n",
              "\n",
              "    .dataframe thead th {\n",
              "        text-align: right;\n",
              "    }\n",
              "</style>\n",
              "<table border=\"1\" class=\"dataframe\">\n",
              "  <thead>\n",
              "    <tr style=\"text-align: right;\">\n",
              "      <th></th>\n",
              "      <th>GENDER</th>\n",
              "      <th>AGE</th>\n",
              "      <th>SMOKING</th>\n",
              "      <th>YELLOW_FINGERS</th>\n",
              "      <th>ANXIETY</th>\n",
              "      <th>PEER_PRESSURE</th>\n",
              "      <th>CHRONIC DISEASE</th>\n",
              "      <th>FATIGUE</th>\n",
              "      <th>ALLERGY</th>\n",
              "      <th>WHEEZING</th>\n",
              "      <th>ALCOHOL CONSUMING</th>\n",
              "      <th>COUGHING</th>\n",
              "      <th>SHORTNESS OF BREATH</th>\n",
              "      <th>SWALLOWING DIFFICULTY</th>\n",
              "      <th>CHEST PAIN</th>\n",
              "      <th>LUNG_CANCER</th>\n",
              "    </tr>\n",
              "  </thead>\n",
              "  <tbody>\n",
              "    <tr>\n",
              "      <th>0</th>\n",
              "      <td>M</td>\n",
              "      <td>69</td>\n",
              "      <td>1</td>\n",
              "      <td>2</td>\n",
              "      <td>2</td>\n",
              "      <td>1</td>\n",
              "      <td>1</td>\n",
              "      <td>2</td>\n",
              "      <td>1</td>\n",
              "      <td>2</td>\n",
              "      <td>2</td>\n",
              "      <td>2</td>\n",
              "      <td>2</td>\n",
              "      <td>2</td>\n",
              "      <td>2</td>\n",
              "      <td>YES</td>\n",
              "    </tr>\n",
              "    <tr>\n",
              "      <th>1</th>\n",
              "      <td>M</td>\n",
              "      <td>74</td>\n",
              "      <td>2</td>\n",
              "      <td>1</td>\n",
              "      <td>1</td>\n",
              "      <td>1</td>\n",
              "      <td>2</td>\n",
              "      <td>2</td>\n",
              "      <td>2</td>\n",
              "      <td>1</td>\n",
              "      <td>1</td>\n",
              "      <td>1</td>\n",
              "      <td>2</td>\n",
              "      <td>2</td>\n",
              "      <td>2</td>\n",
              "      <td>YES</td>\n",
              "    </tr>\n",
              "    <tr>\n",
              "      <th>2</th>\n",
              "      <td>F</td>\n",
              "      <td>59</td>\n",
              "      <td>1</td>\n",
              "      <td>1</td>\n",
              "      <td>1</td>\n",
              "      <td>2</td>\n",
              "      <td>1</td>\n",
              "      <td>2</td>\n",
              "      <td>1</td>\n",
              "      <td>2</td>\n",
              "      <td>1</td>\n",
              "      <td>2</td>\n",
              "      <td>2</td>\n",
              "      <td>1</td>\n",
              "      <td>2</td>\n",
              "      <td>NO</td>\n",
              "    </tr>\n",
              "  </tbody>\n",
              "</table>\n",
              "</div>\n",
              "      <button class=\"colab-df-convert\" onclick=\"convertToInteractive('df-68542f5f-555e-4337-823b-81186ba37eb7')\"\n",
              "              title=\"Convert this dataframe to an interactive table.\"\n",
              "              style=\"display:none;\">\n",
              "        \n",
              "  <svg xmlns=\"http://www.w3.org/2000/svg\" height=\"24px\"viewBox=\"0 0 24 24\"\n",
              "       width=\"24px\">\n",
              "    <path d=\"M0 0h24v24H0V0z\" fill=\"none\"/>\n",
              "    <path d=\"M18.56 5.44l.94 2.06.94-2.06 2.06-.94-2.06-.94-.94-2.06-.94 2.06-2.06.94zm-11 1L8.5 8.5l.94-2.06 2.06-.94-2.06-.94L8.5 2.5l-.94 2.06-2.06.94zm10 10l.94 2.06.94-2.06 2.06-.94-2.06-.94-.94-2.06-.94 2.06-2.06.94z\"/><path d=\"M17.41 7.96l-1.37-1.37c-.4-.4-.92-.59-1.43-.59-.52 0-1.04.2-1.43.59L10.3 9.45l-7.72 7.72c-.78.78-.78 2.05 0 2.83L4 21.41c.39.39.9.59 1.41.59.51 0 1.02-.2 1.41-.59l7.78-7.78 2.81-2.81c.8-.78.8-2.07 0-2.86zM5.41 20L4 18.59l7.72-7.72 1.47 1.35L5.41 20z\"/>\n",
              "  </svg>\n",
              "      </button>\n",
              "      \n",
              "  <style>\n",
              "    .colab-df-container {\n",
              "      display:flex;\n",
              "      flex-wrap:wrap;\n",
              "      gap: 12px;\n",
              "    }\n",
              "\n",
              "    .colab-df-convert {\n",
              "      background-color: #E8F0FE;\n",
              "      border: none;\n",
              "      border-radius: 50%;\n",
              "      cursor: pointer;\n",
              "      display: none;\n",
              "      fill: #1967D2;\n",
              "      height: 32px;\n",
              "      padding: 0 0 0 0;\n",
              "      width: 32px;\n",
              "    }\n",
              "\n",
              "    .colab-df-convert:hover {\n",
              "      background-color: #E2EBFA;\n",
              "      box-shadow: 0px 1px 2px rgba(60, 64, 67, 0.3), 0px 1px 3px 1px rgba(60, 64, 67, 0.15);\n",
              "      fill: #174EA6;\n",
              "    }\n",
              "\n",
              "    [theme=dark] .colab-df-convert {\n",
              "      background-color: #3B4455;\n",
              "      fill: #D2E3FC;\n",
              "    }\n",
              "\n",
              "    [theme=dark] .colab-df-convert:hover {\n",
              "      background-color: #434B5C;\n",
              "      box-shadow: 0px 1px 3px 1px rgba(0, 0, 0, 0.15);\n",
              "      filter: drop-shadow(0px 1px 2px rgba(0, 0, 0, 0.3));\n",
              "      fill: #FFFFFF;\n",
              "    }\n",
              "  </style>\n",
              "\n",
              "      <script>\n",
              "        const buttonEl =\n",
              "          document.querySelector('#df-68542f5f-555e-4337-823b-81186ba37eb7 button.colab-df-convert');\n",
              "        buttonEl.style.display =\n",
              "          google.colab.kernel.accessAllowed ? 'block' : 'none';\n",
              "\n",
              "        async function convertToInteractive(key) {\n",
              "          const element = document.querySelector('#df-68542f5f-555e-4337-823b-81186ba37eb7');\n",
              "          const dataTable =\n",
              "            await google.colab.kernel.invokeFunction('convertToInteractive',\n",
              "                                                     [key], {});\n",
              "          if (!dataTable) return;\n",
              "\n",
              "          const docLinkHtml = 'Like what you see? Visit the ' +\n",
              "            '<a target=\"_blank\" href=https://colab.research.google.com/notebooks/data_table.ipynb>data table notebook</a>'\n",
              "            + ' to learn more about interactive tables.';\n",
              "          element.innerHTML = '';\n",
              "          dataTable['output_type'] = 'display_data';\n",
              "          await google.colab.output.renderOutput(dataTable, element);\n",
              "          const docLink = document.createElement('div');\n",
              "          docLink.innerHTML = docLinkHtml;\n",
              "          element.appendChild(docLink);\n",
              "        }\n",
              "      </script>\n",
              "    </div>\n",
              "  </div>\n",
              "  "
            ]
          },
          "metadata": {},
          "execution_count": 24
        }
      ]
    },
    {
      "cell_type": "markdown",
      "source": [
        "- GENDER 변경 가능\n",
        "- 1, 2로 카테고리 분류되어 있는 것 변경 가능"
      ],
      "metadata": {
        "id": "i1WD9MYA5CHV"
      }
    },
    {
      "cell_type": "code",
      "source": [
        "# M -> Male, F -> Female\n",
        "df_temp['GENDER'] = df_temp['GENDER'].replace({'M':'Male', 'F':'Female'})\n",
        "\n",
        "# 2: Yes , 1: No 변경\n",
        "for col in df_temp.columns:\n",
        "  df_temp[col] = df_temp[col].replace({2:'YES', 1:'NO'})\n",
        "\n",
        "df_temp.head()"
      ],
      "metadata": {
        "colab": {
          "base_uri": "https://localhost:8080/",
          "height": 287
        },
        "id": "i3WlAMvAXgwO",
        "outputId": "0a53b414-5c68-4bc3-c584-340c012f70df"
      },
      "execution_count": 25,
      "outputs": [
        {
          "output_type": "execute_result",
          "data": {
            "text/plain": [
              "   GENDER  AGE SMOKING YELLOW_FINGERS ANXIETY PEER_PRESSURE CHRONIC DISEASE  \\\n",
              "0    Male   69      NO            YES     YES            NO              NO   \n",
              "1    Male   74     YES             NO      NO            NO             YES   \n",
              "2  Female   59      NO             NO      NO           YES              NO   \n",
              "3    Male   63     YES            YES     YES            NO              NO   \n",
              "4  Female   63      NO            YES      NO            NO              NO   \n",
              "\n",
              "  FATIGUE  ALLERGY  WHEEZING ALCOHOL CONSUMING COUGHING SHORTNESS OF BREATH  \\\n",
              "0      YES       NO      YES               YES      YES                 YES   \n",
              "1      YES      YES       NO                NO       NO                 YES   \n",
              "2      YES       NO      YES                NO      YES                 YES   \n",
              "3       NO       NO       NO               YES       NO                  NO   \n",
              "4       NO       NO      YES                NO      YES                 YES   \n",
              "\n",
              "  SWALLOWING DIFFICULTY CHEST PAIN LUNG_CANCER  \n",
              "0                   YES        YES         YES  \n",
              "1                   YES        YES         YES  \n",
              "2                    NO        YES          NO  \n",
              "3                   YES        YES          NO  \n",
              "4                    NO         NO          NO  "
            ],
            "text/html": [
              "\n",
              "  <div id=\"df-613e0b88-93f9-43c3-bc20-18e9c9263453\">\n",
              "    <div class=\"colab-df-container\">\n",
              "      <div>\n",
              "<style scoped>\n",
              "    .dataframe tbody tr th:only-of-type {\n",
              "        vertical-align: middle;\n",
              "    }\n",
              "\n",
              "    .dataframe tbody tr th {\n",
              "        vertical-align: top;\n",
              "    }\n",
              "\n",
              "    .dataframe thead th {\n",
              "        text-align: right;\n",
              "    }\n",
              "</style>\n",
              "<table border=\"1\" class=\"dataframe\">\n",
              "  <thead>\n",
              "    <tr style=\"text-align: right;\">\n",
              "      <th></th>\n",
              "      <th>GENDER</th>\n",
              "      <th>AGE</th>\n",
              "      <th>SMOKING</th>\n",
              "      <th>YELLOW_FINGERS</th>\n",
              "      <th>ANXIETY</th>\n",
              "      <th>PEER_PRESSURE</th>\n",
              "      <th>CHRONIC DISEASE</th>\n",
              "      <th>FATIGUE</th>\n",
              "      <th>ALLERGY</th>\n",
              "      <th>WHEEZING</th>\n",
              "      <th>ALCOHOL CONSUMING</th>\n",
              "      <th>COUGHING</th>\n",
              "      <th>SHORTNESS OF BREATH</th>\n",
              "      <th>SWALLOWING DIFFICULTY</th>\n",
              "      <th>CHEST PAIN</th>\n",
              "      <th>LUNG_CANCER</th>\n",
              "    </tr>\n",
              "  </thead>\n",
              "  <tbody>\n",
              "    <tr>\n",
              "      <th>0</th>\n",
              "      <td>Male</td>\n",
              "      <td>69</td>\n",
              "      <td>NO</td>\n",
              "      <td>YES</td>\n",
              "      <td>YES</td>\n",
              "      <td>NO</td>\n",
              "      <td>NO</td>\n",
              "      <td>YES</td>\n",
              "      <td>NO</td>\n",
              "      <td>YES</td>\n",
              "      <td>YES</td>\n",
              "      <td>YES</td>\n",
              "      <td>YES</td>\n",
              "      <td>YES</td>\n",
              "      <td>YES</td>\n",
              "      <td>YES</td>\n",
              "    </tr>\n",
              "    <tr>\n",
              "      <th>1</th>\n",
              "      <td>Male</td>\n",
              "      <td>74</td>\n",
              "      <td>YES</td>\n",
              "      <td>NO</td>\n",
              "      <td>NO</td>\n",
              "      <td>NO</td>\n",
              "      <td>YES</td>\n",
              "      <td>YES</td>\n",
              "      <td>YES</td>\n",
              "      <td>NO</td>\n",
              "      <td>NO</td>\n",
              "      <td>NO</td>\n",
              "      <td>YES</td>\n",
              "      <td>YES</td>\n",
              "      <td>YES</td>\n",
              "      <td>YES</td>\n",
              "    </tr>\n",
              "    <tr>\n",
              "      <th>2</th>\n",
              "      <td>Female</td>\n",
              "      <td>59</td>\n",
              "      <td>NO</td>\n",
              "      <td>NO</td>\n",
              "      <td>NO</td>\n",
              "      <td>YES</td>\n",
              "      <td>NO</td>\n",
              "      <td>YES</td>\n",
              "      <td>NO</td>\n",
              "      <td>YES</td>\n",
              "      <td>NO</td>\n",
              "      <td>YES</td>\n",
              "      <td>YES</td>\n",
              "      <td>NO</td>\n",
              "      <td>YES</td>\n",
              "      <td>NO</td>\n",
              "    </tr>\n",
              "    <tr>\n",
              "      <th>3</th>\n",
              "      <td>Male</td>\n",
              "      <td>63</td>\n",
              "      <td>YES</td>\n",
              "      <td>YES</td>\n",
              "      <td>YES</td>\n",
              "      <td>NO</td>\n",
              "      <td>NO</td>\n",
              "      <td>NO</td>\n",
              "      <td>NO</td>\n",
              "      <td>NO</td>\n",
              "      <td>YES</td>\n",
              "      <td>NO</td>\n",
              "      <td>NO</td>\n",
              "      <td>YES</td>\n",
              "      <td>YES</td>\n",
              "      <td>NO</td>\n",
              "    </tr>\n",
              "    <tr>\n",
              "      <th>4</th>\n",
              "      <td>Female</td>\n",
              "      <td>63</td>\n",
              "      <td>NO</td>\n",
              "      <td>YES</td>\n",
              "      <td>NO</td>\n",
              "      <td>NO</td>\n",
              "      <td>NO</td>\n",
              "      <td>NO</td>\n",
              "      <td>NO</td>\n",
              "      <td>YES</td>\n",
              "      <td>NO</td>\n",
              "      <td>YES</td>\n",
              "      <td>YES</td>\n",
              "      <td>NO</td>\n",
              "      <td>NO</td>\n",
              "      <td>NO</td>\n",
              "    </tr>\n",
              "  </tbody>\n",
              "</table>\n",
              "</div>\n",
              "      <button class=\"colab-df-convert\" onclick=\"convertToInteractive('df-613e0b88-93f9-43c3-bc20-18e9c9263453')\"\n",
              "              title=\"Convert this dataframe to an interactive table.\"\n",
              "              style=\"display:none;\">\n",
              "        \n",
              "  <svg xmlns=\"http://www.w3.org/2000/svg\" height=\"24px\"viewBox=\"0 0 24 24\"\n",
              "       width=\"24px\">\n",
              "    <path d=\"M0 0h24v24H0V0z\" fill=\"none\"/>\n",
              "    <path d=\"M18.56 5.44l.94 2.06.94-2.06 2.06-.94-2.06-.94-.94-2.06-.94 2.06-2.06.94zm-11 1L8.5 8.5l.94-2.06 2.06-.94-2.06-.94L8.5 2.5l-.94 2.06-2.06.94zm10 10l.94 2.06.94-2.06 2.06-.94-2.06-.94-.94-2.06-.94 2.06-2.06.94z\"/><path d=\"M17.41 7.96l-1.37-1.37c-.4-.4-.92-.59-1.43-.59-.52 0-1.04.2-1.43.59L10.3 9.45l-7.72 7.72c-.78.78-.78 2.05 0 2.83L4 21.41c.39.39.9.59 1.41.59.51 0 1.02-.2 1.41-.59l7.78-7.78 2.81-2.81c.8-.78.8-2.07 0-2.86zM5.41 20L4 18.59l7.72-7.72 1.47 1.35L5.41 20z\"/>\n",
              "  </svg>\n",
              "      </button>\n",
              "      \n",
              "  <style>\n",
              "    .colab-df-container {\n",
              "      display:flex;\n",
              "      flex-wrap:wrap;\n",
              "      gap: 12px;\n",
              "    }\n",
              "\n",
              "    .colab-df-convert {\n",
              "      background-color: #E8F0FE;\n",
              "      border: none;\n",
              "      border-radius: 50%;\n",
              "      cursor: pointer;\n",
              "      display: none;\n",
              "      fill: #1967D2;\n",
              "      height: 32px;\n",
              "      padding: 0 0 0 0;\n",
              "      width: 32px;\n",
              "    }\n",
              "\n",
              "    .colab-df-convert:hover {\n",
              "      background-color: #E2EBFA;\n",
              "      box-shadow: 0px 1px 2px rgba(60, 64, 67, 0.3), 0px 1px 3px 1px rgba(60, 64, 67, 0.15);\n",
              "      fill: #174EA6;\n",
              "    }\n",
              "\n",
              "    [theme=dark] .colab-df-convert {\n",
              "      background-color: #3B4455;\n",
              "      fill: #D2E3FC;\n",
              "    }\n",
              "\n",
              "    [theme=dark] .colab-df-convert:hover {\n",
              "      background-color: #434B5C;\n",
              "      box-shadow: 0px 1px 3px 1px rgba(0, 0, 0, 0.15);\n",
              "      filter: drop-shadow(0px 1px 2px rgba(0, 0, 0, 0.3));\n",
              "      fill: #FFFFFF;\n",
              "    }\n",
              "  </style>\n",
              "\n",
              "      <script>\n",
              "        const buttonEl =\n",
              "          document.querySelector('#df-613e0b88-93f9-43c3-bc20-18e9c9263453 button.colab-df-convert');\n",
              "        buttonEl.style.display =\n",
              "          google.colab.kernel.accessAllowed ? 'block' : 'none';\n",
              "\n",
              "        async function convertToInteractive(key) {\n",
              "          const element = document.querySelector('#df-613e0b88-93f9-43c3-bc20-18e9c9263453');\n",
              "          const dataTable =\n",
              "            await google.colab.kernel.invokeFunction('convertToInteractive',\n",
              "                                                     [key], {});\n",
              "          if (!dataTable) return;\n",
              "\n",
              "          const docLinkHtml = 'Like what you see? Visit the ' +\n",
              "            '<a target=\"_blank\" href=https://colab.research.google.com/notebooks/data_table.ipynb>data table notebook</a>'\n",
              "            + ' to learn more about interactive tables.';\n",
              "          element.innerHTML = '';\n",
              "          dataTable['output_type'] = 'display_data';\n",
              "          await google.colab.output.renderOutput(dataTable, element);\n",
              "          const docLink = document.createElement('div');\n",
              "          docLink.innerHTML = docLinkHtml;\n",
              "          element.appendChild(docLink);\n",
              "        }\n",
              "      </script>\n",
              "    </div>\n",
              "  </div>\n",
              "  "
            ]
          },
          "metadata": {},
          "execution_count": 25
        }
      ]
    },
    {
      "cell_type": "markdown",
      "source": [
        "## Lung Cancer 양성"
      ],
      "metadata": {
        "id": "iYPrHiqTY-SI"
      }
    },
    {
      "cell_type": "code",
      "source": [
        "df_temp_pos = df_temp[df_temp['LUNG_CANCER']=='YES']\n",
        "df_temp_pos.head()"
      ],
      "metadata": {
        "colab": {
          "base_uri": "https://localhost:8080/",
          "height": 287
        },
        "id": "92mBf07GYGIw",
        "outputId": "918ee05f-64f2-44aa-fca7-0291874b86c8"
      },
      "execution_count": 26,
      "outputs": [
        {
          "output_type": "execute_result",
          "data": {
            "text/plain": [
              "   GENDER  AGE SMOKING YELLOW_FINGERS ANXIETY PEER_PRESSURE CHRONIC DISEASE  \\\n",
              "0    Male   69      NO            YES     YES            NO              NO   \n",
              "1    Male   74     YES             NO      NO            NO             YES   \n",
              "5  Female   75      NO            YES      NO            NO             YES   \n",
              "6    Male   52     YES             NO      NO            NO              NO   \n",
              "7  Female   51     YES            YES     YES           YES              NO   \n",
              "\n",
              "  FATIGUE  ALLERGY  WHEEZING ALCOHOL CONSUMING COUGHING SHORTNESS OF BREATH  \\\n",
              "0      YES       NO      YES               YES      YES                 YES   \n",
              "1      YES      YES       NO                NO       NO                 YES   \n",
              "5      YES      YES      YES                NO      YES                 YES   \n",
              "6      YES       NO      YES               YES      YES                 YES   \n",
              "7      YES      YES       NO                NO       NO                 YES   \n",
              "\n",
              "  SWALLOWING DIFFICULTY CHEST PAIN LUNG_CANCER  \n",
              "0                   YES        YES         YES  \n",
              "1                   YES        YES         YES  \n",
              "5                    NO         NO         YES  \n",
              "6                    NO        YES         YES  \n",
              "7                   YES         NO         YES  "
            ],
            "text/html": [
              "\n",
              "  <div id=\"df-fc5517fd-d6d5-466b-ad24-c137237a608d\">\n",
              "    <div class=\"colab-df-container\">\n",
              "      <div>\n",
              "<style scoped>\n",
              "    .dataframe tbody tr th:only-of-type {\n",
              "        vertical-align: middle;\n",
              "    }\n",
              "\n",
              "    .dataframe tbody tr th {\n",
              "        vertical-align: top;\n",
              "    }\n",
              "\n",
              "    .dataframe thead th {\n",
              "        text-align: right;\n",
              "    }\n",
              "</style>\n",
              "<table border=\"1\" class=\"dataframe\">\n",
              "  <thead>\n",
              "    <tr style=\"text-align: right;\">\n",
              "      <th></th>\n",
              "      <th>GENDER</th>\n",
              "      <th>AGE</th>\n",
              "      <th>SMOKING</th>\n",
              "      <th>YELLOW_FINGERS</th>\n",
              "      <th>ANXIETY</th>\n",
              "      <th>PEER_PRESSURE</th>\n",
              "      <th>CHRONIC DISEASE</th>\n",
              "      <th>FATIGUE</th>\n",
              "      <th>ALLERGY</th>\n",
              "      <th>WHEEZING</th>\n",
              "      <th>ALCOHOL CONSUMING</th>\n",
              "      <th>COUGHING</th>\n",
              "      <th>SHORTNESS OF BREATH</th>\n",
              "      <th>SWALLOWING DIFFICULTY</th>\n",
              "      <th>CHEST PAIN</th>\n",
              "      <th>LUNG_CANCER</th>\n",
              "    </tr>\n",
              "  </thead>\n",
              "  <tbody>\n",
              "    <tr>\n",
              "      <th>0</th>\n",
              "      <td>Male</td>\n",
              "      <td>69</td>\n",
              "      <td>NO</td>\n",
              "      <td>YES</td>\n",
              "      <td>YES</td>\n",
              "      <td>NO</td>\n",
              "      <td>NO</td>\n",
              "      <td>YES</td>\n",
              "      <td>NO</td>\n",
              "      <td>YES</td>\n",
              "      <td>YES</td>\n",
              "      <td>YES</td>\n",
              "      <td>YES</td>\n",
              "      <td>YES</td>\n",
              "      <td>YES</td>\n",
              "      <td>YES</td>\n",
              "    </tr>\n",
              "    <tr>\n",
              "      <th>1</th>\n",
              "      <td>Male</td>\n",
              "      <td>74</td>\n",
              "      <td>YES</td>\n",
              "      <td>NO</td>\n",
              "      <td>NO</td>\n",
              "      <td>NO</td>\n",
              "      <td>YES</td>\n",
              "      <td>YES</td>\n",
              "      <td>YES</td>\n",
              "      <td>NO</td>\n",
              "      <td>NO</td>\n",
              "      <td>NO</td>\n",
              "      <td>YES</td>\n",
              "      <td>YES</td>\n",
              "      <td>YES</td>\n",
              "      <td>YES</td>\n",
              "    </tr>\n",
              "    <tr>\n",
              "      <th>5</th>\n",
              "      <td>Female</td>\n",
              "      <td>75</td>\n",
              "      <td>NO</td>\n",
              "      <td>YES</td>\n",
              "      <td>NO</td>\n",
              "      <td>NO</td>\n",
              "      <td>YES</td>\n",
              "      <td>YES</td>\n",
              "      <td>YES</td>\n",
              "      <td>YES</td>\n",
              "      <td>NO</td>\n",
              "      <td>YES</td>\n",
              "      <td>YES</td>\n",
              "      <td>NO</td>\n",
              "      <td>NO</td>\n",
              "      <td>YES</td>\n",
              "    </tr>\n",
              "    <tr>\n",
              "      <th>6</th>\n",
              "      <td>Male</td>\n",
              "      <td>52</td>\n",
              "      <td>YES</td>\n",
              "      <td>NO</td>\n",
              "      <td>NO</td>\n",
              "      <td>NO</td>\n",
              "      <td>NO</td>\n",
              "      <td>YES</td>\n",
              "      <td>NO</td>\n",
              "      <td>YES</td>\n",
              "      <td>YES</td>\n",
              "      <td>YES</td>\n",
              "      <td>YES</td>\n",
              "      <td>NO</td>\n",
              "      <td>YES</td>\n",
              "      <td>YES</td>\n",
              "    </tr>\n",
              "    <tr>\n",
              "      <th>7</th>\n",
              "      <td>Female</td>\n",
              "      <td>51</td>\n",
              "      <td>YES</td>\n",
              "      <td>YES</td>\n",
              "      <td>YES</td>\n",
              "      <td>YES</td>\n",
              "      <td>NO</td>\n",
              "      <td>YES</td>\n",
              "      <td>YES</td>\n",
              "      <td>NO</td>\n",
              "      <td>NO</td>\n",
              "      <td>NO</td>\n",
              "      <td>YES</td>\n",
              "      <td>YES</td>\n",
              "      <td>NO</td>\n",
              "      <td>YES</td>\n",
              "    </tr>\n",
              "  </tbody>\n",
              "</table>\n",
              "</div>\n",
              "      <button class=\"colab-df-convert\" onclick=\"convertToInteractive('df-fc5517fd-d6d5-466b-ad24-c137237a608d')\"\n",
              "              title=\"Convert this dataframe to an interactive table.\"\n",
              "              style=\"display:none;\">\n",
              "        \n",
              "  <svg xmlns=\"http://www.w3.org/2000/svg\" height=\"24px\"viewBox=\"0 0 24 24\"\n",
              "       width=\"24px\">\n",
              "    <path d=\"M0 0h24v24H0V0z\" fill=\"none\"/>\n",
              "    <path d=\"M18.56 5.44l.94 2.06.94-2.06 2.06-.94-2.06-.94-.94-2.06-.94 2.06-2.06.94zm-11 1L8.5 8.5l.94-2.06 2.06-.94-2.06-.94L8.5 2.5l-.94 2.06-2.06.94zm10 10l.94 2.06.94-2.06 2.06-.94-2.06-.94-.94-2.06-.94 2.06-2.06.94z\"/><path d=\"M17.41 7.96l-1.37-1.37c-.4-.4-.92-.59-1.43-.59-.52 0-1.04.2-1.43.59L10.3 9.45l-7.72 7.72c-.78.78-.78 2.05 0 2.83L4 21.41c.39.39.9.59 1.41.59.51 0 1.02-.2 1.41-.59l7.78-7.78 2.81-2.81c.8-.78.8-2.07 0-2.86zM5.41 20L4 18.59l7.72-7.72 1.47 1.35L5.41 20z\"/>\n",
              "  </svg>\n",
              "      </button>\n",
              "      \n",
              "  <style>\n",
              "    .colab-df-container {\n",
              "      display:flex;\n",
              "      flex-wrap:wrap;\n",
              "      gap: 12px;\n",
              "    }\n",
              "\n",
              "    .colab-df-convert {\n",
              "      background-color: #E8F0FE;\n",
              "      border: none;\n",
              "      border-radius: 50%;\n",
              "      cursor: pointer;\n",
              "      display: none;\n",
              "      fill: #1967D2;\n",
              "      height: 32px;\n",
              "      padding: 0 0 0 0;\n",
              "      width: 32px;\n",
              "    }\n",
              "\n",
              "    .colab-df-convert:hover {\n",
              "      background-color: #E2EBFA;\n",
              "      box-shadow: 0px 1px 2px rgba(60, 64, 67, 0.3), 0px 1px 3px 1px rgba(60, 64, 67, 0.15);\n",
              "      fill: #174EA6;\n",
              "    }\n",
              "\n",
              "    [theme=dark] .colab-df-convert {\n",
              "      background-color: #3B4455;\n",
              "      fill: #D2E3FC;\n",
              "    }\n",
              "\n",
              "    [theme=dark] .colab-df-convert:hover {\n",
              "      background-color: #434B5C;\n",
              "      box-shadow: 0px 1px 3px 1px rgba(0, 0, 0, 0.15);\n",
              "      filter: drop-shadow(0px 1px 2px rgba(0, 0, 0, 0.3));\n",
              "      fill: #FFFFFF;\n",
              "    }\n",
              "  </style>\n",
              "\n",
              "      <script>\n",
              "        const buttonEl =\n",
              "          document.querySelector('#df-fc5517fd-d6d5-466b-ad24-c137237a608d button.colab-df-convert');\n",
              "        buttonEl.style.display =\n",
              "          google.colab.kernel.accessAllowed ? 'block' : 'none';\n",
              "\n",
              "        async function convertToInteractive(key) {\n",
              "          const element = document.querySelector('#df-fc5517fd-d6d5-466b-ad24-c137237a608d');\n",
              "          const dataTable =\n",
              "            await google.colab.kernel.invokeFunction('convertToInteractive',\n",
              "                                                     [key], {});\n",
              "          if (!dataTable) return;\n",
              "\n",
              "          const docLinkHtml = 'Like what you see? Visit the ' +\n",
              "            '<a target=\"_blank\" href=https://colab.research.google.com/notebooks/data_table.ipynb>data table notebook</a>'\n",
              "            + ' to learn more about interactive tables.';\n",
              "          element.innerHTML = '';\n",
              "          dataTable['output_type'] = 'display_data';\n",
              "          await google.colab.output.renderOutput(dataTable, element);\n",
              "          const docLink = document.createElement('div');\n",
              "          docLink.innerHTML = docLinkHtml;\n",
              "          element.appendChild(docLink);\n",
              "        }\n",
              "      </script>\n",
              "    </div>\n",
              "  </div>\n",
              "  "
            ]
          },
          "metadata": {},
          "execution_count": 26
        }
      ]
    },
    {
      "cell_type": "markdown",
      "source": [
        "### 양성인 경우의 Age Distribution"
      ],
      "metadata": {
        "id": "ON0zHxlhZUES"
      }
    },
    {
      "cell_type": "markdown",
      "source": [
        "**# subplot() vs. subplots()**\n",
        "\n",
        "**case1. 하나씩 설정 (subplot)**\n",
        "- nrows, ncols, index (각 정수는 10보다 작은 값) \n",
        "\n",
        "```\n",
        "plt.subplot(2,1,1)\n",
        "plt.subplot(2,1,2)\n",
        "plt.show()\n",
        "```\n",
        "- projection \n",
        "  - 기본값: None (rectilinear가 입력)\n",
        "  - True : projection= 'polar'\n",
        "  - None, 'aitoff', 'hammer','lambert','mollwide','polar','rectilinear', str\n",
        "\n",
        "\n",
        "**case2. 한번에 설정 (subplots)**\n",
        "\n",
        "```\n",
        "plt.subplots(nrow=2, ncols=1)\n",
        "plt.show()\n",
        "```\n",
        "\n",
        "\n"
      ],
      "metadata": {
        "id": "YJ5SoMfJ7ppQ"
      }
    },
    {
      "cell_type": "markdown",
      "source": [
        "참조 : https://m.blog.naver.com/PostView.naver?isHttpsRedirect=true&blogId=heygun&logNo=221520454294\n",
        "\n",
        "참조2 : https://runebook.dev/ko/docs/matplotlib/_as_gen/matplotlib.pyplot.subplot\n",
        "\n",
        "참조3 : https://kongdols-room.tistory.com/98"
      ],
      "metadata": {
        "id": "aMB5GWfU9uCB"
      }
    },
    {
      "cell_type": "code",
      "source": [
        "import matplotlib.pyplot as plt\n",
        "from matplotlib import font_manager\n",
        "plt.rcParams['axes.unicode_minus']=False\n",
        "font_path = '/content/drive/MyDrive/text/NanumSquareR.ttf'\n",
        "fontprop = font_manager.FontProperties(fname=font_path, size=20)\n",
        "\n",
        "plt.rc('font', family='NanumBarunGothic')"
      ],
      "metadata": {
        "id": "r2ry5dZXL1bj"
      },
      "execution_count": 27,
      "outputs": []
    },
    {
      "cell_type": "code",
      "source": [
        "fig, axes = plt.subplots(nrows=2,ncols=1, figsize=(20,10), sharex=True, sharey=True)\n",
        "# fig   : figure (전체 subplot을 의미 == 전체 사이즈)\n",
        "# axes  : 전체 중 낱개 \n",
        "  ### subplot의 경우는 부분을 지시하는 키워드로 하나의 값(axes)만 받을 수 있음\n",
        "  ### subplots의 경우는 axes 여러개의 값\n",
        "# sharex : Xtick의 값을 각각 공유할지 안할지  # sharex=False이면 x축 값 모두 다르게 출력\n",
        "# sharey : Ytick의 값을 각각 공유할지 안할지  # sharey=False이면 y축 값 모두 다르게 출력\n",
        "\n",
        "\n",
        "# tight_layout(pad=1.08, h_pad=None, w_pad=None, rect=None)\n",
        "### 자동으로 명시된 여백(padding)에 관련된 서브플롯 파라미터 조정\n",
        "    # pad   : figure 모서리와 서브플롯 모서리 사이의 여백(padding)을 설정\n",
        "    # h_pad : 높이의 여백\n",
        "    # w_pad : 너비의 여백 \n",
        "    # rect  : 서브플롯을 넣기 위한 사각형 설정(왼,바닥,오,위)\n",
        "              # 총 크기 대비 정규화된 값\n",
        "              # 기본: (0,0,1,1)\n",
        "plt.tight_layout(pad=4.0)\n",
        "\n",
        "\n",
        "# 양성 Male의 Age 분포\n",
        "sns.histplot(df_temp_pos[df_temp_pos['GENDER']=='Male']['AGE'], color=palette[11], kde=True, ax=axes[0], bins=20, alpha=1, fill=True)\n",
        "axes[0].lines[0].set_color(palette[12])\n",
        "axes[0].set_title('\\n양성 Male의 연령 분포\\n', fontsize=25)\n",
        "axes[0].set_xlabel('Age')\n",
        "axes[0].set_ylabel('Quantity')\n",
        "\n",
        "# 양성 Female의 Age 분포\n",
        "sns.histplot(df_temp_pos[df_temp_pos['GENDER']=='Female']['AGE'], color=palette[12], kde=True, ax=axes[1], bins=20, alpha=1, fill=True)\n",
        "axes[1].lines[0].set_color(palette[11])\n",
        "axes[1].set_title('\\n양성 Female의 연령 분포\\n', fontsize=25)\n",
        "axes[1].set_xlabel('Age')\n",
        "axes[1].set_ylabel('Quantity')\n",
        "\n",
        "# 축 없애기 (기본: top, right)\n",
        "sns.despine(left=True, bottom=True)\n",
        "plt.show()"
      ],
      "metadata": {
        "colab": {
          "base_uri": "https://localhost:8080/",
          "height": 414
        },
        "id": "IdtbF2JkZL8o",
        "outputId": "d0cbbc8b-014d-4c81-e52a-3f86449db94a"
      },
      "execution_count": 28,
      "outputs": [
        {
          "output_type": "display_data",
          "data": {
            "text/plain": [
              "<Figure size 1440x720 with 2 Axes>"
            ],
            "image/png": "[encoded data removed]"
          },
          "metadata": {}
        }
      ]
    },
    {
      "cell_type": "markdown",
      "source": [
        "Male, Female의 두 가지 경우를 합쳐보면"
      ],
      "metadata": {
        "id": "3Nw6UPgGGomb"
      }
    },
    {
      "cell_type": "code",
      "source": [
        "plt.subplots(figsize=(20,8))\n",
        "p = sns.histplot(data=df_temp_pos, x=\"AGE\", hue=\"GENDER\", \n",
        "                 multiple=\"stack\",          # multiple=\"stack\"이용해서 stack할 수 있음\n",
        "                 palette=palette[11:13],    # 11~13번 색상 사용\n",
        "                 kde=True, shrink=.99,bins=20, alpha=1, fill=True)\n",
        "\n",
        "p.axes.lines[0].set_color(palette[11])\n",
        "p.axes.lines[1].set_color(palette[12])\n",
        "p.axes.set_title(\"\\n양성인 경우의 연령 분포\\n\", fontsize=25)\n",
        "plt.xlabel(\"Age\")\n",
        "plt.ylabel('Count')\n",
        "\n",
        "sns.despine(left=True, bottom=True)\n",
        "plt.show()"
      ],
      "metadata": {
        "id": "PJ94ZtD7ZiZj",
        "colab": {
          "base_uri": "https://localhost:8080/",
          "height": 389
        },
        "outputId": "648f59bb-71f4-447d-a8d1-19382aa5a677"
      },
      "execution_count": 29,
      "outputs": [
        {
          "output_type": "display_data",
          "data": {
            "text/plain": [
              "<Figure size 1440x576 with 1 Axes>"
            ],
            "image/png": "[encoded data removed]"
          },
          "metadata": {}
        }
      ]
    },
    {
      "cell_type": "markdown",
      "source": [
        "### 양성인 경우의 Gender Distribution"
      ],
      "metadata": {
        "id": "QMxc8fEd6Un0"
      }
    },
    {
      "cell_type": "code",
      "source": [
        "plt.subplots(figsize=(12, 12))\n",
        "\n",
        "labels = \"Male\",\"Female\"\n",
        "size = 0.7\n",
        "\n",
        "wedges, texts, autotexts = plt.pie([len(df_temp_pos[df_temp_pos[\"GENDER\"]==\"Male\"][\"GENDER\"]),\n",
        "                                    len(df_temp_pos[df_temp_pos[\"GENDER\"]==\"Female\"][\"GENDER\"])],\n",
        "                                    explode = (0.1,0),\n",
        "                                    textprops=dict(size= 25, color= \"white\"),\n",
        "                                    autopct=\"%.2f%%\", \n",
        "                                    pctdistance = 0.5,\n",
        "                                    radius=.9, \n",
        "                                    colors = [\"#0f4c5c\",\"#FFC300\"], \n",
        "                                    shadow = True,\n",
        "                                    wedgeprops= dict(width = size, edgecolor = \"white\", linewidth = 5),\n",
        "                                    startangle = 0)\n",
        "\n",
        "plt.legend(wedges, labels, title=\"Category\",loc=\"center left\",bbox_to_anchor=(1, 0, 0.5, 1))\n",
        "plt.title(\"\\n양성인 경우 성별 분포\",fontsize=25)\n",
        "plt.show()"
      ],
      "metadata": {
        "colab": {
          "base_uri": "https://localhost:8080/",
          "height": 711
        },
        "id": "gi54h8WDIaKA",
        "outputId": "cb2516da-eeeb-4186-fcbe-ce25b098c973"
      },
      "execution_count": 30,
      "outputs": [
        {
          "output_type": "display_data",
          "data": {
            "text/plain": [
              "<Figure size 864x864 with 1 Axes>"
            ],
            "image/png": "[encoded data removed]"
          },
          "metadata": {}
        }
      ]
    },
    {
      "cell_type": "markdown",
      "source": [
        "### Gender-wise 양성인 경우"
      ],
      "metadata": {
        "id": "nLO2nEPxMtZk"
      }
    },
    {
      "cell_type": "code",
      "source": [
        "import matplotlib \n",
        "print('matplotlib: {}'.format(matplotlib.__version__))"
      ],
      "metadata": {
        "colab": {
          "base_uri": "https://localhost:8080/"
        },
        "id": "mKf47virPfbA",
        "outputId": "ebc18ef0-cbed-4a7d-8b07-e9d05c81ff13"
      },
      "execution_count": 31,
      "outputs": [
        {
          "output_type": "stream",
          "name": "stdout",
          "text": [
            "matplotlib: 3.5.3\n"
          ]
        }
      ]
    },
    {
      "cell_type": "code",
      "source": [
        "# 3.4 이하일 경우 upgrade\n",
        "#!pip install matplotlib --upgrade"
      ],
      "metadata": {
        "id": "txe_as4KPio6"
      },
      "execution_count": 32,
      "outputs": []
    },
    {
      "cell_type": "code",
      "source": [
        "fig, axes = plt.subplots(1,2,figsize=(20,8), sharex=True, sharey=True)\n",
        "plt.tight_layout(pad=4.0)\n",
        "\n",
        "# 흡연 여부에 따른 양상\n",
        "sns.countplot(data=df_temp_pos, x='GENDER', hue='SMOKING', hue_order=['YES','NO'],\n",
        "              ax=axes[0], palette=[\"#0f4c5c\",\"#FFC300\"], saturation=1)\n",
        "axes[0].set_title('\\n흡연에 따른 양상', fontsize=20)\n",
        "axes[0].set_xlabel('Gender')\n",
        "axes[0].set_ylabel('Quantity')\n",
        "\n",
        "### matplotlib 3.4 이상부터 사용 가능\n",
        "for container in axes[0].containers:\n",
        "  axes[0].bar_label(container, label_type='center', padding=2, size=25, color='white', rotation=0)\n",
        "\n",
        "# 음주 여부에 따른 양상\n",
        "sns.countplot(data=df_temp_pos, x='GENDER', hue='ALCOHOL CONSUMING', hue_order=['YES','NO'], ax=axes[1],\n",
        "              palette=[\"#0f4c5c\",\"#FFC300\"], saturation=1)\n",
        "axes[1].set_title('\\n음주 여부에 따른 양상',fontsize=20)\n",
        "axes[1].set_xlabel('Gender')\n",
        "axes[1].set_ylabel('Quantity')\n",
        "\n",
        "### matplotlib 3.4 이상부터 사용 가능\n",
        "for container in axes[1].containers:\n",
        "  axes[1].bar_label(container, label_type='center', padding=2, size=25, color='white', rotation=0)\n",
        "\n",
        "# Spine 없애기\n",
        "sns.despine(left=True, bottom=True)\n",
        "plt.show()"
      ],
      "metadata": {
        "colab": {
          "base_uri": "https://localhost:8080/",
          "height": 309
        },
        "id": "tNl2h7jZKryx",
        "outputId": "ce5a73b2-2baa-42ec-db8a-52fe14f5a68b"
      },
      "execution_count": 33,
      "outputs": [
        {
          "output_type": "display_data",
          "data": {
            "text/plain": [
              "<Figure size 1440x576 with 2 Axes>"
            ],
            "image/png": "[encoded data removed]"
          },
          "metadata": {}
        }
      ]
    },
    {
      "cell_type": "markdown",
      "source": [
        "### Gender-wise 양성의 증상들"
      ],
      "metadata": {
        "id": "TfXkIrimQery"
      }
    },
    {
      "cell_type": "code",
      "source": [
        "fig, axes = plt.subplots(2,5, figsize=(20,14), sharex=False, sharey=True) # y축만 공유\n",
        "plt.tight_layout(pad=4.0)\n",
        "\n",
        "### YELLOW FINGERS\n",
        "sns.countplot(data=df_temp_pos, x='GENDER', hue='YELLOW_FINGERS', hue_order=['YES','NO'],\n",
        "              ax=axes[0,0], palette=[\"#0f4c5c\",\"#FFC300\"], saturation=1)\n",
        "axes[0,0].set_ylabel('Total')\n",
        "axes[0,0].legend(title='Yellow Fingers', loc='upper right')\n",
        "\n",
        "for container in axes[0,0].containers:\n",
        "  axes[0,0].bar_label(container, label_type='center', padding=2, size=17, color='white',rotation=0)\n",
        "\n",
        "### ANXIETY\n",
        "sns.countplot(data=df_temp_pos,x=\"GENDER\",hue=\"ANXIETY\",hue_order=['YES','NO'],ax=axes[0,1],\n",
        "              palette=[\"#0f4c5c\",\"#FFC300\"],saturation=1)\n",
        "axes[0,1].set_ylabel(\"Total\")\n",
        "axes[0,1].legend(title=\"Anxiety\",loc=\"upper right\")\n",
        "\n",
        "for container in axes[0,1].containers:\n",
        "    axes[0,1].bar_label(container,label_type=\"center\",padding=2,size=17,color=\"white\",rotation=0)\n",
        "\n",
        "### CHRONIC DISEASE\n",
        "sns.countplot(data=df_temp_pos,x=\"GENDER\",hue=\"CHRONIC DISEASE\",hue_order=['YES','NO'],\n",
        "              ax=axes[0,2],palette=[\"#0f4c5c\",\"#FFC300\"],saturation=1)\n",
        "axes[0,2].set_ylabel(\"Total\")\n",
        "axes[0,2].legend(title=\"Chronic Disease\",loc=\"upper right\")\n",
        "for container in axes[0,2].containers:\n",
        "    axes[0,2].bar_label(container,label_type=\"center\",padding=2,size=17,color=\"white\",rotation=0)\n",
        "\n",
        "### CHEST PAIN\n",
        "sns.countplot(data=df_temp_pos,x=\"GENDER\",hue=\"CHEST PAIN\",hue_order=['YES','NO'],\n",
        "              ax=axes[0,3],palette=[\"#0f4c5c\",\"#FFC300\"],saturation=1)\n",
        "axes[0,3].set_ylabel(\"Total\")\n",
        "axes[0,3].legend(title=\"Chest Pain\",loc=\"upper right\")\n",
        "for container in axes[0,3].containers:\n",
        "    axes[0,3].bar_label(container,label_type=\"center\",padding=2,size=17,color=\"white\",rotation=0)\n",
        "\n",
        "### FATIGUE\n",
        "sns.countplot(data=df_temp_pos,x=\"GENDER\",hue=\"FATIGUE \",hue_order=['YES','NO'],\n",
        "              ax=axes[0,4],palette=[\"#0f4c5c\",\"#FFC300\"],saturation=1)\n",
        "axes[0,4].set_ylabel(\"Total\")\n",
        "axes[0,4].legend(title=\"Fatigue\",loc=\"upper right\")\n",
        "for container in axes[0,4].containers:\n",
        "    axes[0,4].bar_label(container,label_type=\"center\",padding=2,size=17,color=\"white\",rotation=0)\n",
        "\n",
        "### WHEEZING\n",
        "sns.countplot(data=df_temp_pos,x=\"GENDER\",hue=\"WHEEZING\",hue_order=['YES','NO'],\n",
        "              ax=axes[1,0],palette=[\"#0f4c5c\",\"#FFC300\"],saturation=1)\n",
        "axes[1,0].set_ylabel(\"Total\")\n",
        "axes[1,0].legend(title=\"Wheezing\",loc=\"upper right\")\n",
        "for container in axes[1,0].containers:\n",
        "    axes[1,0].bar_label(container,label_type=\"center\",padding=2,size=17,color=\"white\",rotation=0)\n",
        "\n",
        "### COUGHING\n",
        "sns.countplot(data=df_temp_pos,x=\"GENDER\",hue=\"COUGHING\",hue_order=['YES','NO'],\n",
        "              ax=axes[1,1],palette=[\"#0f4c5c\",\"#FFC300\"],saturation=1)\n",
        "axes[1,1].set_ylabel(\"Total\")\n",
        "axes[1,1].legend(title=\"Coughing\",loc=\"upper right\")\n",
        "for container in axes[1,1].containers:\n",
        "    axes[1,1].bar_label(container,label_type=\"center\",padding=2,size=17,color=\"white\",rotation=0)\n",
        "\n",
        "### SHORTNESS OF BREATH\n",
        "sns.countplot(data=df_temp_pos,x=\"GENDER\",hue=\"SHORTNESS OF BREATH\",hue_order=['YES','NO'],\n",
        "              ax=axes[1,2],palette=[\"#0f4c5c\",\"#FFC300\"],saturation=1)\n",
        "axes[1,2].set_ylabel(\"Total\")\n",
        "axes[1,2].legend(title=\"Short Breath\",loc=\"upper right\")\n",
        "for container in axes[1,2].containers:\n",
        "    axes[1,2].bar_label(container,label_type=\"center\",padding=2,size=17,color=\"white\",rotation=0)\n",
        "\n",
        "### SWALLOWING DIFFICULTY\n",
        "sns.countplot(data=df_temp_pos,x=\"GENDER\",hue=\"SWALLOWING DIFFICULTY\",hue_order=['YES','NO'],\n",
        "              ax=axes[1,3],palette=[\"#0f4c5c\",\"#FFC300\"],saturation=1)\n",
        "axes[1,3].set_ylabel(\"Total\")\n",
        "axes[1,3].legend(title=\"Swallowing Difficulty\",loc=\"upper right\")\n",
        "for container in axes[1,3].containers:\n",
        "    axes[1,3].bar_label(container,label_type=\"center\",padding=2,size=17,color=\"white\",rotation=0)    \n",
        "\n",
        "sns.countplot(data=df_temp_pos,x=\"GENDER\",hue=\"ALLERGY \",hue_order=['YES','NO'],\n",
        "              ax=axes[1,4],palette=[\"#0f4c5c\",\"#FFC300\"],saturation=1)\n",
        "axes[1,4].set_ylabel(\"Total\")\n",
        "axes[1,4].legend(title=\"Allergy\",loc=\"upper right\")\n",
        "for container in axes[1,4].containers:\n",
        "    axes[1,4].bar_label(container,label_type=\"center\",padding=2,size=17,color=\"white\",rotation=0)    \n",
        "\n",
        "sns.despine(left=True, bottom=True)\n",
        "plt.show()"
      ],
      "metadata": {
        "colab": {
          "base_uri": "https://localhost:8080/",
          "height": 531
        },
        "id": "8HUSIWzGPEnv",
        "outputId": "fead90e8-2c74-45b7-b1e6-1b04fd676958"
      },
      "execution_count": 34,
      "outputs": [
        {
          "output_type": "display_data",
          "data": {
            "text/plain": [
              "<Figure size 1440x1008 with 10 Axes>"
            ],
            "image/png": "[encoded data removed]"
          },
          "metadata": {}
        }
      ]
    },
    {
      "cell_type": "markdown",
      "source": [
        "## Pearson Correlation"
      ],
      "metadata": {
        "id": "j2l3v8viULkD"
      }
    },
    {
      "cell_type": "markdown",
      "source": [
        "**Categorical Encoding** \n",
        "\n",
        "-> categorical 데이터를 numerical 데이터로 변환해야함\n",
        "\n",
        "- Label Encoding\n",
        "  - 알파벳 오더 순으로 숫자 할당\n",
        "  - 랭크가 있음 (순서의 의미가 있을 때)\n",
        "    - 랭크된 숫자정보가 모델에 반영될 수 있음\n",
        "  - 고유값의 개수 (One-Hot은 효율적x)\n",
        "- One-Hot Encoding\n",
        "  - 목록화해서 개별로 그 목록값에 대한 이진값으로 만드는 방법\n",
        "  - 순서가 없을 때\n",
        "  - 고유값의 개수가 많지 않을 때"
      ],
      "metadata": {
        "id": "ZSiW4sxOVUzm"
      }
    },
    {
      "cell_type": "code",
      "source": [
        "df.head(2)"
      ],
      "metadata": {
        "colab": {
          "base_uri": "https://localhost:8080/",
          "height": 193
        },
        "id": "QQuA_dLlbXrQ",
        "outputId": "dfb10c72-8c8d-4468-d85f-ff1eae0421c6"
      },
      "execution_count": 35,
      "outputs": [
        {
          "output_type": "execute_result",
          "data": {
            "text/plain": [
              "  GENDER  AGE  SMOKING  YELLOW_FINGERS  ANXIETY  PEER_PRESSURE  \\\n",
              "0      M   69        1               2        2              1   \n",
              "1      M   74        2               1        1              1   \n",
              "\n",
              "   CHRONIC DISEASE  FATIGUE   ALLERGY   WHEEZING  ALCOHOL CONSUMING  COUGHING  \\\n",
              "0                1         2         1         2                  2         2   \n",
              "1                2         2         2         1                  1         1   \n",
              "\n",
              "   SHORTNESS OF BREATH  SWALLOWING DIFFICULTY  CHEST PAIN LUNG_CANCER  \n",
              "0                    2                      2           2         YES  \n",
              "1                    2                      2           2         YES  "
            ],
            "text/html": [
              "\n",
              "  <div id=\"df-af414506-d61b-456c-95c4-4f00504a67f9\">\n",
              "    <div class=\"colab-df-container\">\n",
              "      <div>\n",
              "<style scoped>\n",
              "    .dataframe tbody tr th:only-of-type {\n",
              "        vertical-align: middle;\n",
              "    }\n",
              "\n",
              "    .dataframe tbody tr th {\n",
              "        vertical-align: top;\n",
              "    }\n",
              "\n",
              "    .dataframe thead th {\n",
              "        text-align: right;\n",
              "    }\n",
              "</style>\n",
              "<table border=\"1\" class=\"dataframe\">\n",
              "  <thead>\n",
              "    <tr style=\"text-align: right;\">\n",
              "      <th></th>\n",
              "      <th>GENDER</th>\n",
              "      <th>AGE</th>\n",
              "      <th>SMOKING</th>\n",
              "      <th>YELLOW_FINGERS</th>\n",
              "      <th>ANXIETY</th>\n",
              "      <th>PEER_PRESSURE</th>\n",
              "      <th>CHRONIC DISEASE</th>\n",
              "      <th>FATIGUE</th>\n",
              "      <th>ALLERGY</th>\n",
              "      <th>WHEEZING</th>\n",
              "      <th>ALCOHOL CONSUMING</th>\n",
              "      <th>COUGHING</th>\n",
              "      <th>SHORTNESS OF BREATH</th>\n",
              "      <th>SWALLOWING DIFFICULTY</th>\n",
              "      <th>CHEST PAIN</th>\n",
              "      <th>LUNG_CANCER</th>\n",
              "    </tr>\n",
              "  </thead>\n",
              "  <tbody>\n",
              "    <tr>\n",
              "      <th>0</th>\n",
              "      <td>M</td>\n",
              "      <td>69</td>\n",
              "      <td>1</td>\n",
              "      <td>2</td>\n",
              "      <td>2</td>\n",
              "      <td>1</td>\n",
              "      <td>1</td>\n",
              "      <td>2</td>\n",
              "      <td>1</td>\n",
              "      <td>2</td>\n",
              "      <td>2</td>\n",
              "      <td>2</td>\n",
              "      <td>2</td>\n",
              "      <td>2</td>\n",
              "      <td>2</td>\n",
              "      <td>YES</td>\n",
              "    </tr>\n",
              "    <tr>\n",
              "      <th>1</th>\n",
              "      <td>M</td>\n",
              "      <td>74</td>\n",
              "      <td>2</td>\n",
              "      <td>1</td>\n",
              "      <td>1</td>\n",
              "      <td>1</td>\n",
              "      <td>2</td>\n",
              "      <td>2</td>\n",
              "      <td>2</td>\n",
              "      <td>1</td>\n",
              "      <td>1</td>\n",
              "      <td>1</td>\n",
              "      <td>2</td>\n",
              "      <td>2</td>\n",
              "      <td>2</td>\n",
              "      <td>YES</td>\n",
              "    </tr>\n",
              "  </tbody>\n",
              "</table>\n",
              "</div>\n",
              "      <button class=\"colab-df-convert\" onclick=\"convertToInteractive('df-af414506-d61b-456c-95c4-4f00504a67f9')\"\n",
              "              title=\"Convert this dataframe to an interactive table.\"\n",
              "              style=\"display:none;\">\n",
              "        \n",
              "  <svg xmlns=\"http://www.w3.org/2000/svg\" height=\"24px\"viewBox=\"0 0 24 24\"\n",
              "       width=\"24px\">\n",
              "    <path d=\"M0 0h24v24H0V0z\" fill=\"none\"/>\n",
              "    <path d=\"M18.56 5.44l.94 2.06.94-2.06 2.06-.94-2.06-.94-.94-2.06-.94 2.06-2.06.94zm-11 1L8.5 8.5l.94-2.06 2.06-.94-2.06-.94L8.5 2.5l-.94 2.06-2.06.94zm10 10l.94 2.06.94-2.06 2.06-.94-2.06-.94-.94-2.06-.94 2.06-2.06.94z\"/><path d=\"M17.41 7.96l-1.37-1.37c-.4-.4-.92-.59-1.43-.59-.52 0-1.04.2-1.43.59L10.3 9.45l-7.72 7.72c-.78.78-.78 2.05 0 2.83L4 21.41c.39.39.9.59 1.41.59.51 0 1.02-.2 1.41-.59l7.78-7.78 2.81-2.81c.8-.78.8-2.07 0-2.86zM5.41 20L4 18.59l7.72-7.72 1.47 1.35L5.41 20z\"/>\n",
              "  </svg>\n",
              "      </button>\n",
              "      \n",
              "  <style>\n",
              "    .colab-df-container {\n",
              "      display:flex;\n",
              "      flex-wrap:wrap;\n",
              "      gap: 12px;\n",
              "    }\n",
              "\n",
              "    .colab-df-convert {\n",
              "      background-color: #E8F0FE;\n",
              "      border: none;\n",
              "      border-radius: 50%;\n",
              "      cursor: pointer;\n",
              "      display: none;\n",
              "      fill: #1967D2;\n",
              "      height: 32px;\n",
              "      padding: 0 0 0 0;\n",
              "      width: 32px;\n",
              "    }\n",
              "\n",
              "    .colab-df-convert:hover {\n",
              "      background-color: #E2EBFA;\n",
              "      box-shadow: 0px 1px 2px rgba(60, 64, 67, 0.3), 0px 1px 3px 1px rgba(60, 64, 67, 0.15);\n",
              "      fill: #174EA6;\n",
              "    }\n",
              "\n",
              "    [theme=dark] .colab-df-convert {\n",
              "      background-color: #3B4455;\n",
              "      fill: #D2E3FC;\n",
              "    }\n",
              "\n",
              "    [theme=dark] .colab-df-convert:hover {\n",
              "      background-color: #434B5C;\n",
              "      box-shadow: 0px 1px 3px 1px rgba(0, 0, 0, 0.15);\n",
              "      filter: drop-shadow(0px 1px 2px rgba(0, 0, 0, 0.3));\n",
              "      fill: #FFFFFF;\n",
              "    }\n",
              "  </style>\n",
              "\n",
              "      <script>\n",
              "        const buttonEl =\n",
              "          document.querySelector('#df-af414506-d61b-456c-95c4-4f00504a67f9 button.colab-df-convert');\n",
              "        buttonEl.style.display =\n",
              "          google.colab.kernel.accessAllowed ? 'block' : 'none';\n",
              "\n",
              "        async function convertToInteractive(key) {\n",
              "          const element = document.querySelector('#df-af414506-d61b-456c-95c4-4f00504a67f9');\n",
              "          const dataTable =\n",
              "            await google.colab.kernel.invokeFunction('convertToInteractive',\n",
              "                                                     [key], {});\n",
              "          if (!dataTable) return;\n",
              "\n",
              "          const docLinkHtml = 'Like what you see? Visit the ' +\n",
              "            '<a target=\"_blank\" href=https://colab.research.google.com/notebooks/data_table.ipynb>data table notebook</a>'\n",
              "            + ' to learn more about interactive tables.';\n",
              "          element.innerHTML = '';\n",
              "          dataTable['output_type'] = 'display_data';\n",
              "          await google.colab.output.renderOutput(dataTable, element);\n",
              "          const docLink = document.createElement('div');\n",
              "          docLink.innerHTML = docLinkHtml;\n",
              "          element.appendChild(docLink);\n",
              "        }\n",
              "      </script>\n",
              "    </div>\n",
              "  </div>\n",
              "  "
            ]
          },
          "metadata": {},
          "execution_count": 35
        }
      ]
    },
    {
      "cell_type": "markdown",
      "source": [
        "2가지의 object 유형에 대한 encoding을 수행해야 함"
      ],
      "metadata": {
        "id": "NOOqGX-icA6A"
      }
    },
    {
      "cell_type": "code",
      "source": [
        "from sklearn.preprocessing import LabelEncoder\n",
        "LabelEncoder = LabelEncoder()\n",
        "\n",
        "df['GENDER'] = df['GENDER'].replace({'M':'Male', 'F':'Female'})\n",
        "# LUNG_CANCER의 경우 랭킹 있음 => Label_Encoding\n",
        "df['LUNG_CANCER'] = LabelEncoder.fit_transform(df['LUNG_CANCER'])\n",
        "\n",
        "# GENDER의 경우 우열이 없음 => get_dummies로 dummy encoding (OneHot Encoding)\n",
        "df = pd.get_dummies(df, columns=['GENDER'])\n",
        "df.rename(columns={\"GENDER_Male\":\"MALE\", \"GENDER_Female\":\"FEMALE\"},inplace=True)\n",
        "\n",
        "df.head()"
      ],
      "metadata": {
        "colab": {
          "base_uri": "https://localhost:8080/",
          "height": 287
        },
        "id": "v1Hlal_eTDaf",
        "outputId": "87fb85e3-9b56-43b6-e759-bd060716c7a7"
      },
      "execution_count": 36,
      "outputs": [
        {
          "output_type": "execute_result",
          "data": {
            "text/plain": [
              "   AGE  SMOKING  YELLOW_FINGERS  ANXIETY  PEER_PRESSURE  CHRONIC DISEASE  \\\n",
              "0   69        1               2        2              1                1   \n",
              "1   74        2               1        1              1                2   \n",
              "2   59        1               1        1              2                1   \n",
              "3   63        2               2        2              1                1   \n",
              "4   63        1               2        1              1                1   \n",
              "\n",
              "   FATIGUE   ALLERGY   WHEEZING  ALCOHOL CONSUMING  COUGHING  \\\n",
              "0         2         1         2                  2         2   \n",
              "1         2         2         1                  1         1   \n",
              "2         2         1         2                  1         2   \n",
              "3         1         1         1                  2         1   \n",
              "4         1         1         2                  1         2   \n",
              "\n",
              "   SHORTNESS OF BREATH  SWALLOWING DIFFICULTY  CHEST PAIN  LUNG_CANCER  \\\n",
              "0                    2                      2           2            1   \n",
              "1                    2                      2           2            1   \n",
              "2                    2                      1           2            0   \n",
              "3                    1                      2           2            0   \n",
              "4                    2                      1           1            0   \n",
              "\n",
              "   FEMALE  MALE  \n",
              "0       0     1  \n",
              "1       0     1  \n",
              "2       1     0  \n",
              "3       0     1  \n",
              "4       1     0  "
            ],
            "text/html": [
              "\n",
              "  <div id=\"df-e2bb828b-9cdc-4426-827a-936a0934a60c\">\n",
              "    <div class=\"colab-df-container\">\n",
              "      <div>\n",
              "<style scoped>\n",
              "    .dataframe tbody tr th:only-of-type {\n",
              "        vertical-align: middle;\n",
              "    }\n",
              "\n",
              "    .dataframe tbody tr th {\n",
              "        vertical-align: top;\n",
              "    }\n",
              "\n",
              "    .dataframe thead th {\n",
              "        text-align: right;\n",
              "    }\n",
              "</style>\n",
              "<table border=\"1\" class=\"dataframe\">\n",
              "  <thead>\n",
              "    <tr style=\"text-align: right;\">\n",
              "      <th></th>\n",
              "      <th>AGE</th>\n",
              "      <th>SMOKING</th>\n",
              "      <th>YELLOW_FINGERS</th>\n",
              "      <th>ANXIETY</th>\n",
              "      <th>PEER_PRESSURE</th>\n",
              "      <th>CHRONIC DISEASE</th>\n",
              "      <th>FATIGUE</th>\n",
              "      <th>ALLERGY</th>\n",
              "      <th>WHEEZING</th>\n",
              "      <th>ALCOHOL CONSUMING</th>\n",
              "      <th>COUGHING</th>\n",
              "      <th>SHORTNESS OF BREATH</th>\n",
              "      <th>SWALLOWING DIFFICULTY</th>\n",
              "      <th>CHEST PAIN</th>\n",
              "      <th>LUNG_CANCER</th>\n",
              "      <th>FEMALE</th>\n",
              "      <th>MALE</th>\n",
              "    </tr>\n",
              "  </thead>\n",
              "  <tbody>\n",
              "    <tr>\n",
              "      <th>0</th>\n",
              "      <td>69</td>\n",
              "      <td>1</td>\n",
              "      <td>2</td>\n",
              "      <td>2</td>\n",
              "      <td>1</td>\n",
              "      <td>1</td>\n",
              "      <td>2</td>\n",
              "      <td>1</td>\n",
              "      <td>2</td>\n",
              "      <td>2</td>\n",
              "      <td>2</td>\n",
              "      <td>2</td>\n",
              "      <td>2</td>\n",
              "      <td>2</td>\n",
              "      <td>1</td>\n",
              "      <td>0</td>\n",
              "      <td>1</td>\n",
              "    </tr>\n",
              "    <tr>\n",
              "      <th>1</th>\n",
              "      <td>74</td>\n",
              "      <td>2</td>\n",
              "      <td>1</td>\n",
              "      <td>1</td>\n",
              "      <td>1</td>\n",
              "      <td>2</td>\n",
              "      <td>2</td>\n",
              "      <td>2</td>\n",
              "      <td>1</td>\n",
              "      <td>1</td>\n",
              "      <td>1</td>\n",
              "      <td>2</td>\n",
              "      <td>2</td>\n",
              "      <td>2</td>\n",
              "      <td>1</td>\n",
              "      <td>0</td>\n",
              "      <td>1</td>\n",
              "    </tr>\n",
              "    <tr>\n",
              "      <th>2</th>\n",
              "      <td>59</td>\n",
              "      <td>1</td>\n",
              "      <td>1</td>\n",
              "      <td>1</td>\n",
              "      <td>2</td>\n",
              "      <td>1</td>\n",
              "      <td>2</td>\n",
              "      <td>1</td>\n",
              "      <td>2</td>\n",
              "      <td>1</td>\n",
              "      <td>2</td>\n",
              "      <td>2</td>\n",
              "      <td>1</td>\n",
              "      <td>2</td>\n",
              "      <td>0</td>\n",
              "      <td>1</td>\n",
              "      <td>0</td>\n",
              "    </tr>\n",
              "    <tr>\n",
              "      <th>3</th>\n",
              "      <td>63</td>\n",
              "      <td>2</td>\n",
              "      <td>2</td>\n",
              "      <td>2</td>\n",
              "      <td>1</td>\n",
              "      <td>1</td>\n",
              "      <td>1</td>\n",
              "      <td>1</td>\n",
              "      <td>1</td>\n",
              "      <td>2</td>\n",
              "      <td>1</td>\n",
              "      <td>1</td>\n",
              "      <td>2</td>\n",
              "      <td>2</td>\n",
              "      <td>0</td>\n",
              "      <td>0</td>\n",
              "      <td>1</td>\n",
              "    </tr>\n",
              "    <tr>\n",
              "      <th>4</th>\n",
              "      <td>63</td>\n",
              "      <td>1</td>\n",
              "      <td>2</td>\n",
              "      <td>1</td>\n",
              "      <td>1</td>\n",
              "      <td>1</td>\n",
              "      <td>1</td>\n",
              "      <td>1</td>\n",
              "      <td>2</td>\n",
              "      <td>1</td>\n",
              "      <td>2</td>\n",
              "      <td>2</td>\n",
              "      <td>1</td>\n",
              "      <td>1</td>\n",
              "      <td>0</td>\n",
              "      <td>1</td>\n",
              "      <td>0</td>\n",
              "    </tr>\n",
              "  </tbody>\n",
              "</table>\n",
              "</div>\n",
              "      <button class=\"colab-df-convert\" onclick=\"convertToInteractive('df-e2bb828b-9cdc-4426-827a-936a0934a60c')\"\n",
              "              title=\"Convert this dataframe to an interactive table.\"\n",
              "              style=\"display:none;\">\n",
              "        \n",
              "  <svg xmlns=\"http://www.w3.org/2000/svg\" height=\"24px\"viewBox=\"0 0 24 24\"\n",
              "       width=\"24px\">\n",
              "    <path d=\"M0 0h24v24H0V0z\" fill=\"none\"/>\n",
              "    <path d=\"M18.56 5.44l.94 2.06.94-2.06 2.06-.94-2.06-.94-.94-2.06-.94 2.06-2.06.94zm-11 1L8.5 8.5l.94-2.06 2.06-.94-2.06-.94L8.5 2.5l-.94 2.06-2.06.94zm10 10l.94 2.06.94-2.06 2.06-.94-2.06-.94-.94-2.06-.94 2.06-2.06.94z\"/><path d=\"M17.41 7.96l-1.37-1.37c-.4-.4-.92-.59-1.43-.59-.52 0-1.04.2-1.43.59L10.3 9.45l-7.72 7.72c-.78.78-.78 2.05 0 2.83L4 21.41c.39.39.9.59 1.41.59.51 0 1.02-.2 1.41-.59l7.78-7.78 2.81-2.81c.8-.78.8-2.07 0-2.86zM5.41 20L4 18.59l7.72-7.72 1.47 1.35L5.41 20z\"/>\n",
              "  </svg>\n",
              "      </button>\n",
              "      \n",
              "  <style>\n",
              "    .colab-df-container {\n",
              "      display:flex;\n",
              "      flex-wrap:wrap;\n",
              "      gap: 12px;\n",
              "    }\n",
              "\n",
              "    .colab-df-convert {\n",
              "      background-color: #E8F0FE;\n",
              "      border: none;\n",
              "      border-radius: 50%;\n",
              "      cursor: pointer;\n",
              "      display: none;\n",
              "      fill: #1967D2;\n",
              "      height: 32px;\n",
              "      padding: 0 0 0 0;\n",
              "      width: 32px;\n",
              "    }\n",
              "\n",
              "    .colab-df-convert:hover {\n",
              "      background-color: #E2EBFA;\n",
              "      box-shadow: 0px 1px 2px rgba(60, 64, 67, 0.3), 0px 1px 3px 1px rgba(60, 64, 67, 0.15);\n",
              "      fill: #174EA6;\n",
              "    }\n",
              "\n",
              "    [theme=dark] .colab-df-convert {\n",
              "      background-color: #3B4455;\n",
              "      fill: #D2E3FC;\n",
              "    }\n",
              "\n",
              "    [theme=dark] .colab-df-convert:hover {\n",
              "      background-color: #434B5C;\n",
              "      box-shadow: 0px 1px 3px 1px rgba(0, 0, 0, 0.15);\n",
              "      filter: drop-shadow(0px 1px 2px rgba(0, 0, 0, 0.3));\n",
              "      fill: #FFFFFF;\n",
              "    }\n",
              "  </style>\n",
              "\n",
              "      <script>\n",
              "        const buttonEl =\n",
              "          document.querySelector('#df-e2bb828b-9cdc-4426-827a-936a0934a60c button.colab-df-convert');\n",
              "        buttonEl.style.display =\n",
              "          google.colab.kernel.accessAllowed ? 'block' : 'none';\n",
              "\n",
              "        async function convertToInteractive(key) {\n",
              "          const element = document.querySelector('#df-e2bb828b-9cdc-4426-827a-936a0934a60c');\n",
              "          const dataTable =\n",
              "            await google.colab.kernel.invokeFunction('convertToInteractive',\n",
              "                                                     [key], {});\n",
              "          if (!dataTable) return;\n",
              "\n",
              "          const docLinkHtml = 'Like what you see? Visit the ' +\n",
              "            '<a target=\"_blank\" href=https://colab.research.google.com/notebooks/data_table.ipynb>data table notebook</a>'\n",
              "            + ' to learn more about interactive tables.';\n",
              "          element.innerHTML = '';\n",
              "          dataTable['output_type'] = 'display_data';\n",
              "          await google.colab.output.renderOutput(dataTable, element);\n",
              "          const docLink = document.createElement('div');\n",
              "          docLink.innerHTML = docLinkHtml;\n",
              "          element.appendChild(docLink);\n",
              "        }\n",
              "      </script>\n",
              "    </div>\n",
              "  </div>\n",
              "  "
            ]
          },
          "metadata": {},
          "execution_count": 36
        }
      ]
    },
    {
      "cell_type": "markdown",
      "source": [
        "**fit_transform() vs transform()**\n",
        "\n",
        "- **fit_transform():** \n",
        "  - train set에만 사용\n",
        "  - train data의 mean, varience 학습\n",
        "  - \n",
        "```\n",
        "train data로 학습된 Scaler()의 parameter는 test data scale에 사용됨\n",
        "```\n",
        "  - fit_transform()을 test set에 적용한다면\n",
        "  \n",
        "    1) test set으로부터 mean, varience 값을 얻게 되는 것 \n",
        "    \n",
        "    -> test set도 학습하게 되므로 안됨 (정답지는 학습되면 안됨)\n",
        "\n",
        "    2) test set이 학습되면 모델이 처음보는 데이터셋에 대해 얼마나 성능이 좋은지 알 수 없게 됨\n",
        "\n",
        "- **transform():**\n",
        "  - train data로부터 학습된 mean, varience를 test set에 적용하기 위해 transform() 메서드 사용"
      ],
      "metadata": {
        "id": "QDrXfSo3ZG2_"
      }
    },
    {
      "cell_type": "markdown",
      "source": [
        "참고 : https://deepinsight.tistory.com/165"
      ],
      "metadata": {
        "id": "88jp4hx_a4qU"
      }
    },
    {
      "cell_type": "code",
      "source": [
        "plt.subplots(figsize=(20,20))\n",
        "\n",
        "sns.heatmap(df.corr(), square=True, cbar_kws=dict(shrink=.99), annot=True,\n",
        "            vmin=-1, vmax=1, linewidths=0.1, linecolor='white',\n",
        "            annot_kws=dict(fontsize=13))\n",
        "\n",
        "plt.title(\"Pearson Correlation of Features\", size=17)\n",
        "plt.xticks(rotation=90)\n",
        "plt.show()"
      ],
      "metadata": {
        "colab": {
          "base_uri": "https://localhost:8080/",
          "height": 728
        },
        "id": "a88bOXaUamgt",
        "outputId": "7758896f-a823-4c8a-cbb5-1da0d0bbda21"
      },
      "execution_count": 37,
      "outputs": [
        {
          "output_type": "display_data",
          "data": {
            "text/plain": [
              "<Figure size 1440x1440 with 2 Axes>"
            ],
            "image/png": "[encoded data removed]"
          },
          "metadata": {}
        }
      ]
    },
    {
      "cell_type": "markdown",
      "source": [
        "# Modeling"
      ],
      "metadata": {
        "id": "0RiToFP_gFTK"
      }
    },
    {
      "cell_type": "markdown",
      "source": [
        "## Data Preprocessing for Classification"
      ],
      "metadata": {
        "id": "JHiDAOMLdDKR"
      }
    },
    {
      "cell_type": "code",
      "source": [
        "X = df.drop(\"LUNG_CANCER\", axis=1)\n",
        "y = df['LUNG_CANCER']\n",
        "\n",
        "from sklearn.preprocessing import StandardScaler\n",
        "from sklearn.model_selection import train_test_split\n",
        "\n",
        "scaler = StandardScaler()\n",
        "X = scaler.fit_transform(X)\n",
        "\n",
        "X_train, X_test, y_train, y_test = train_test_split(X,y, test_size=0.2, random_state=42)\n",
        "\n",
        "print(f'train data shape')\n",
        "print(f'X_train:{X_train.shape}')\n",
        "print(f'y_train:{y_train.shape}')\n",
        "print('-'*30)\n",
        "print(f'test data shape')\n",
        "print(f'X_test:{X_test.shape}')\n",
        "print(f'y_test:{y_test.shape}')"
      ],
      "metadata": {
        "colab": {
          "base_uri": "https://localhost:8080/"
        },
        "id": "tsw7X0BGcwW4",
        "outputId": "d2967375-989b-41c4-ebad-489930b97af0"
      },
      "execution_count": 38,
      "outputs": [
        {
          "output_type": "stream",
          "name": "stdout",
          "text": [
            "train data shape\n",
            "X_train:(220, 16)\n",
            "y_train:(220,)\n",
            "------------------------------\n",
            "test data shape\n",
            "X_test:(56, 16)\n",
            "y_test:(56,)\n"
          ]
        }
      ]
    },
    {
      "cell_type": "markdown",
      "source": [
        "## Logistic Regression Model"
      ],
      "metadata": {
        "id": "hgNr5YlJekuX"
      }
    },
    {
      "cell_type": "code",
      "source": [
        "from sklearn.linear_model import LogisticRegression\n",
        "from sklearn.metrics import accuracy_score, confusion_matrix, classification_report\n",
        "\n",
        "lr= LogisticRegression()\n",
        "lr.fit(X_train, y_train)      # train set fit()통해 학습\n",
        "lr_pred = lr.predict(X_test)  # 학습시켰으니 X_test 예측 저장\n",
        "\n",
        "# 잘 예측했는지 confusion matrix 통해 확인\n",
        "lr_conf = confusion_matrix(y_test, lr_pred)\n",
        "lr_report = classification_report(y_test, lr_pred)\n",
        "lr_acc = round(accuracy_score(y_test, lr_pred)*100, ndigits=2)\n",
        "\n",
        "print(f'Confusion Matrix : \\n\\n{lr_conf}')\n",
        "print(f'\\nClassification Report : \\n\\n{lr_report}')\n",
        "print(f'\\nLogistic Regression Model accuracy : {lr_acc}%')"
      ],
      "metadata": {
        "colab": {
          "base_uri": "https://localhost:8080/"
        },
        "id": "rHqojiipeTaN",
        "outputId": "855afef9-c34f-4df0-fb19-d7adde8282b1"
      },
      "execution_count": 39,
      "outputs": [
        {
          "output_type": "stream",
          "name": "stdout",
          "text": [
            "Confusion Matrix : \n",
            "\n",
            "[[ 8  4]\n",
            " [ 0 44]]\n",
            "\n",
            "Classification Report : \n",
            "\n",
            "              precision    recall  f1-score   support\n",
            "\n",
            "           0       1.00      0.67      0.80        12\n",
            "           1       0.92      1.00      0.96        44\n",
            "\n",
            "    accuracy                           0.93        56\n",
            "   macro avg       0.96      0.83      0.88        56\n",
            "weighted avg       0.93      0.93      0.92        56\n",
            "\n",
            "\n",
            "Logistic Regression Model accuracy : 92.86%\n"
          ]
        }
      ]
    },
    {
      "cell_type": "markdown",
      "source": [
        "## Gaussian Naive Bayes Model"
      ],
      "metadata": {
        "id": "nlf2Zvwaf-uW"
      }
    },
    {
      "cell_type": "code",
      "source": [
        "from sklearn.naive_bayes import GaussianNB\n",
        "\n",
        "gnb = GaussianNB()\n",
        "gnb.fit(X_train, y_train)\n",
        "gnb_pred = gnb.predict(X_test)\n",
        "\n",
        "gnb_conf = confusion_matrix(y_test, gnb_pred)\n",
        "gnb_report = classification_report(y_test, gnb_pred)\n",
        "gnb_acc = round(accuracy_score(y_test, gnb_pred)*100, ndigits=2)\n",
        "\n",
        "print(f\"Confusion Matrix : \\n\\n{gnb_conf}\")\n",
        "print(f\"\\nClassification Report : \\n\\n{gnb_report}\")\n",
        "print(f\"\\nThe Accuracy of Gaussian Naive Bayes is {gnb_acc} %\")"
      ],
      "metadata": {
        "colab": {
          "base_uri": "https://localhost:8080/"
        },
        "id": "NbSIC-_cf0ej",
        "outputId": "292eb80f-2a1e-4d56-aed0-0ef58d09eaa4"
      },
      "execution_count": 40,
      "outputs": [
        {
          "output_type": "stream",
          "name": "stdout",
          "text": [
            "Confusion Matrix : \n",
            "\n",
            "[[ 8  4]\n",
            " [ 1 43]]\n",
            "\n",
            "Classification Report : \n",
            "\n",
            "              precision    recall  f1-score   support\n",
            "\n",
            "           0       0.89      0.67      0.76        12\n",
            "           1       0.91      0.98      0.95        44\n",
            "\n",
            "    accuracy                           0.91        56\n",
            "   macro avg       0.90      0.82      0.85        56\n",
            "weighted avg       0.91      0.91      0.91        56\n",
            "\n",
            "\n",
            "The Accuracy of Gaussian Naive Bayes is 91.07 %\n"
          ]
        }
      ]
    },
    {
      "cell_type": "markdown",
      "source": [
        "## Bernoulli Naive Bayes Model"
      ],
      "metadata": {
        "id": "X8LtgKYAg2PV"
      }
    },
    {
      "cell_type": "code",
      "source": [
        "from sklearn.naive_bayes import BernoulliNB\n",
        "\n",
        "bnb = BernoulliNB()\n",
        "bnb.fit(X_train, y_train)\n",
        "bnb_pred = bnb.predict(X_test)\n",
        "\n",
        "bnb_conf = confusion_matrix(y_test, bnb_pred)\n",
        "bnb_report = classification_report(y_test, bnb_pred)\n",
        "bnb_acc = round(accuracy_score(y_test, bnb_pred)*100, ndigits = 2)\n",
        "\n",
        "print(f\"Confusion Matrix : \\n\\n{bnb_conf}\")\n",
        "print(f\"\\nClassification Report : \\n\\n{bnb_report}\")\n",
        "print(f\"\\nThe Accuracy of Bernoulli Naive Bayes is {bnb_acc} %\")"
      ],
      "metadata": {
        "colab": {
          "base_uri": "https://localhost:8080/"
        },
        "id": "6XSKr9iJgvdc",
        "outputId": "ef05e098-fbb1-4d73-b2f1-ce2f2098b12e"
      },
      "execution_count": 41,
      "outputs": [
        {
          "output_type": "stream",
          "name": "stdout",
          "text": [
            "Confusion Matrix : \n",
            "\n",
            "[[ 8  4]\n",
            " [ 1 43]]\n",
            "\n",
            "Classification Report : \n",
            "\n",
            "              precision    recall  f1-score   support\n",
            "\n",
            "           0       0.89      0.67      0.76        12\n",
            "           1       0.91      0.98      0.95        44\n",
            "\n",
            "    accuracy                           0.91        56\n",
            "   macro avg       0.90      0.82      0.85        56\n",
            "weighted avg       0.91      0.91      0.91        56\n",
            "\n",
            "\n",
            "The Accuracy of Bernoulli Naive Bayes is 91.07 %\n"
          ]
        }
      ]
    },
    {
      "cell_type": "markdown",
      "source": [
        "## Support Vector Machine Model"
      ],
      "metadata": {
        "id": "gverQmGqhMv2"
      }
    },
    {
      "cell_type": "markdown",
      "source": [
        "- 시간복잡도 : 최대 O(n^3) \n",
        "  - 데이터셋이 클 경우 주의해야 함"
      ],
      "metadata": {
        "id": "0kuXFTPhiNFo"
      }
    },
    {
      "cell_type": "markdown",
      "source": [
        "svm 시각화 관련 참조 : http://www.gisdeveloper.co.kr/?p=8180"
      ],
      "metadata": {
        "id": "teLgBClviAyB"
      }
    },
    {
      "cell_type": "code",
      "source": [
        "from sklearn.svm import SVC\n",
        "\n",
        "svm = SVC(C = 100, gamma = 0.002)\n",
        "# svm 하이퍼파라미터 설명\n",
        "  # kernel : \n",
        "      # 선형 :'linear'\n",
        "      # 비선형 : 'rbf', 'poly', 'sigmoid','precomputed'\n",
        "      # 기본 : 'rbf'\n",
        "  # C : regulation의 정도 (클수록 L2 panelty 증가)\n",
        "      # 기본: 1.0\n",
        "  # degree : \n",
        "      # kernel이 poly일때만 유효\n",
        "      # 커널 함수를 몇차 함수로 지정할지 결정\n",
        "  # gamma : \n",
        "      # 커널함수 조건 : 'rbf','poly','sigmoid'인 경우 유효\n",
        "      # 커널 개수를 지정하는 하이퍼파라미터\n",
        "      # 'scale','auto' 중 지정 가능\n",
        "  # random_state\n",
        "\n",
        "svm.fit(X_train, y_train)\n",
        "svm_pred = svm.predict(X_test)\n",
        "\n",
        "svm_conf = confusion_matrix(y_test, svm_pred)\n",
        "svm_report = classification_report(y_test, svm_pred)\n",
        "svm_acc = round(accuracy_score(y_test, svm_pred)*100, ndigits = 2)\n",
        "\n",
        "print(f\"Confusion Matrix : \\n\\n{svm_conf}\")\n",
        "print(f\"\\nClassification Report : \\n\\n{svm_report}\")\n",
        "print(f\"\\nThe Accuracy of Support Vector Machine is {svm_acc} %\")"
      ],
      "metadata": {
        "colab": {
          "base_uri": "https://localhost:8080/"
        },
        "id": "djEHv-gThKgL",
        "outputId": "e34f8f52-e2dd-4799-cb3b-7dca74047a1c"
      },
      "execution_count": 42,
      "outputs": [
        {
          "output_type": "stream",
          "name": "stdout",
          "text": [
            "Confusion Matrix : \n",
            "\n",
            "[[ 9  3]\n",
            " [ 0 44]]\n",
            "\n",
            "Classification Report : \n",
            "\n",
            "              precision    recall  f1-score   support\n",
            "\n",
            "           0       1.00      0.75      0.86        12\n",
            "           1       0.94      1.00      0.97        44\n",
            "\n",
            "    accuracy                           0.95        56\n",
            "   macro avg       0.97      0.88      0.91        56\n",
            "weighted avg       0.95      0.95      0.94        56\n",
            "\n",
            "\n",
            "The Accuracy of Support Vector Machine is 94.64 %\n"
          ]
        }
      ]
    },
    {
      "cell_type": "markdown",
      "source": [
        "가중치 규제(regularization) :\n",
        "- 과적합 방지 대표적 방법\n",
        "- 가중치의 값이 커지지 않도록 제한하는 기법\n",
        "\n",
        "- L1 규제\n",
        "  - 규제가 커질수록\n",
        "    - 과소적합됨\n",
        "    - 가중치값이 0에 가까워짐\n",
        "  - 손실함수에 가중치의 절대값인 L1 norm 추가\n",
        "  - 가중치 절댓값을 손실함수에 더하는 것\n",
        "  - 규제의 양을 조절하는 파라미터를 곱한 후 더해진다\n",
        "  - 절편은 규제하지 않음\n",
        "    - 절편은 복잡도에 영향을 주지 않기 때문\n",
        "    - 어떤 방향으로 이동시킬 뿐\n",
        "  - Lasso(라쏘 모델) : 회귀 + L1 regularization\n",
        "\n",
        "- L2 규제\n",
        "  - 손실함수에 가중치에 대한 L2 norm의 제곱을 더함\n",
        "  - 규제가 커지면\n",
        "    - 과소적합이 심해지지 않음\n",
        "    - 따라서 L2 규제 많이 사용함"
      ],
      "metadata": {
        "id": "XBUuPsZPjkTI"
      }
    },
    {
      "cell_type": "markdown",
      "source": [
        "참고: https://rdmkyg.blogspot.com/2021/06/regularization-l1.html"
      ],
      "metadata": {
        "id": "OfWZAjMok-hU"
      }
    },
    {
      "cell_type": "markdown",
      "source": [
        "## Random Forest Model"
      ],
      "metadata": {
        "id": "uiF3mDhnlXTo"
      }
    },
    {
      "cell_type": "code",
      "source": [
        "from sklearn.ensemble import RandomForestClassifier\n",
        "\n",
        "rfg = RandomForestClassifier(n_estimators = 100, random_state = 42) \n",
        "rfg.fit(X_train, y_train)\n",
        "rfg_pred = rfg.predict(X_test)\n",
        "\n",
        "rfg_conf = confusion_matrix(y_test, rfg_pred)\n",
        "rfg_report = classification_report(y_test, rfg_pred)\n",
        "rfg_acc = round(accuracy_score(y_test, rfg_pred)*100, ndigits = 2)\n",
        "\n",
        "print(f\"Confusion Matrix : \\n\\n{rfg_conf}\")\n",
        "print(f\"\\nClassification Report : \\n\\n{rfg_report}\")\n",
        "print(f\"\\nThe Accuracy of Random Forest Classifier is {rfg_acc} %\")"
      ],
      "metadata": {
        "colab": {
          "base_uri": "https://localhost:8080/"
        },
        "id": "ZTQFI0yiiEhc",
        "outputId": "06fda92f-c9aa-41b2-cc44-aa629e646fac"
      },
      "execution_count": 43,
      "outputs": [
        {
          "output_type": "stream",
          "name": "stdout",
          "text": [
            "Confusion Matrix : \n",
            "\n",
            "[[ 6  6]\n",
            " [ 0 44]]\n",
            "\n",
            "Classification Report : \n",
            "\n",
            "              precision    recall  f1-score   support\n",
            "\n",
            "           0       1.00      0.50      0.67        12\n",
            "           1       0.88      1.00      0.94        44\n",
            "\n",
            "    accuracy                           0.89        56\n",
            "   macro avg       0.94      0.75      0.80        56\n",
            "weighted avg       0.91      0.89      0.88        56\n",
            "\n",
            "\n",
            "The Accuracy of Random Forest Classifier is 89.29 %\n"
          ]
        }
      ]
    },
    {
      "cell_type": "markdown",
      "source": [
        "## K Nearest Neighbors Model"
      ],
      "metadata": {
        "id": "hyhrRUSllkZA"
      }
    },
    {
      "cell_type": "code",
      "source": [
        "from sklearn.neighbors import KNeighborsClassifier\n",
        "\n",
        "knn = KNeighborsClassifier(n_neighbors=2)\n",
        "knn.fit(X_train, y_train)\n",
        "knn_pred = knn.predict(X_test)\n",
        "\n",
        "knn_conf = confusion_matrix(y_test, knn_pred)\n",
        "knn_report = classification_report(y_test, knn_pred)\n",
        "knn_acc = round(accuracy_score(y_test, knn_pred)*100, ndigits = 2)\n",
        "\n",
        "print(f\"Confusion Matrix : \\n\\n{knn_conf}\")\n",
        "print(f\"\\nClassification Report : \\n\\n{knn_report}\")\n",
        "print(f\"\\nThe Accuracy of K Nearest Neighbors Classifier is {knn_acc} %\")"
      ],
      "metadata": {
        "colab": {
          "base_uri": "https://localhost:8080/"
        },
        "id": "VZ8sXWq-lgrn",
        "outputId": "20161b28-a1bb-4afb-ca5f-3385da941f03"
      },
      "execution_count": 44,
      "outputs": [
        {
          "output_type": "stream",
          "name": "stdout",
          "text": [
            "Confusion Matrix : \n",
            "\n",
            "[[12  0]\n",
            " [ 2 42]]\n",
            "\n",
            "Classification Report : \n",
            "\n",
            "              precision    recall  f1-score   support\n",
            "\n",
            "           0       0.86      1.00      0.92        12\n",
            "           1       1.00      0.95      0.98        44\n",
            "\n",
            "    accuracy                           0.96        56\n",
            "   macro avg       0.93      0.98      0.95        56\n",
            "weighted avg       0.97      0.96      0.97        56\n",
            "\n",
            "\n",
            "The Accuracy of K Nearest Neighbors Classifier is 96.43 %\n"
          ]
        }
      ]
    },
    {
      "cell_type": "markdown",
      "source": [
        "## Extreme Gradient Boosting Model"
      ],
      "metadata": {
        "id": "Jmua5OV-l0TR"
      }
    },
    {
      "cell_type": "code",
      "source": [
        "from xgboost import XGBClassifier\n",
        "\n",
        "xgb = XGBClassifier(use_label_encoder = False)\n",
        "xgb.fit(X_train, y_train)\n",
        "xgb_pred = xgb.predict(X_test)\n",
        "\n",
        "xgb_conf = confusion_matrix(y_test, xgb_pred)\n",
        "xgb_report = classification_report(y_test, xgb_pred)\n",
        "xgb_acc = round(accuracy_score(y_test, xgb_pred)*100, ndigits = 2)\n",
        "\n",
        "print(f\"Confusion Matrix : \\n\\n{xgb_conf}\")\n",
        "print(f\"\\nClassification Report : \\n\\n{xgb_report}\")\n",
        "print(f\"\\nThe Accuracy of Extreme Gradient Boosting Classifier is {xgb_acc} %\")"
      ],
      "metadata": {
        "colab": {
          "base_uri": "https://localhost:8080/"
        },
        "id": "09MKr4F3lxtH",
        "outputId": "c5548acc-96cc-4cd1-f941-d707ee3fe51a"
      },
      "execution_count": 45,
      "outputs": [
        {
          "output_type": "stream",
          "name": "stdout",
          "text": [
            "Confusion Matrix : \n",
            "\n",
            "[[ 6  6]\n",
            " [ 0 44]]\n",
            "\n",
            "Classification Report : \n",
            "\n",
            "              precision    recall  f1-score   support\n",
            "\n",
            "           0       1.00      0.50      0.67        12\n",
            "           1       0.88      1.00      0.94        44\n",
            "\n",
            "    accuracy                           0.89        56\n",
            "   macro avg       0.94      0.75      0.80        56\n",
            "weighted avg       0.91      0.89      0.88        56\n",
            "\n",
            "\n",
            "The Accuracy of Extreme Gradient Boosting Classifier is 89.29 %\n"
          ]
        }
      ]
    },
    {
      "cell_type": "markdown",
      "source": [
        "## Neural Network Architecture"
      ],
      "metadata": {
        "id": "2E8Ax4XsmA2I"
      }
    },
    {
      "cell_type": "code",
      "source": [
        "import tensorflow as tf\n",
        "from tensorflow.keras import Sequential\n",
        "from tensorflow.keras import regularizers\n",
        "from tensorflow.keras.optimizers import Adam"
      ],
      "metadata": {
        "id": "__k5AKIjnJQu"
      },
      "execution_count": 46,
      "outputs": []
    },
    {
      "cell_type": "code",
      "source": [
        "regularization_parmeter = 0.003\n",
        "\n",
        "neural_model = Sequential([\n",
        "                          # Unit 32\n",
        "                          tf.keras.layers.Dense(units=32, \n",
        "                              input_dim=(X_train.shape[-1]),\n",
        "                              activation='relu',\n",
        "                              kernel_regularizer= regularizers.l1(regularization_parmeter)),\n",
        "                          # Unit 64\n",
        "                          tf.keras.layers.Dense(units=64, activation='relu',\n",
        "                              kernel_regularizer= regularizers.l1(regularization_parmeter)),\n",
        "                          # Unit 128\n",
        "                          tf.keras.layers.Dense(units=128, activation='relu',\n",
        "                              kernel_regularizer= regularizers.l1(regularization_parmeter)),\n",
        "                          # Dropout\n",
        "                          tf.keras.layers.Dropout(0.2),\n",
        "                          # Unit 16\n",
        "                          tf.keras.layers.Dense(units=16, activation='relu',\n",
        "                              kernel_regularizer= regularizers.l1(regularization_parmeter)),\n",
        "                          # sigmoid\n",
        "                          tf.keras.layers.Dense(units=1, activation='sigmoid',\n",
        "                              kernel_regularizer= regularizers.l1(regularization_parmeter))])\n",
        "\n",
        "print(neural_model.summary())"
      ],
      "metadata": {
        "colab": {
          "base_uri": "https://localhost:8080/"
        },
        "id": "WTi6sQwTl8hS",
        "outputId": "e257758d-022c-46a2-9637-ac4a567e305d"
      },
      "execution_count": 47,
      "outputs": [
        {
          "output_type": "stream",
          "name": "stdout",
          "text": [
            "Model: \"sequential\"\n",
            "_________________________________________________________________\n",
            " Layer (type)                Output Shape              Param #   \n",
            "=================================================================\n",
            " dense (Dense)               (None, 32)                544       \n",
            "                                                                 \n",
            " dense_1 (Dense)             (None, 64)                2112      \n",
            "                                                                 \n",
            " dense_2 (Dense)             (None, 128)               8320      \n",
            "                                                                 \n",
            " dropout (Dropout)           (None, 128)               0         \n",
            "                                                                 \n",
            " dense_3 (Dense)             (None, 16)                2064      \n",
            "                                                                 \n",
            " dense_4 (Dense)             (None, 1)                 17        \n",
            "                                                                 \n",
            "=================================================================\n",
            "Total params: 13,057\n",
            "Trainable params: 13,057\n",
            "Non-trainable params: 0\n",
            "_________________________________________________________________\n",
            "None\n"
          ]
        }
      ]
    },
    {
      "cell_type": "code",
      "source": [
        "# callback 만들기\n",
        "class myCallback(tf.keras.callbacks.Callback):\n",
        "  def on_epoch_end(self, epoch, logs={}):\n",
        "\n",
        "    if (logs.get('accuracy')==1.0):\n",
        "      print('\\nAccuracy is 100%, so conceling training!')\n",
        "      self.model.stop_training =True\n",
        "\n",
        "callbacks= myCallback()\n",
        "\n",
        "neural_model.compile(optimizer = Adam(learning_rate = 0.001),\n",
        "                     loss = 'binary_crossentropy',\n",
        "                     metrics=['accuracy'])\n",
        "\n",
        "history = neural_model.fit(X_train, y_train,\n",
        "                           epochs=150,\n",
        "                           verbose=1,\n",
        "                           batch_size=32,\n",
        "                           validation_data = (X_test, y_test),\n",
        "                           callbacks=[callbacks])"
      ],
      "metadata": {
        "colab": {
          "base_uri": "https://localhost:8080/"
        },
        "id": "rjX8EJ4wpnA5",
        "outputId": "9d4c0371-1caf-4161-f5b1-707b2b31757e"
      },
      "execution_count": 48,
      "outputs": [
        {
          "output_type": "stream",
          "name": "stdout",
          "text": [
            "Epoch 1/150\n",
            "7/7 [==============================] - 4s 137ms/step - loss: 4.4597 - accuracy: 0.5409 - val_loss: 4.3040 - val_accuracy: 0.7857\n",
            "Epoch 2/150\n",
            "7/7 [==============================] - 0s 19ms/step - loss: 4.1413 - accuracy: 0.8682 - val_loss: 4.0503 - val_accuracy: 0.7857\n",
            "Epoch 3/150\n",
            "7/7 [==============================] - 0s 15ms/step - loss: 3.8633 - accuracy: 0.8818 - val_loss: 3.8264 - val_accuracy: 0.7857\n",
            "Epoch 4/150\n",
            "7/7 [==============================] - 0s 24ms/step - loss: 3.6178 - accuracy: 0.8818 - val_loss: 3.6358 - val_accuracy: 0.7857\n",
            "Epoch 5/150\n",
            "7/7 [==============================] - 0s 19ms/step - loss: 3.3985 - accuracy: 0.8818 - val_loss: 3.4475 - val_accuracy: 0.7857\n",
            "Epoch 6/150\n",
            "7/7 [==============================] - 0s 16ms/step - loss: 3.1895 - accuracy: 0.8818 - val_loss: 3.2523 - val_accuracy: 0.7857\n",
            "Epoch 7/150\n",
            "7/7 [==============================] - 0s 16ms/step - loss: 3.0057 - accuracy: 0.8818 - val_loss: 3.0583 - val_accuracy: 0.7857\n",
            "Epoch 8/150\n",
            "7/7 [==============================] - 0s 14ms/step - loss: 2.8139 - accuracy: 0.8818 - val_loss: 2.8695 - val_accuracy: 0.7857\n",
            "Epoch 9/150\n",
            "7/7 [==============================] - 0s 19ms/step - loss: 2.6369 - accuracy: 0.8818 - val_loss: 2.6875 - val_accuracy: 0.7857\n",
            "Epoch 10/150\n",
            "7/7 [==============================] - 0s 20ms/step - loss: 2.4608 - accuracy: 0.8818 - val_loss: 2.5193 - val_accuracy: 0.7857\n",
            "Epoch 11/150\n",
            "7/7 [==============================] - 0s 22ms/step - loss: 2.3026 - accuracy: 0.8818 - val_loss: 2.3610 - val_accuracy: 0.7857\n",
            "Epoch 12/150\n",
            "7/7 [==============================] - 0s 27ms/step - loss: 2.1453 - accuracy: 0.8818 - val_loss: 2.2075 - val_accuracy: 0.7857\n",
            "Epoch 13/150\n",
            "7/7 [==============================] - 0s 19ms/step - loss: 2.0009 - accuracy: 0.8818 - val_loss: 2.0603 - val_accuracy: 0.7857\n",
            "Epoch 14/150\n",
            "7/7 [==============================] - 0s 15ms/step - loss: 1.8544 - accuracy: 0.8818 - val_loss: 1.9244 - val_accuracy: 0.7857\n",
            "Epoch 15/150\n",
            "7/7 [==============================] - 0s 27ms/step - loss: 1.7324 - accuracy: 0.8818 - val_loss: 1.7931 - val_accuracy: 0.7857\n",
            "Epoch 16/150\n",
            "7/7 [==============================] - 0s 23ms/step - loss: 1.6074 - accuracy: 0.8818 - val_loss: 1.6726 - val_accuracy: 0.7857\n",
            "Epoch 17/150\n",
            "7/7 [==============================] - 0s 18ms/step - loss: 1.4859 - accuracy: 0.8818 - val_loss: 1.5571 - val_accuracy: 0.7857\n",
            "Epoch 18/150\n",
            "7/7 [==============================] - 0s 23ms/step - loss: 1.3809 - accuracy: 0.8818 - val_loss: 1.4516 - val_accuracy: 0.7857\n",
            "Epoch 19/150\n",
            "7/7 [==============================] - 0s 16ms/step - loss: 1.2813 - accuracy: 0.8818 - val_loss: 1.3532 - val_accuracy: 0.7857\n",
            "Epoch 20/150\n",
            "7/7 [==============================] - 0s 31ms/step - loss: 1.1900 - accuracy: 0.8818 - val_loss: 1.2638 - val_accuracy: 0.7857\n",
            "Epoch 21/150\n",
            "7/7 [==============================] - 0s 20ms/step - loss: 1.1060 - accuracy: 0.8818 - val_loss: 1.1808 - val_accuracy: 0.7857\n",
            "Epoch 22/150\n",
            "7/7 [==============================] - 0s 15ms/step - loss: 1.0309 - accuracy: 0.8818 - val_loss: 1.1067 - val_accuracy: 0.7857\n",
            "Epoch 23/150\n",
            "7/7 [==============================] - 0s 16ms/step - loss: 0.9587 - accuracy: 0.8818 - val_loss: 1.0400 - val_accuracy: 0.7857\n",
            "Epoch 24/150\n",
            "7/7 [==============================] - 0s 15ms/step - loss: 0.8977 - accuracy: 0.8818 - val_loss: 0.9828 - val_accuracy: 0.7857\n",
            "Epoch 25/150\n",
            "7/7 [==============================] - 0s 14ms/step - loss: 0.8454 - accuracy: 0.8818 - val_loss: 0.9356 - val_accuracy: 0.7857\n",
            "Epoch 26/150\n",
            "7/7 [==============================] - 0s 14ms/step - loss: 0.8011 - accuracy: 0.8818 - val_loss: 0.8924 - val_accuracy: 0.7857\n",
            "Epoch 27/150\n",
            "7/7 [==============================] - 0s 15ms/step - loss: 0.7652 - accuracy: 0.8818 - val_loss: 0.8552 - val_accuracy: 0.7857\n",
            "Epoch 28/150\n",
            "7/7 [==============================] - 0s 14ms/step - loss: 0.7346 - accuracy: 0.8818 - val_loss: 0.8222 - val_accuracy: 0.7857\n",
            "Epoch 29/150\n",
            "7/7 [==============================] - 0s 18ms/step - loss: 0.6943 - accuracy: 0.8818 - val_loss: 0.7885 - val_accuracy: 0.7857\n",
            "Epoch 30/150\n",
            "7/7 [==============================] - 0s 15ms/step - loss: 0.6691 - accuracy: 0.8818 - val_loss: 0.7604 - val_accuracy: 0.7857\n",
            "Epoch 31/150\n",
            "7/7 [==============================] - 0s 21ms/step - loss: 0.6462 - accuracy: 0.8818 - val_loss: 0.7373 - val_accuracy: 0.7857\n",
            "Epoch 32/150\n",
            "7/7 [==============================] - 0s 24ms/step - loss: 0.6192 - accuracy: 0.8818 - val_loss: 0.7137 - val_accuracy: 0.7857\n",
            "Epoch 33/150\n",
            "7/7 [==============================] - 0s 19ms/step - loss: 0.6038 - accuracy: 0.8818 - val_loss: 0.6926 - val_accuracy: 0.7857\n",
            "Epoch 34/150\n",
            "7/7 [==============================] - 0s 19ms/step - loss: 0.5822 - accuracy: 0.8818 - val_loss: 0.6736 - val_accuracy: 0.7857\n",
            "Epoch 35/150\n",
            "7/7 [==============================] - 0s 21ms/step - loss: 0.5648 - accuracy: 0.8818 - val_loss: 0.6551 - val_accuracy: 0.7857\n",
            "Epoch 36/150\n",
            "7/7 [==============================] - 0s 18ms/step - loss: 0.5500 - accuracy: 0.8818 - val_loss: 0.6401 - val_accuracy: 0.7857\n",
            "Epoch 37/150\n",
            "7/7 [==============================] - 0s 22ms/step - loss: 0.5390 - accuracy: 0.8818 - val_loss: 0.6244 - val_accuracy: 0.7857\n",
            "Epoch 38/150\n",
            "7/7 [==============================] - 0s 15ms/step - loss: 0.5230 - accuracy: 0.8818 - val_loss: 0.6133 - val_accuracy: 0.8036\n",
            "Epoch 39/150\n",
            "7/7 [==============================] - 0s 20ms/step - loss: 0.5104 - accuracy: 0.8955 - val_loss: 0.6014 - val_accuracy: 0.8036\n",
            "Epoch 40/150\n",
            "7/7 [==============================] - 0s 14ms/step - loss: 0.5019 - accuracy: 0.9045 - val_loss: 0.5904 - val_accuracy: 0.8571\n",
            "Epoch 41/150\n",
            "7/7 [==============================] - 0s 14ms/step - loss: 0.4890 - accuracy: 0.9091 - val_loss: 0.5803 - val_accuracy: 0.8750\n",
            "Epoch 42/150\n",
            "7/7 [==============================] - 0s 17ms/step - loss: 0.4840 - accuracy: 0.9318 - val_loss: 0.5707 - val_accuracy: 0.8750\n",
            "Epoch 43/150\n",
            "7/7 [==============================] - 0s 25ms/step - loss: 0.4714 - accuracy: 0.9273 - val_loss: 0.5620 - val_accuracy: 0.8750\n",
            "Epoch 44/150\n",
            "7/7 [==============================] - 0s 16ms/step - loss: 0.4652 - accuracy: 0.9273 - val_loss: 0.5549 - val_accuracy: 0.8750\n",
            "Epoch 45/150\n",
            "7/7 [==============================] - 0s 22ms/step - loss: 0.4607 - accuracy: 0.9318 - val_loss: 0.5457 - val_accuracy: 0.8750\n",
            "Epoch 46/150\n",
            "7/7 [==============================] - 0s 23ms/step - loss: 0.4541 - accuracy: 0.9318 - val_loss: 0.5387 - val_accuracy: 0.8750\n",
            "Epoch 47/150\n",
            "7/7 [==============================] - 0s 41ms/step - loss: 0.4448 - accuracy: 0.9227 - val_loss: 0.5321 - val_accuracy: 0.8750\n",
            "Epoch 48/150\n",
            "7/7 [==============================] - 0s 18ms/step - loss: 0.4364 - accuracy: 0.9273 - val_loss: 0.5252 - val_accuracy: 0.8750\n",
            "Epoch 49/150\n",
            "7/7 [==============================] - 0s 8ms/step - loss: 0.4297 - accuracy: 0.9273 - val_loss: 0.5197 - val_accuracy: 0.8750\n",
            "Epoch 50/150\n",
            "7/7 [==============================] - 0s 8ms/step - loss: 0.4288 - accuracy: 0.9318 - val_loss: 0.5109 - val_accuracy: 0.8750\n",
            "Epoch 51/150\n",
            "7/7 [==============================] - 0s 8ms/step - loss: 0.4214 - accuracy: 0.9364 - val_loss: 0.5062 - val_accuracy: 0.8750\n",
            "Epoch 52/150\n",
            "7/7 [==============================] - 0s 7ms/step - loss: 0.4138 - accuracy: 0.9364 - val_loss: 0.5004 - val_accuracy: 0.8750\n",
            "Epoch 53/150\n",
            "7/7 [==============================] - 0s 13ms/step - loss: 0.4118 - accuracy: 0.9364 - val_loss: 0.4945 - val_accuracy: 0.8750\n",
            "Epoch 54/150\n",
            "7/7 [==============================] - 0s 8ms/step - loss: 0.4078 - accuracy: 0.9409 - val_loss: 0.4893 - val_accuracy: 0.8750\n",
            "Epoch 55/150\n",
            "7/7 [==============================] - 0s 8ms/step - loss: 0.4017 - accuracy: 0.9364 - val_loss: 0.4829 - val_accuracy: 0.8571\n",
            "Epoch 56/150\n",
            "7/7 [==============================] - 0s 9ms/step - loss: 0.3965 - accuracy: 0.9409 - val_loss: 0.4789 - val_accuracy: 0.8750\n",
            "Epoch 57/150\n",
            "7/7 [==============================] - 0s 8ms/step - loss: 0.3963 - accuracy: 0.9364 - val_loss: 0.4753 - val_accuracy: 0.8750\n",
            "Epoch 58/150\n",
            "7/7 [==============================] - 0s 8ms/step - loss: 0.3883 - accuracy: 0.9409 - val_loss: 0.4718 - val_accuracy: 0.8750\n",
            "Epoch 59/150\n",
            "7/7 [==============================] - 0s 8ms/step - loss: 0.3837 - accuracy: 0.9409 - val_loss: 0.4658 - val_accuracy: 0.8571\n",
            "Epoch 60/150\n",
            "7/7 [==============================] - 0s 7ms/step - loss: 0.3796 - accuracy: 0.9455 - val_loss: 0.4624 - val_accuracy: 0.8571\n",
            "Epoch 61/150\n",
            "7/7 [==============================] - 0s 8ms/step - loss: 0.3810 - accuracy: 0.9364 - val_loss: 0.4608 - val_accuracy: 0.8750\n",
            "Epoch 62/150\n",
            "7/7 [==============================] - 0s 8ms/step - loss: 0.3714 - accuracy: 0.9364 - val_loss: 0.4573 - val_accuracy: 0.8929\n",
            "Epoch 63/150\n",
            "7/7 [==============================] - 0s 8ms/step - loss: 0.3707 - accuracy: 0.9409 - val_loss: 0.4540 - val_accuracy: 0.8929\n",
            "Epoch 64/150\n",
            "7/7 [==============================] - 0s 8ms/step - loss: 0.3661 - accuracy: 0.9364 - val_loss: 0.4513 - val_accuracy: 0.8750\n",
            "Epoch 65/150\n",
            "7/7 [==============================] - 0s 13ms/step - loss: 0.3644 - accuracy: 0.9409 - val_loss: 0.4473 - val_accuracy: 0.8750\n",
            "Epoch 66/150\n",
            "7/7 [==============================] - 0s 8ms/step - loss: 0.3605 - accuracy: 0.9409 - val_loss: 0.4435 - val_accuracy: 0.8750\n",
            "Epoch 67/150\n",
            "7/7 [==============================] - 0s 9ms/step - loss: 0.3623 - accuracy: 0.9409 - val_loss: 0.4404 - val_accuracy: 0.8750\n",
            "Epoch 68/150\n",
            "7/7 [==============================] - 0s 9ms/step - loss: 0.3559 - accuracy: 0.9409 - val_loss: 0.4379 - val_accuracy: 0.8750\n",
            "Epoch 69/150\n",
            "7/7 [==============================] - 0s 10ms/step - loss: 0.3497 - accuracy: 0.9409 - val_loss: 0.4354 - val_accuracy: 0.8750\n",
            "Epoch 70/150\n",
            "7/7 [==============================] - 0s 9ms/step - loss: 0.3508 - accuracy: 0.9409 - val_loss: 0.4333 - val_accuracy: 0.8750\n",
            "Epoch 71/150\n",
            "7/7 [==============================] - 0s 8ms/step - loss: 0.3473 - accuracy: 0.9409 - val_loss: 0.4312 - val_accuracy: 0.8750\n",
            "Epoch 72/150\n",
            "7/7 [==============================] - 0s 7ms/step - loss: 0.3437 - accuracy: 0.9409 - val_loss: 0.4286 - val_accuracy: 0.8929\n",
            "Epoch 73/150\n",
            "7/7 [==============================] - 0s 9ms/step - loss: 0.3472 - accuracy: 0.9409 - val_loss: 0.4258 - val_accuracy: 0.8750\n",
            "Epoch 74/150\n",
            "7/7 [==============================] - 0s 9ms/step - loss: 0.3423 - accuracy: 0.9409 - val_loss: 0.4236 - val_accuracy: 0.8750\n",
            "Epoch 75/150\n",
            "7/7 [==============================] - 0s 8ms/step - loss: 0.3369 - accuracy: 0.9409 - val_loss: 0.4191 - val_accuracy: 0.8750\n",
            "Epoch 76/150\n",
            "7/7 [==============================] - 0s 9ms/step - loss: 0.3348 - accuracy: 0.9409 - val_loss: 0.4178 - val_accuracy: 0.8750\n",
            "Epoch 77/150\n",
            "7/7 [==============================] - 0s 12ms/step - loss: 0.3355 - accuracy: 0.9409 - val_loss: 0.4151 - val_accuracy: 0.8929\n",
            "Epoch 78/150\n",
            "7/7 [==============================] - 0s 10ms/step - loss: 0.3335 - accuracy: 0.9409 - val_loss: 0.4127 - val_accuracy: 0.8929\n",
            "Epoch 79/150\n",
            "7/7 [==============================] - 0s 8ms/step - loss: 0.3295 - accuracy: 0.9409 - val_loss: 0.4105 - val_accuracy: 0.8750\n",
            "Epoch 80/150\n",
            "7/7 [==============================] - 0s 9ms/step - loss: 0.3314 - accuracy: 0.9409 - val_loss: 0.4067 - val_accuracy: 0.8929\n",
            "Epoch 81/150\n",
            "7/7 [==============================] - 0s 10ms/step - loss: 0.3267 - accuracy: 0.9409 - val_loss: 0.4059 - val_accuracy: 0.8750\n",
            "Epoch 82/150\n",
            "7/7 [==============================] - 0s 10ms/step - loss: 0.3204 - accuracy: 0.9409 - val_loss: 0.4048 - val_accuracy: 0.8929\n",
            "Epoch 83/150\n",
            "7/7 [==============================] - 0s 13ms/step - loss: 0.3199 - accuracy: 0.9455 - val_loss: 0.4047 - val_accuracy: 0.8929\n",
            "Epoch 84/150\n",
            "7/7 [==============================] - 0s 11ms/step - loss: 0.3216 - accuracy: 0.9455 - val_loss: 0.4021 - val_accuracy: 0.8750\n",
            "Epoch 85/150\n",
            "7/7 [==============================] - 0s 10ms/step - loss: 0.3179 - accuracy: 0.9409 - val_loss: 0.3996 - val_accuracy: 0.8750\n",
            "Epoch 86/150\n",
            "7/7 [==============================] - 0s 13ms/step - loss: 0.3193 - accuracy: 0.9455 - val_loss: 0.3975 - val_accuracy: 0.8750\n",
            "Epoch 87/150\n",
            "7/7 [==============================] - 0s 8ms/step - loss: 0.3142 - accuracy: 0.9455 - val_loss: 0.3951 - val_accuracy: 0.8750\n",
            "Epoch 88/150\n",
            "7/7 [==============================] - 0s 12ms/step - loss: 0.3157 - accuracy: 0.9455 - val_loss: 0.3949 - val_accuracy: 0.8750\n",
            "Epoch 89/150\n",
            "7/7 [==============================] - 0s 9ms/step - loss: 0.3107 - accuracy: 0.9455 - val_loss: 0.3927 - val_accuracy: 0.8750\n",
            "Epoch 90/150\n",
            "7/7 [==============================] - 0s 8ms/step - loss: 0.3092 - accuracy: 0.9455 - val_loss: 0.3920 - val_accuracy: 0.8750\n",
            "Epoch 91/150\n",
            "7/7 [==============================] - 0s 8ms/step - loss: 0.3067 - accuracy: 0.9455 - val_loss: 0.3892 - val_accuracy: 0.8750\n",
            "Epoch 92/150\n",
            "7/7 [==============================] - 0s 10ms/step - loss: 0.3053 - accuracy: 0.9455 - val_loss: 0.3889 - val_accuracy: 0.8750\n",
            "Epoch 93/150\n",
            "7/7 [==============================] - 0s 8ms/step - loss: 0.3014 - accuracy: 0.9455 - val_loss: 0.3875 - val_accuracy: 0.8750\n",
            "Epoch 94/150\n",
            "7/7 [==============================] - 0s 9ms/step - loss: 0.3037 - accuracy: 0.9455 - val_loss: 0.3845 - val_accuracy: 0.8929\n",
            "Epoch 95/150\n",
            "7/7 [==============================] - 0s 9ms/step - loss: 0.2982 - accuracy: 0.9500 - val_loss: 0.3832 - val_accuracy: 0.8929\n",
            "Epoch 96/150\n",
            "7/7 [==============================] - 0s 8ms/step - loss: 0.3018 - accuracy: 0.9455 - val_loss: 0.3825 - val_accuracy: 0.8750\n",
            "Epoch 97/150\n",
            "7/7 [==============================] - 0s 9ms/step - loss: 0.3006 - accuracy: 0.9455 - val_loss: 0.3806 - val_accuracy: 0.8750\n",
            "Epoch 98/150\n",
            "7/7 [==============================] - 0s 10ms/step - loss: 0.2955 - accuracy: 0.9455 - val_loss: 0.3798 - val_accuracy: 0.8750\n",
            "Epoch 99/150\n",
            "7/7 [==============================] - 0s 9ms/step - loss: 0.3013 - accuracy: 0.9500 - val_loss: 0.3754 - val_accuracy: 0.8929\n",
            "Epoch 100/150\n",
            "7/7 [==============================] - 0s 7ms/step - loss: 0.2938 - accuracy: 0.9500 - val_loss: 0.3747 - val_accuracy: 0.8750\n",
            "Epoch 101/150\n",
            "7/7 [==============================] - 0s 8ms/step - loss: 0.2961 - accuracy: 0.9500 - val_loss: 0.3742 - val_accuracy: 0.8750\n",
            "Epoch 102/150\n",
            "7/7 [==============================] - 0s 11ms/step - loss: 0.2908 - accuracy: 0.9500 - val_loss: 0.3733 - val_accuracy: 0.8750\n",
            "Epoch 103/150\n",
            "7/7 [==============================] - 0s 9ms/step - loss: 0.2868 - accuracy: 0.9500 - val_loss: 0.3723 - val_accuracy: 0.8750\n",
            "Epoch 104/150\n",
            "7/7 [==============================] - 0s 12ms/step - loss: 0.2894 - accuracy: 0.9500 - val_loss: 0.3708 - val_accuracy: 0.8750\n",
            "Epoch 105/150\n",
            "7/7 [==============================] - 0s 8ms/step - loss: 0.2895 - accuracy: 0.9500 - val_loss: 0.3695 - val_accuracy: 0.8750\n",
            "Epoch 106/150\n",
            "7/7 [==============================] - 0s 11ms/step - loss: 0.2863 - accuracy: 0.9500 - val_loss: 0.3696 - val_accuracy: 0.8750\n",
            "Epoch 107/150\n",
            "7/7 [==============================] - 0s 11ms/step - loss: 0.2849 - accuracy: 0.9500 - val_loss: 0.3687 - val_accuracy: 0.8750\n",
            "Epoch 108/150\n",
            "7/7 [==============================] - 0s 9ms/step - loss: 0.2806 - accuracy: 0.9500 - val_loss: 0.3674 - val_accuracy: 0.8750\n",
            "Epoch 109/150\n",
            "7/7 [==============================] - 0s 9ms/step - loss: 0.2860 - accuracy: 0.9500 - val_loss: 0.3670 - val_accuracy: 0.8750\n",
            "Epoch 110/150\n",
            "7/7 [==============================] - 0s 8ms/step - loss: 0.2865 - accuracy: 0.9500 - val_loss: 0.3640 - val_accuracy: 0.8750\n",
            "Epoch 111/150\n",
            "7/7 [==============================] - 0s 11ms/step - loss: 0.2812 - accuracy: 0.9500 - val_loss: 0.3624 - val_accuracy: 0.8750\n",
            "Epoch 112/150\n",
            "7/7 [==============================] - 0s 8ms/step - loss: 0.2785 - accuracy: 0.9500 - val_loss: 0.3608 - val_accuracy: 0.8929\n",
            "Epoch 113/150\n",
            "7/7 [==============================] - 0s 8ms/step - loss: 0.2751 - accuracy: 0.9500 - val_loss: 0.3607 - val_accuracy: 0.8929\n",
            "Epoch 114/150\n",
            "7/7 [==============================] - 0s 8ms/step - loss: 0.2766 - accuracy: 0.9500 - val_loss: 0.3597 - val_accuracy: 0.8929\n",
            "Epoch 115/150\n",
            "7/7 [==============================] - 0s 12ms/step - loss: 0.2809 - accuracy: 0.9500 - val_loss: 0.3593 - val_accuracy: 0.8929\n",
            "Epoch 116/150\n",
            "7/7 [==============================] - 0s 9ms/step - loss: 0.2775 - accuracy: 0.9500 - val_loss: 0.3567 - val_accuracy: 0.8929\n",
            "Epoch 117/150\n",
            "7/7 [==============================] - 0s 11ms/step - loss: 0.2742 - accuracy: 0.9500 - val_loss: 0.3557 - val_accuracy: 0.8929\n",
            "Epoch 118/150\n",
            "7/7 [==============================] - 0s 9ms/step - loss: 0.2735 - accuracy: 0.9500 - val_loss: 0.3553 - val_accuracy: 0.8929\n",
            "Epoch 119/150\n",
            "7/7 [==============================] - 0s 8ms/step - loss: 0.2776 - accuracy: 0.9500 - val_loss: 0.3552 - val_accuracy: 0.8929\n",
            "Epoch 120/150\n",
            "7/7 [==============================] - 0s 7ms/step - loss: 0.2744 - accuracy: 0.9545 - val_loss: 0.3546 - val_accuracy: 0.8929\n",
            "Epoch 121/150\n",
            "7/7 [==============================] - 0s 8ms/step - loss: 0.2682 - accuracy: 0.9500 - val_loss: 0.3533 - val_accuracy: 0.8929\n",
            "Epoch 122/150\n",
            "7/7 [==============================] - 0s 8ms/step - loss: 0.2771 - accuracy: 0.9500 - val_loss: 0.3522 - val_accuracy: 0.8929\n",
            "Epoch 123/150\n",
            "7/7 [==============================] - 0s 8ms/step - loss: 0.2728 - accuracy: 0.9455 - val_loss: 0.3503 - val_accuracy: 0.8929\n",
            "Epoch 124/150\n",
            "7/7 [==============================] - 0s 8ms/step - loss: 0.2720 - accuracy: 0.9455 - val_loss: 0.3509 - val_accuracy: 0.8929\n",
            "Epoch 125/150\n",
            "7/7 [==============================] - 0s 8ms/step - loss: 0.2703 - accuracy: 0.9455 - val_loss: 0.3498 - val_accuracy: 0.8929\n",
            "Epoch 126/150\n",
            "7/7 [==============================] - 0s 8ms/step - loss: 0.2717 - accuracy: 0.9500 - val_loss: 0.3482 - val_accuracy: 0.8929\n",
            "Epoch 127/150\n",
            "7/7 [==============================] - 0s 9ms/step - loss: 0.2692 - accuracy: 0.9500 - val_loss: 0.3486 - val_accuracy: 0.8929\n",
            "Epoch 128/150\n",
            "7/7 [==============================] - 0s 8ms/step - loss: 0.2662 - accuracy: 0.9409 - val_loss: 0.3481 - val_accuracy: 0.8929\n",
            "Epoch 129/150\n",
            "7/7 [==============================] - 0s 8ms/step - loss: 0.2669 - accuracy: 0.9455 - val_loss: 0.3503 - val_accuracy: 0.8750\n",
            "Epoch 130/150\n",
            "7/7 [==============================] - 0s 7ms/step - loss: 0.2658 - accuracy: 0.9500 - val_loss: 0.3494 - val_accuracy: 0.8929\n",
            "Epoch 131/150\n",
            "7/7 [==============================] - 0s 9ms/step - loss: 0.2634 - accuracy: 0.9500 - val_loss: 0.3493 - val_accuracy: 0.8929\n",
            "Epoch 132/150\n",
            "7/7 [==============================] - 0s 8ms/step - loss: 0.2654 - accuracy: 0.9545 - val_loss: 0.3505 - val_accuracy: 0.8750\n",
            "Epoch 133/150\n",
            "7/7 [==============================] - 0s 8ms/step - loss: 0.2651 - accuracy: 0.9455 - val_loss: 0.3494 - val_accuracy: 0.8750\n",
            "Epoch 134/150\n",
            "7/7 [==============================] - 0s 8ms/step - loss: 0.2657 - accuracy: 0.9500 - val_loss: 0.3472 - val_accuracy: 0.8929\n",
            "Epoch 135/150\n",
            "7/7 [==============================] - 0s 8ms/step - loss: 0.2699 - accuracy: 0.9500 - val_loss: 0.3452 - val_accuracy: 0.8750\n",
            "Epoch 136/150\n",
            "7/7 [==============================] - 0s 9ms/step - loss: 0.2620 - accuracy: 0.9545 - val_loss: 0.3441 - val_accuracy: 0.8929\n",
            "Epoch 137/150\n",
            "7/7 [==============================] - 0s 8ms/step - loss: 0.2647 - accuracy: 0.9500 - val_loss: 0.3431 - val_accuracy: 0.8929\n",
            "Epoch 138/150\n",
            "7/7 [==============================] - 0s 9ms/step - loss: 0.2628 - accuracy: 0.9500 - val_loss: 0.3417 - val_accuracy: 0.8929\n",
            "Epoch 139/150\n",
            "7/7 [==============================] - 0s 9ms/step - loss: 0.2601 - accuracy: 0.9591 - val_loss: 0.3432 - val_accuracy: 0.8929\n",
            "Epoch 140/150\n",
            "7/7 [==============================] - 0s 8ms/step - loss: 0.2602 - accuracy: 0.9545 - val_loss: 0.3445 - val_accuracy: 0.8929\n",
            "Epoch 141/150\n",
            "7/7 [==============================] - 0s 8ms/step - loss: 0.2582 - accuracy: 0.9500 - val_loss: 0.3434 - val_accuracy: 0.8929\n",
            "Epoch 142/150\n",
            "7/7 [==============================] - 0s 11ms/step - loss: 0.2606 - accuracy: 0.9455 - val_loss: 0.3404 - val_accuracy: 0.8929\n",
            "Epoch 143/150\n",
            "7/7 [==============================] - 0s 9ms/step - loss: 0.2599 - accuracy: 0.9409 - val_loss: 0.3389 - val_accuracy: 0.8929\n",
            "Epoch 144/150\n",
            "7/7 [==============================] - 0s 12ms/step - loss: 0.2554 - accuracy: 0.9500 - val_loss: 0.3405 - val_accuracy: 0.8750\n",
            "Epoch 145/150\n",
            "7/7 [==============================] - 0s 12ms/step - loss: 0.2598 - accuracy: 0.9500 - val_loss: 0.3403 - val_accuracy: 0.8929\n",
            "Epoch 146/150\n",
            "7/7 [==============================] - 0s 13ms/step - loss: 0.2576 - accuracy: 0.9500 - val_loss: 0.3395 - val_accuracy: 0.8929\n",
            "Epoch 147/150\n",
            "7/7 [==============================] - 0s 15ms/step - loss: 0.2599 - accuracy: 0.9500 - val_loss: 0.3383 - val_accuracy: 0.8750\n",
            "Epoch 148/150\n",
            "7/7 [==============================] - 0s 12ms/step - loss: 0.2567 - accuracy: 0.9455 - val_loss: 0.3374 - val_accuracy: 0.8929\n",
            "Epoch 149/150\n",
            "7/7 [==============================] - 0s 11ms/step - loss: 0.2582 - accuracy: 0.9455 - val_loss: 0.3377 - val_accuracy: 0.8929\n",
            "Epoch 150/150\n",
            "7/7 [==============================] - 0s 14ms/step - loss: 0.2525 - accuracy: 0.9500 - val_loss: 0.3387 - val_accuracy: 0.8750\n"
          ]
        }
      ]
    },
    {
      "cell_type": "code",
      "source": [
        "pd.DataFrame(history.history)"
      ],
      "metadata": {
        "colab": {
          "base_uri": "https://localhost:8080/",
          "height": 423
        },
        "id": "k_joOfckrrIn",
        "outputId": "2de43a78-37e4-44e9-94a9-e19063f701d1"
      },
      "execution_count": 49,
      "outputs": [
        {
          "output_type": "execute_result",
          "data": {
            "text/plain": [
              "         loss  accuracy  val_loss  val_accuracy\n",
              "0    4.459685  0.540909  4.303969      0.785714\n",
              "1    4.141340  0.868182  4.050296      0.785714\n",
              "2    3.863278  0.881818  3.826359      0.785714\n",
              "3    3.617760  0.881818  3.635788      0.785714\n",
              "4    3.398521  0.881818  3.447460      0.785714\n",
              "..        ...       ...       ...           ...\n",
              "145  0.257612  0.950000  0.339522      0.892857\n",
              "146  0.259945  0.950000  0.338274      0.875000\n",
              "147  0.256700  0.945455  0.337353      0.892857\n",
              "148  0.258195  0.945455  0.337670      0.892857\n",
              "149  0.252463  0.950000  0.338689      0.875000\n",
              "\n",
              "[150 rows x 4 columns]"
            ],
            "text/html": [
              "\n",
              "  <div id=\"df-c4330162-fed4-4d8b-b6b7-822968fc987a\">\n",
              "    <div class=\"colab-df-container\">\n",
              "      <div>\n",
              "<style scoped>\n",
              "    .dataframe tbody tr th:only-of-type {\n",
              "        vertical-align: middle;\n",
              "    }\n",
              "\n",
              "    .dataframe tbody tr th {\n",
              "        vertical-align: top;\n",
              "    }\n",
              "\n",
              "    .dataframe thead th {\n",
              "        text-align: right;\n",
              "    }\n",
              "</style>\n",
              "<table border=\"1\" class=\"dataframe\">\n",
              "  <thead>\n",
              "    <tr style=\"text-align: right;\">\n",
              "      <th></th>\n",
              "      <th>loss</th>\n",
              "      <th>accuracy</th>\n",
              "      <th>val_loss</th>\n",
              "      <th>val_accuracy</th>\n",
              "    </tr>\n",
              "  </thead>\n",
              "  <tbody>\n",
              "    <tr>\n",
              "      <th>0</th>\n",
              "      <td>4.459685</td>\n",
              "      <td>0.540909</td>\n",
              "      <td>4.303969</td>\n",
              "      <td>0.785714</td>\n",
              "    </tr>\n",
              "    <tr>\n",
              "      <th>1</th>\n",
              "      <td>4.141340</td>\n",
              "      <td>0.868182</td>\n",
              "      <td>4.050296</td>\n",
              "      <td>0.785714</td>\n",
              "    </tr>\n",
              "    <tr>\n",
              "      <th>2</th>\n",
              "      <td>3.863278</td>\n",
              "      <td>0.881818</td>\n",
              "      <td>3.826359</td>\n",
              "      <td>0.785714</td>\n",
              "    </tr>\n",
              "    <tr>\n",
              "      <th>3</th>\n",
              "      <td>3.617760</td>\n",
              "      <td>0.881818</td>\n",
              "      <td>3.635788</td>\n",
              "      <td>0.785714</td>\n",
              "    </tr>\n",
              "    <tr>\n",
              "      <th>4</th>\n",
              "      <td>3.398521</td>\n",
              "      <td>0.881818</td>\n",
              "      <td>3.447460</td>\n",
              "      <td>0.785714</td>\n",
              "    </tr>\n",
              "    <tr>\n",
              "      <th>...</th>\n",
              "      <td>...</td>\n",
              "      <td>...</td>\n",
              "      <td>...</td>\n",
              "      <td>...</td>\n",
              "    </tr>\n",
              "    <tr>\n",
              "      <th>145</th>\n",
              "      <td>0.257612</td>\n",
              "      <td>0.950000</td>\n",
              "      <td>0.339522</td>\n",
              "      <td>0.892857</td>\n",
              "    </tr>\n",
              "    <tr>\n",
              "      <th>146</th>\n",
              "      <td>0.259945</td>\n",
              "      <td>0.950000</td>\n",
              "      <td>0.338274</td>\n",
              "      <td>0.875000</td>\n",
              "    </tr>\n",
              "    <tr>\n",
              "      <th>147</th>\n",
              "      <td>0.256700</td>\n",
              "      <td>0.945455</td>\n",
              "      <td>0.337353</td>\n",
              "      <td>0.892857</td>\n",
              "    </tr>\n",
              "    <tr>\n",
              "      <th>148</th>\n",
              "      <td>0.258195</td>\n",
              "      <td>0.945455</td>\n",
              "      <td>0.337670</td>\n",
              "      <td>0.892857</td>\n",
              "    </tr>\n",
              "    <tr>\n",
              "      <th>149</th>\n",
              "      <td>0.252463</td>\n",
              "      <td>0.950000</td>\n",
              "      <td>0.338689</td>\n",
              "      <td>0.875000</td>\n",
              "    </tr>\n",
              "  </tbody>\n",
              "</table>\n",
              "<p>150 rows × 4 columns</p>\n",
              "</div>\n",
              "      <button class=\"colab-df-convert\" onclick=\"convertToInteractive('df-c4330162-fed4-4d8b-b6b7-822968fc987a')\"\n",
              "              title=\"Convert this dataframe to an interactive table.\"\n",
              "              style=\"display:none;\">\n",
              "        \n",
              "  <svg xmlns=\"http://www.w3.org/2000/svg\" height=\"24px\"viewBox=\"0 0 24 24\"\n",
              "       width=\"24px\">\n",
              "    <path d=\"M0 0h24v24H0V0z\" fill=\"none\"/>\n",
              "    <path d=\"M18.56 5.44l.94 2.06.94-2.06 2.06-.94-2.06-.94-.94-2.06-.94 2.06-2.06.94zm-11 1L8.5 8.5l.94-2.06 2.06-.94-2.06-.94L8.5 2.5l-.94 2.06-2.06.94zm10 10l.94 2.06.94-2.06 2.06-.94-2.06-.94-.94-2.06-.94 2.06-2.06.94z\"/><path d=\"M17.41 7.96l-1.37-1.37c-.4-.4-.92-.59-1.43-.59-.52 0-1.04.2-1.43.59L10.3 9.45l-7.72 7.72c-.78.78-.78 2.05 0 2.83L4 21.41c.39.39.9.59 1.41.59.51 0 1.02-.2 1.41-.59l7.78-7.78 2.81-2.81c.8-.78.8-2.07 0-2.86zM5.41 20L4 18.59l7.72-7.72 1.47 1.35L5.41 20z\"/>\n",
              "  </svg>\n",
              "      </button>\n",
              "      \n",
              "  <style>\n",
              "    .colab-df-container {\n",
              "      display:flex;\n",
              "      flex-wrap:wrap;\n",
              "      gap: 12px;\n",
              "    }\n",
              "\n",
              "    .colab-df-convert {\n",
              "      background-color: #E8F0FE;\n",
              "      border: none;\n",
              "      border-radius: 50%;\n",
              "      cursor: pointer;\n",
              "      display: none;\n",
              "      fill: #1967D2;\n",
              "      height: 32px;\n",
              "      padding: 0 0 0 0;\n",
              "      width: 32px;\n",
              "    }\n",
              "\n",
              "    .colab-df-convert:hover {\n",
              "      background-color: #E2EBFA;\n",
              "      box-shadow: 0px 1px 2px rgba(60, 64, 67, 0.3), 0px 1px 3px 1px rgba(60, 64, 67, 0.15);\n",
              "      fill: #174EA6;\n",
              "    }\n",
              "\n",
              "    [theme=dark] .colab-df-convert {\n",
              "      background-color: #3B4455;\n",
              "      fill: #D2E3FC;\n",
              "    }\n",
              "\n",
              "    [theme=dark] .colab-df-convert:hover {\n",
              "      background-color: #434B5C;\n",
              "      box-shadow: 0px 1px 3px 1px rgba(0, 0, 0, 0.15);\n",
              "      filter: drop-shadow(0px 1px 2px rgba(0, 0, 0, 0.3));\n",
              "      fill: #FFFFFF;\n",
              "    }\n",
              "  </style>\n",
              "\n",
              "      <script>\n",
              "        const buttonEl =\n",
              "          document.querySelector('#df-c4330162-fed4-4d8b-b6b7-822968fc987a button.colab-df-convert');\n",
              "        buttonEl.style.display =\n",
              "          google.colab.kernel.accessAllowed ? 'block' : 'none';\n",
              "\n",
              "        async function convertToInteractive(key) {\n",
              "          const element = document.querySelector('#df-c4330162-fed4-4d8b-b6b7-822968fc987a');\n",
              "          const dataTable =\n",
              "            await google.colab.kernel.invokeFunction('convertToInteractive',\n",
              "                                                     [key], {});\n",
              "          if (!dataTable) return;\n",
              "\n",
              "          const docLinkHtml = 'Like what you see? Visit the ' +\n",
              "            '<a target=\"_blank\" href=https://colab.research.google.com/notebooks/data_table.ipynb>data table notebook</a>'\n",
              "            + ' to learn more about interactive tables.';\n",
              "          element.innerHTML = '';\n",
              "          dataTable['output_type'] = 'display_data';\n",
              "          await google.colab.output.renderOutput(dataTable, element);\n",
              "          const docLink = document.createElement('div');\n",
              "          docLink.innerHTML = docLinkHtml;\n",
              "          element.appendChild(docLink);\n",
              "        }\n",
              "      </script>\n",
              "    </div>\n",
              "  </div>\n",
              "  "
            ]
          },
          "metadata": {},
          "execution_count": 49
        }
      ]
    },
    {
      "cell_type": "code",
      "source": [
        "acc = history.history['accuracy']\n",
        "val_acc= history.history['val_accuracy']\n",
        "loss= history.history['loss']\n",
        "val_loss= history.history['val_loss']\n",
        "\n",
        "epochs = range(len(acc))\n",
        "\n",
        "plt.figure(figsize=(20,12))\n",
        "plt.subplot(2,1,1)\n",
        "plt.plot(epochs, acc, \"red\", label='Training Accuracy')\n",
        "plt.plot(epochs, val_acc, \"blue\", label='Valdiation Accuracy')\n",
        "plt.title(\"Training and Validation Accuracy\")\n",
        "plt.legend()\n",
        "\n",
        "plt.subplot(2,1,2)\n",
        "plt.plot(epochs, loss, \"red\", label='Training Loss')\n",
        "plt.plot(epochs, val_loss, \"blue\", label='Validation Loss')\n",
        "plt.title('Training and Validation Loss')\n",
        "plt.legend()\n",
        "plt.show()"
      ],
      "metadata": {
        "colab": {
          "base_uri": "https://localhost:8080/",
          "height": 478
        },
        "id": "asy7wTmlq4YM",
        "outputId": "43fbdb3a-33f6-4ae6-d95a-65a25e456baf"
      },
      "execution_count": 50,
      "outputs": [
        {
          "output_type": "display_data",
          "data": {
            "text/plain": [
              "<Figure size 1440x864 with 2 Axes>"
            ],
            "image/png": "[encoded data removed]"
          },
          "metadata": {}
        }
      ]
    }
  ]
}