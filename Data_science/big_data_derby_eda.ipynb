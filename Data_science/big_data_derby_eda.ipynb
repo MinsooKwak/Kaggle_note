{
  "nbformat": 4,
  "nbformat_minor": 0,
  "metadata": {
    "colab": {
      "provenance": [],
      "authorship_tag": "ABX9TyOn5qD7AV3+VroFoELI7CGE",
      "include_colab_link": true
    },
    "kernelspec": {
      "name": "python3",
      "display_name": "Python 3"
    },
    "language_info": {
      "name": "python"
    }
  },
  "cells": [
    {
      "cell_type": "markdown",
      "metadata": {
        "id": "view-in-github",
        "colab_type": "text"
      },
      "source": [
        "<a href=\"https://colab.research.google.com/github/MinsooKwak/Kaggle_note/blob/main/Data_science/big_data_derby_eda.ipynb\" target=\"_parent\"><img src=\"https://colab.research.google.com/assets/colab-badge.svg\" alt=\"Open In Colab\"/></a>"
      ]
    },
    {
      "cell_type": "markdown",
      "source": [
        "참고: https://www.kaggle.com/code/mattop/big-data-derby-2022-eda"
      ],
      "metadata": {
        "id": "MccPuNB0hMx7"
      }
    },
    {
      "cell_type": "code",
      "execution_count": 1,
      "metadata": {
        "id": "SqJCLYVqhDLk",
        "outputId": "cf17e95a-a980-4b3c-8343-b91a69a71745",
        "colab": {
          "base_uri": "https://localhost:8080/"
        }
      },
      "outputs": [
        {
          "output_type": "stream",
          "name": "stdout",
          "text": [
            "Drive already mounted at /content/drive; to attempt to forcibly remount, call drive.mount(\"/content/drive\", force_remount=True).\n"
          ]
        }
      ],
      "source": [
        "from google.colab import drive\n",
        "drive.mount('/content/drive')"
      ]
    },
    {
      "cell_type": "code",
      "source": [
        "import warnings\n",
        "warnings.filterwarnings('ignore')"
      ],
      "metadata": {
        "id": "Xz3CbnCEhX9v"
      },
      "execution_count": 2,
      "outputs": []
    },
    {
      "cell_type": "code",
      "source": [
        "import pandas as pd\n",
        "import numpy as np\n",
        "import matplotlib.pyplot as plt\n",
        "import seaborn as sns\n",
        "import plotly.express as px         # graphing\n",
        "from plotly.subplots import make_subplots\n",
        "import plotly.figure_factory as ff  # plotly.js에 아직 포함되지 않은 wrapper function을 포함하고 있는 모듈\n",
        "import missingno as msno            # describe data\n",
        "import os\n",
        "\n",
        "# plotly를 이용해서 오프라인으로 그릴 떄 2가지의 모듈이 필요함\n",
        "  # 1) plotly.offline.plot\n",
        "  # 2) plotly.graph_objs\n",
        "  ## init_notebook_mode() : 주피터 노트북 모드 킴\n",
        "  ## iplot 사용하여 그래프 그림\n",
        "  #### plotly의 2가지 문법 1) graph_objs 2) express 문법\n",
        "\n",
        "from plotly.offline import plot, iplot, init_notebook_mode\n",
        "import plotly.graph_objs as go\n",
        "init_notebook_mode(connected=True)"
      ],
      "metadata": {
        "id": "FrUzZR8_hZcd",
        "outputId": "b3a018e6-4cbf-484b-8592-2b0c3a0cf65a",
        "colab": {
          "base_uri": "https://localhost:8080/",
          "height": 17
        }
      },
      "execution_count": 3,
      "outputs": [
        {
          "output_type": "display_data",
          "data": {
            "text/html": [
              "        <script type=\"text/javascript\">\n",
              "        window.PlotlyConfig = {MathJaxConfig: 'local'};\n",
              "        if (window.MathJax) {MathJax.Hub.Config({SVG: {font: \"STIX-Web\"}});}\n",
              "        if (typeof require !== 'undefined') {\n",
              "        require.undef(\"plotly\");\n",
              "        requirejs.config({\n",
              "            paths: {\n",
              "                'plotly': ['https://cdn.plot.ly/plotly-2.8.3.min']\n",
              "            }\n",
              "        });\n",
              "        require(['plotly'], function(Plotly) {\n",
              "            window._Plotly = Plotly;\n",
              "        });\n",
              "        }\n",
              "        </script>\n",
              "        "
            ]
          },
          "metadata": {}
        }
      ]
    },
    {
      "cell_type": "code",
      "source": [
        "# matplotlib.pylab rcParams를 이용하여 그림(figure)의 기본 설정을 지정할 수 있음\n",
        "plt.rcParams[\"figure.figsize\"]= (12,8)"
      ],
      "metadata": {
        "id": "NtKJnlcwPg0B"
      },
      "execution_count": 4,
      "outputs": []
    },
    {
      "cell_type": "markdown",
      "source": [
        "추가 rcParams 관련 : https://mirandaherr.tistory.com/18"
      ],
      "metadata": {
        "id": "1ZiwTLr4NLAS"
      }
    },
    {
      "cell_type": "code",
      "source": [
        "# os.walk() 사용\n",
        "for dirname, _ , filenames in os.walk('/content/drive/MyDrive/kaggle/big_data_derby_2022'):\n",
        "  # dirname: root\n",
        "  # _ : root 안에 있는 폴더들\n",
        "  # filenames : root 아래 있는 파일들\n",
        "  for filename in filenames:\n",
        "    print(os.path.join(dirname, filename))"
      ],
      "metadata": {
        "id": "axP9Q0UuPkLp",
        "outputId": "218ff6df-18de-4aa7-c2f8-6efc392d9bf7",
        "colab": {
          "base_uri": "https://localhost:8080/"
        }
      },
      "execution_count": 5,
      "outputs": [
        {
          "output_type": "stream",
          "name": "stdout",
          "text": [
            "/content/drive/MyDrive/kaggle/big_data_derby_2022/nyra_2019_complete.csv\n",
            "/content/drive/MyDrive/kaggle/big_data_derby_2022/nyra_start_table.csv\n",
            "/content/drive/MyDrive/kaggle/big_data_derby_2022/nyra_race_table.csv\n",
            "/content/drive/MyDrive/kaggle/big_data_derby_2022/nyra_tracking_table.csv\n"
          ]
        }
      ]
    },
    {
      "cell_type": "markdown",
      "source": [
        "os.walk() 설명\n",
        "\n",
        "어떤 경로의 모든 하위 폴더와 파일을 탐색하고 싶을 때 2개의 API를 사용하여 작업을 처리할 수 있음\n",
        "\n",
        "- os.listdir() : 인자로 전달된 dir의 모든 파일을 출력해줌\n",
        "- os.walk() : 하위의 폴더들을 for문으로 탐색할 수 있음\n",
        "  \n",
        "    - 인자로 전달된 path에 대해 다음 3개의 값이 있는 tuple을 넘겨줌\n",
        "      - root : dir와 files가 있는 path\n",
        "      - dirs : roots 아래 있는 폴더들\n",
        "      - files : root 아래 있는 파일들\n",
        "\n",
        "\n",
        "os.walk() 사용법 : https://codechacha.com/ko/python-walk-files/\n"
      ],
      "metadata": {
        "id": "6Y3lXUrvNiSG"
      }
    },
    {
      "cell_type": "code",
      "source": [
        "colors= [\"#FFFFFF\", \"#6CD4FF\", \"#F7DF00\", \"#E60000\"]\n",
        "sns.palplot(sns.color_palette(colors))"
      ],
      "metadata": {
        "id": "v7l8SIJziQir",
        "outputId": "7471b980-4047-4dd7-d711-60723bba9279",
        "colab": {
          "base_uri": "https://localhost:8080/",
          "height": 89
        }
      },
      "execution_count": 6,
      "outputs": [
        {
          "output_type": "display_data",
          "data": {
            "text/plain": [
              "<Figure size 288x72 with 1 Axes>"
            ],
            "image/png": "[encoded data removed]"
          },
          "metadata": {
            "needs_background": "light"
          }
        }
      ]
    },
    {
      "cell_type": "markdown",
      "source": [
        "# dataset 설명"
      ],
      "metadata": {
        "id": "I7NloG9GiYAU"
      }
    },
    {
      "cell_type": "code",
      "source": [
        "start_df = pd.read_csv('/content/drive/MyDrive/kaggle/big_data_derby_2022/nyra_start_table.csv')\n",
        "race_df = pd.read_csv('/content/drive/MyDrive/kaggle/big_data_derby_2022/nyra_race_table.csv')\n",
        "tracking_df = pd.read_csv('/content/drive/MyDrive/kaggle/big_data_derby_2022/nyra_tracking_table.csv')\n",
        "nyra_2019 = pd.read_csv('/content/drive/MyDrive/kaggle/big_data_derby_2022/nyra_2019_complete.csv',\n",
        "                        names=['track_id','race_date','race_number','program_number','trakus_index',\n",
        "                   'latitude','longtitude','distance_id','course_type','track_condition',\n",
        "                   'run_up_distance','race_type','purse','post_time','weight_carried',\n",
        "                   'jockey','odds','delete'])"
      ],
      "metadata": {
        "id": "Tc8vRDe-iT8a"
      },
      "execution_count": 7,
      "outputs": []
    },
    {
      "cell_type": "markdown",
      "source": [
        "### dataset 살펴보기"
      ],
      "metadata": {
        "id": "O5MYQdLcUz_r"
      }
    },
    {
      "cell_type": "code",
      "source": [
        "nyra_2019= nyra_2019.drop('delete',axis=1)  # 마지막 열은 기존 예시에 없었으므로 제거\n",
        "nyra_2019.head(3)"
      ],
      "metadata": {
        "id": "7K02c5tPWArB",
        "outputId": "8e90e915-fa78-4109-eb9f-49a6ce62adb0",
        "colab": {
          "base_uri": "https://localhost:8080/",
          "height": 311
        }
      },
      "execution_count": 8,
      "outputs": [
        {
          "output_type": "execute_result",
          "data": {
            "text/plain": [
              "  track_id   race_date  race_number program_number  trakus_index   latitude  \\\n",
              "0      AQU  2019-01-01            9            6              72  40.672902   \n",
              "1      AQU  2019-01-01            9            6              73  40.672946   \n",
              "2      AQU  2019-01-01            9            6              74  40.672990   \n",
              "\n",
              "   longtitude  distance_id course_type track_condition  run_up_distance  \\\n",
              "0  -73.827607          600           D             GD                48   \n",
              "1  -73.827587          600           D             GD                48   \n",
              "2  -73.827568          600           D             GD                48   \n",
              "\n",
              "  race_type    purse  post_time  weight_carried                   jockey  odds  \n",
              "0       CLM  25000.0        420             120  Andre Shivnarine Worrie  2090  \n",
              "1       CLM  25000.0        420             120  Andre Shivnarine Worrie  2090  \n",
              "2       CLM  25000.0        420             120  Andre Shivnarine Worrie  2090  "
            ],
            "text/html": [
              "\n",
              "  <div id=\"df-17634da5-f1e4-4bdc-9fcb-4f7af4816130\">\n",
              "    <div class=\"colab-df-container\">\n",
              "      <div>\n",
              "<style scoped>\n",
              "    .dataframe tbody tr th:only-of-type {\n",
              "        vertical-align: middle;\n",
              "    }\n",
              "\n",
              "    .dataframe tbody tr th {\n",
              "        vertical-align: top;\n",
              "    }\n",
              "\n",
              "    .dataframe thead th {\n",
              "        text-align: right;\n",
              "    }\n",
              "</style>\n",
              "<table border=\"1\" class=\"dataframe\">\n",
              "  <thead>\n",
              "    <tr style=\"text-align: right;\">\n",
              "      <th></th>\n",
              "      <th>track_id</th>\n",
              "      <th>race_date</th>\n",
              "      <th>race_number</th>\n",
              "      <th>program_number</th>\n",
              "      <th>trakus_index</th>\n",
              "      <th>latitude</th>\n",
              "      <th>longtitude</th>\n",
              "      <th>distance_id</th>\n",
              "      <th>course_type</th>\n",
              "      <th>track_condition</th>\n",
              "      <th>run_up_distance</th>\n",
              "      <th>race_type</th>\n",
              "      <th>purse</th>\n",
              "      <th>post_time</th>\n",
              "      <th>weight_carried</th>\n",
              "      <th>jockey</th>\n",
              "      <th>odds</th>\n",
              "    </tr>\n",
              "  </thead>\n",
              "  <tbody>\n",
              "    <tr>\n",
              "      <th>0</th>\n",
              "      <td>AQU</td>\n",
              "      <td>2019-01-01</td>\n",
              "      <td>9</td>\n",
              "      <td>6</td>\n",
              "      <td>72</td>\n",
              "      <td>40.672902</td>\n",
              "      <td>-73.827607</td>\n",
              "      <td>600</td>\n",
              "      <td>D</td>\n",
              "      <td>GD</td>\n",
              "      <td>48</td>\n",
              "      <td>CLM</td>\n",
              "      <td>25000.0</td>\n",
              "      <td>420</td>\n",
              "      <td>120</td>\n",
              "      <td>Andre Shivnarine Worrie</td>\n",
              "      <td>2090</td>\n",
              "    </tr>\n",
              "    <tr>\n",
              "      <th>1</th>\n",
              "      <td>AQU</td>\n",
              "      <td>2019-01-01</td>\n",
              "      <td>9</td>\n",
              "      <td>6</td>\n",
              "      <td>73</td>\n",
              "      <td>40.672946</td>\n",
              "      <td>-73.827587</td>\n",
              "      <td>600</td>\n",
              "      <td>D</td>\n",
              "      <td>GD</td>\n",
              "      <td>48</td>\n",
              "      <td>CLM</td>\n",
              "      <td>25000.0</td>\n",
              "      <td>420</td>\n",
              "      <td>120</td>\n",
              "      <td>Andre Shivnarine Worrie</td>\n",
              "      <td>2090</td>\n",
              "    </tr>\n",
              "    <tr>\n",
              "      <th>2</th>\n",
              "      <td>AQU</td>\n",
              "      <td>2019-01-01</td>\n",
              "      <td>9</td>\n",
              "      <td>6</td>\n",
              "      <td>74</td>\n",
              "      <td>40.672990</td>\n",
              "      <td>-73.827568</td>\n",
              "      <td>600</td>\n",
              "      <td>D</td>\n",
              "      <td>GD</td>\n",
              "      <td>48</td>\n",
              "      <td>CLM</td>\n",
              "      <td>25000.0</td>\n",
              "      <td>420</td>\n",
              "      <td>120</td>\n",
              "      <td>Andre Shivnarine Worrie</td>\n",
              "      <td>2090</td>\n",
              "    </tr>\n",
              "  </tbody>\n",
              "</table>\n",
              "</div>\n",
              "      <button class=\"colab-df-convert\" onclick=\"convertToInteractive('df-17634da5-f1e4-4bdc-9fcb-4f7af4816130')\"\n",
              "              title=\"Convert this dataframe to an interactive table.\"\n",
              "              style=\"display:none;\">\n",
              "        \n",
              "  <svg xmlns=\"http://www.w3.org/2000/svg\" height=\"24px\"viewBox=\"0 0 24 24\"\n",
              "       width=\"24px\">\n",
              "    <path d=\"M0 0h24v24H0V0z\" fill=\"none\"/>\n",
              "    <path d=\"M18.56 5.44l.94 2.06.94-2.06 2.06-.94-2.06-.94-.94-2.06-.94 2.06-2.06.94zm-11 1L8.5 8.5l.94-2.06 2.06-.94-2.06-.94L8.5 2.5l-.94 2.06-2.06.94zm10 10l.94 2.06.94-2.06 2.06-.94-2.06-.94-.94-2.06-.94 2.06-2.06.94z\"/><path d=\"M17.41 7.96l-1.37-1.37c-.4-.4-.92-.59-1.43-.59-.52 0-1.04.2-1.43.59L10.3 9.45l-7.72 7.72c-.78.78-.78 2.05 0 2.83L4 21.41c.39.39.9.59 1.41.59.51 0 1.02-.2 1.41-.59l7.78-7.78 2.81-2.81c.8-.78.8-2.07 0-2.86zM5.41 20L4 18.59l7.72-7.72 1.47 1.35L5.41 20z\"/>\n",
              "  </svg>\n",
              "      </button>\n",
              "      \n",
              "  <style>\n",
              "    .colab-df-container {\n",
              "      display:flex;\n",
              "      flex-wrap:wrap;\n",
              "      gap: 12px;\n",
              "    }\n",
              "\n",
              "    .colab-df-convert {\n",
              "      background-color: #E8F0FE;\n",
              "      border: none;\n",
              "      border-radius: 50%;\n",
              "      cursor: pointer;\n",
              "      display: none;\n",
              "      fill: #1967D2;\n",
              "      height: 32px;\n",
              "      padding: 0 0 0 0;\n",
              "      width: 32px;\n",
              "    }\n",
              "\n",
              "    .colab-df-convert:hover {\n",
              "      background-color: #E2EBFA;\n",
              "      box-shadow: 0px 1px 2px rgba(60, 64, 67, 0.3), 0px 1px 3px 1px rgba(60, 64, 67, 0.15);\n",
              "      fill: #174EA6;\n",
              "    }\n",
              "\n",
              "    [theme=dark] .colab-df-convert {\n",
              "      background-color: #3B4455;\n",
              "      fill: #D2E3FC;\n",
              "    }\n",
              "\n",
              "    [theme=dark] .colab-df-convert:hover {\n",
              "      background-color: #434B5C;\n",
              "      box-shadow: 0px 1px 3px 1px rgba(0, 0, 0, 0.15);\n",
              "      filter: drop-shadow(0px 1px 2px rgba(0, 0, 0, 0.3));\n",
              "      fill: #FFFFFF;\n",
              "    }\n",
              "  </style>\n",
              "\n",
              "      <script>\n",
              "        const buttonEl =\n",
              "          document.querySelector('#df-17634da5-f1e4-4bdc-9fcb-4f7af4816130 button.colab-df-convert');\n",
              "        buttonEl.style.display =\n",
              "          google.colab.kernel.accessAllowed ? 'block' : 'none';\n",
              "\n",
              "        async function convertToInteractive(key) {\n",
              "          const element = document.querySelector('#df-17634da5-f1e4-4bdc-9fcb-4f7af4816130');\n",
              "          const dataTable =\n",
              "            await google.colab.kernel.invokeFunction('convertToInteractive',\n",
              "                                                     [key], {});\n",
              "          if (!dataTable) return;\n",
              "\n",
              "          const docLinkHtml = 'Like what you see? Visit the ' +\n",
              "            '<a target=\"_blank\" href=https://colab.research.google.com/notebooks/data_table.ipynb>data table notebook</a>'\n",
              "            + ' to learn more about interactive tables.';\n",
              "          element.innerHTML = '';\n",
              "          dataTable['output_type'] = 'display_data';\n",
              "          await google.colab.output.renderOutput(dataTable, element);\n",
              "          const docLink = document.createElement('div');\n",
              "          docLink.innerHTML = docLinkHtml;\n",
              "          element.appendChild(docLink);\n",
              "        }\n",
              "      </script>\n",
              "    </div>\n",
              "  </div>\n",
              "  "
            ]
          },
          "metadata": {},
          "execution_count": 8
        }
      ]
    },
    {
      "cell_type": "code",
      "source": [
        "nyra_2019.describe().style.background_gradient(cmap= sns.light_palette(\"Orange\",as_cmap=True))\n",
        "# palette 안에 여러개의 색상이 포함되어 있기 때문에 as_cmap=True 를 사용해줘야함"
      ],
      "metadata": {
        "id": "dGqYr7-wiSCZ",
        "outputId": "9e217144-15be-4ea3-8873-03d06da91a46",
        "colab": {
          "base_uri": "https://localhost:8080/",
          "height": 320
        }
      },
      "execution_count": 9,
      "outputs": [
        {
          "output_type": "execute_result",
          "data": {
            "text/plain": [
              "<pandas.io.formats.style.Styler at 0x7ff0c1776e10>"
            ],
            "text/html": [
              "<style type=\"text/css\">\n",
              "#T_26a6b_row0_col0, #T_26a6b_row0_col1, #T_26a6b_row0_col2, #T_26a6b_row0_col3, #T_26a6b_row0_col4, #T_26a6b_row0_col5, #T_26a6b_row0_col6, #T_26a6b_row0_col7, #T_26a6b_row0_col8, #T_26a6b_row0_col9 {\n",
              "  background-color: #ffa500;\n",
              "  color: #000000;\n",
              "}\n",
              "#T_26a6b_row1_col0, #T_26a6b_row1_col1, #T_26a6b_row1_col2, #T_26a6b_row1_col3, #T_26a6b_row1_col4, #T_26a6b_row1_col5, #T_26a6b_row1_col7, #T_26a6b_row1_col8, #T_26a6b_row1_col9, #T_26a6b_row2_col0, #T_26a6b_row2_col1, #T_26a6b_row2_col2, #T_26a6b_row2_col3, #T_26a6b_row2_col4, #T_26a6b_row2_col5, #T_26a6b_row2_col7, #T_26a6b_row2_col8, #T_26a6b_row2_col9, #T_26a6b_row3_col0, #T_26a6b_row3_col1, #T_26a6b_row3_col2, #T_26a6b_row3_col3, #T_26a6b_row3_col4, #T_26a6b_row3_col5, #T_26a6b_row3_col6, #T_26a6b_row3_col7, #T_26a6b_row3_col8, #T_26a6b_row3_col9, #T_26a6b_row4_col0, #T_26a6b_row4_col1, #T_26a6b_row4_col2, #T_26a6b_row4_col3, #T_26a6b_row4_col4, #T_26a6b_row4_col5, #T_26a6b_row4_col7, #T_26a6b_row4_col8, #T_26a6b_row4_col9, #T_26a6b_row5_col0, #T_26a6b_row5_col1, #T_26a6b_row5_col2, #T_26a6b_row5_col3, #T_26a6b_row5_col4, #T_26a6b_row5_col5, #T_26a6b_row5_col7, #T_26a6b_row5_col8, #T_26a6b_row5_col9, #T_26a6b_row6_col0, #T_26a6b_row6_col1, #T_26a6b_row6_col2, #T_26a6b_row6_col3, #T_26a6b_row6_col4, #T_26a6b_row6_col5, #T_26a6b_row6_col7, #T_26a6b_row6_col8, #T_26a6b_row6_col9, #T_26a6b_row7_col0, #T_26a6b_row7_col1, #T_26a6b_row7_col2, #T_26a6b_row7_col3, #T_26a6b_row7_col4, #T_26a6b_row7_col5, #T_26a6b_row7_col7, #T_26a6b_row7_col8, #T_26a6b_row7_col9 {\n",
              "  background-color: #f3f0ee;\n",
              "  color: #000000;\n",
              "}\n",
              "#T_26a6b_row1_col6, #T_26a6b_row6_col6 {\n",
              "  background-color: #f3efec;\n",
              "  color: #000000;\n",
              "}\n",
              "#T_26a6b_row2_col6 {\n",
              "  background-color: #f3efea;\n",
              "  color: #000000;\n",
              "}\n",
              "#T_26a6b_row4_col6, #T_26a6b_row5_col6 {\n",
              "  background-color: #f3f0ed;\n",
              "  color: #000000;\n",
              "}\n",
              "#T_26a6b_row7_col6 {\n",
              "  background-color: #f6dbab;\n",
              "  color: #000000;\n",
              "}\n",
              "</style>\n",
              "<table id=\"T_26a6b_\" class=\"dataframe\">\n",
              "  <thead>\n",
              "    <tr>\n",
              "      <th class=\"blank level0\" >&nbsp;</th>\n",
              "      <th class=\"col_heading level0 col0\" >race_number</th>\n",
              "      <th class=\"col_heading level0 col1\" >trakus_index</th>\n",
              "      <th class=\"col_heading level0 col2\" >latitude</th>\n",
              "      <th class=\"col_heading level0 col3\" >longtitude</th>\n",
              "      <th class=\"col_heading level0 col4\" >distance_id</th>\n",
              "      <th class=\"col_heading level0 col5\" >run_up_distance</th>\n",
              "      <th class=\"col_heading level0 col6\" >purse</th>\n",
              "      <th class=\"col_heading level0 col7\" >post_time</th>\n",
              "      <th class=\"col_heading level0 col8\" >weight_carried</th>\n",
              "      <th class=\"col_heading level0 col9\" >odds</th>\n",
              "    </tr>\n",
              "  </thead>\n",
              "  <tbody>\n",
              "    <tr>\n",
              "      <th id=\"T_26a6b_level0_row0\" class=\"row_heading level0 row0\" >count</th>\n",
              "      <td id=\"T_26a6b_row0_col0\" class=\"data row0 col0\" >5228430.000000</td>\n",
              "      <td id=\"T_26a6b_row0_col1\" class=\"data row0 col1\" >5228430.000000</td>\n",
              "      <td id=\"T_26a6b_row0_col2\" class=\"data row0 col2\" >5228430.000000</td>\n",
              "      <td id=\"T_26a6b_row0_col3\" class=\"data row0 col3\" >5228430.000000</td>\n",
              "      <td id=\"T_26a6b_row0_col4\" class=\"data row0 col4\" >5228430.000000</td>\n",
              "      <td id=\"T_26a6b_row0_col5\" class=\"data row0 col5\" >5228430.000000</td>\n",
              "      <td id=\"T_26a6b_row0_col6\" class=\"data row0 col6\" >5228430.000000</td>\n",
              "      <td id=\"T_26a6b_row0_col7\" class=\"data row0 col7\" >5228430.000000</td>\n",
              "      <td id=\"T_26a6b_row0_col8\" class=\"data row0 col8\" >5228430.000000</td>\n",
              "      <td id=\"T_26a6b_row0_col9\" class=\"data row0 col9\" >5228430.000000</td>\n",
              "    </tr>\n",
              "    <tr>\n",
              "      <th id=\"T_26a6b_level0_row1\" class=\"row_heading level0 row1\" >mean</th>\n",
              "      <td id=\"T_26a6b_row1_col0\" class=\"data row1 col0\" >5.505409</td>\n",
              "      <td id=\"T_26a6b_row1_col1\" class=\"data row1 col1\" >183.865213</td>\n",
              "      <td id=\"T_26a6b_row1_col2\" class=\"data row1 col2\" >41.203867</td>\n",
              "      <td id=\"T_26a6b_row1_col3\" class=\"data row1 col3\" >-73.777024</td>\n",
              "      <td id=\"T_26a6b_row1_col4\" class=\"data row1 col4\" >756.315127</td>\n",
              "      <td id=\"T_26a6b_row1_col5\" class=\"data row1 col5\" >67.919189</td>\n",
              "      <td id=\"T_26a6b_row1_col6\" class=\"data row1 col6\" >88878.907779</td>\n",
              "      <td id=\"T_26a6b_row1_col7\" class=\"data row1 col7\" >420.424807</td>\n",
              "      <td id=\"T_26a6b_row1_col8\" class=\"data row1 col8\" >120.713291</td>\n",
              "      <td id=\"T_26a6b_row1_col9\" class=\"data row1 col9\" >1482.919877</td>\n",
              "    </tr>\n",
              "    <tr>\n",
              "      <th id=\"T_26a6b_level0_row2\" class=\"row_heading level0 row2\" >std</th>\n",
              "      <td id=\"T_26a6b_row2_col0\" class=\"data row2 col0\" >2.860656</td>\n",
              "      <td id=\"T_26a6b_row2_col1\" class=\"data row2 col1\" >118.332690</td>\n",
              "      <td id=\"T_26a6b_row2_col2\" class=\"data row2 col2\" >0.977123</td>\n",
              "      <td id=\"T_26a6b_row2_col3\" class=\"data row2 col3\" >0.047111</td>\n",
              "      <td id=\"T_26a6b_row2_col4\" class=\"data row2 col4\" >179.688689</td>\n",
              "      <td id=\"T_26a6b_row2_col5\" class=\"data row2 col5\" >38.922712</td>\n",
              "      <td id=\"T_26a6b_row2_col6\" class=\"data row2 col6\" >127824.025516</td>\n",
              "      <td id=\"T_26a6b_row2_col7\" class=\"data row2 col7\" >280.254500</td>\n",
              "      <td id=\"T_26a6b_row2_col8\" class=\"data row2 col8\" >4.351881</td>\n",
              "      <td id=\"T_26a6b_row2_col9\" class=\"data row2 col9\" >1952.415229</td>\n",
              "    </tr>\n",
              "    <tr>\n",
              "      <th id=\"T_26a6b_level0_row3\" class=\"row_heading level0 row3\" >min</th>\n",
              "      <td id=\"T_26a6b_row3_col0\" class=\"data row3 col0\" >1.000000</td>\n",
              "      <td id=\"T_26a6b_row3_col1\" class=\"data row3 col1\" >1.000000</td>\n",
              "      <td id=\"T_26a6b_row3_col2\" class=\"data row3 col2\" >40.666711</td>\n",
              "      <td id=\"T_26a6b_row3_col3\" class=\"data row3 col3\" >-73.832601</td>\n",
              "      <td id=\"T_26a6b_row3_col4\" class=\"data row3 col4\" >450.000000</td>\n",
              "      <td id=\"T_26a6b_row3_col5\" class=\"data row3 col5\" >0.000000</td>\n",
              "      <td id=\"T_26a6b_row3_col6\" class=\"data row3 col6\" >16000.000000</td>\n",
              "      <td id=\"T_26a6b_row3_col7\" class=\"data row3 col7\" >100.000000</td>\n",
              "      <td id=\"T_26a6b_row3_col8\" class=\"data row3 col8\" >110.000000</td>\n",
              "      <td id=\"T_26a6b_row3_col9\" class=\"data row3 col9\" >0.000000</td>\n",
              "    </tr>\n",
              "    <tr>\n",
              "      <th id=\"T_26a6b_level0_row4\" class=\"row_heading level0 row4\" >25%</th>\n",
              "      <td id=\"T_26a6b_row4_col0\" class=\"data row4 col0\" >3.000000</td>\n",
              "      <td id=\"T_26a6b_row4_col1\" class=\"data row4 col1\" >88.000000</td>\n",
              "      <td id=\"T_26a6b_row4_col2\" class=\"data row4 col2\" >40.673456</td>\n",
              "      <td id=\"T_26a6b_row4_col3\" class=\"data row4 col3\" >-73.828834</td>\n",
              "      <td id=\"T_26a6b_row4_col4\" class=\"data row4 col4\" >600.000000</td>\n",
              "      <td id=\"T_26a6b_row4_col5\" class=\"data row4 col5\" >45.000000</td>\n",
              "      <td id=\"T_26a6b_row4_col6\" class=\"data row4 col6\" >41000.000000</td>\n",
              "      <td id=\"T_26a6b_row4_col7\" class=\"data row4 col7\" >233.000000</td>\n",
              "      <td id=\"T_26a6b_row4_col8\" class=\"data row4 col8\" >118.000000</td>\n",
              "      <td id=\"T_26a6b_row4_col9\" class=\"data row4 col9\" >335.000000</td>\n",
              "    </tr>\n",
              "    <tr>\n",
              "      <th id=\"T_26a6b_level0_row5\" class=\"row_heading level0 row5\" >50%</th>\n",
              "      <td id=\"T_26a6b_row5_col0\" class=\"data row5 col0\" >6.000000</td>\n",
              "      <td id=\"T_26a6b_row5_col1\" class=\"data row5 col1\" >176.000000</td>\n",
              "      <td id=\"T_26a6b_row5_col2\" class=\"data row5 col2\" >40.713934</td>\n",
              "      <td id=\"T_26a6b_row5_col3\" class=\"data row5 col3\" >-73.769148</td>\n",
              "      <td id=\"T_26a6b_row5_col4\" class=\"data row5 col4\" >800.000000</td>\n",
              "      <td id=\"T_26a6b_row5_col5\" class=\"data row5 col5\" >54.000000</td>\n",
              "      <td id=\"T_26a6b_row5_col6\" class=\"data row5 col6\" >62000.000000</td>\n",
              "      <td id=\"T_26a6b_row5_col7\" class=\"data row5 col7\" >349.000000</td>\n",
              "      <td id=\"T_26a6b_row5_col8\" class=\"data row5 col8\" >120.000000</td>\n",
              "      <td id=\"T_26a6b_row5_col9\" class=\"data row5 col9\" >730.000000</td>\n",
              "    </tr>\n",
              "    <tr>\n",
              "      <th id=\"T_26a6b_level0_row6\" class=\"row_heading level0 row6\" >75%</th>\n",
              "      <td id=\"T_26a6b_row6_col0\" class=\"data row6 col0\" >8.000000</td>\n",
              "      <td id=\"T_26a6b_row6_col1\" class=\"data row6 col1\" >264.000000</td>\n",
              "      <td id=\"T_26a6b_row6_col2\" class=\"data row6 col2\" >40.717393</td>\n",
              "      <td id=\"T_26a6b_row6_col3\" class=\"data row6 col3\" >-73.725636</td>\n",
              "      <td id=\"T_26a6b_row6_col4\" class=\"data row6 col4\" >850.000000</td>\n",
              "      <td id=\"T_26a6b_row6_col5\" class=\"data row6 col5\" >80.000000</td>\n",
              "      <td id=\"T_26a6b_row6_col6\" class=\"data row6 col6\" >80000.000000</td>\n",
              "      <td id=\"T_26a6b_row6_col7\" class=\"data row6 col7\" >516.000000</td>\n",
              "      <td id=\"T_26a6b_row6_col8\" class=\"data row6 col8\" >122.000000</td>\n",
              "      <td id=\"T_26a6b_row6_col9\" class=\"data row6 col9\" >1740.000000</td>\n",
              "    </tr>\n",
              "    <tr>\n",
              "      <th id=\"T_26a6b_level0_row7\" class=\"row_heading level0 row7\" >max</th>\n",
              "      <td id=\"T_26a6b_row7_col0\" class=\"data row7 col0\" >13.000000</td>\n",
              "      <td id=\"T_26a6b_row7_col1\" class=\"data row7 col1\" >1062.000000</td>\n",
              "      <td id=\"T_26a6b_row7_col2\" class=\"data row7 col2\" >43.073992</td>\n",
              "      <td id=\"T_26a6b_row7_col3\" class=\"data row7 col3\" >-73.714826</td>\n",
              "      <td id=\"T_26a6b_row7_col4\" class=\"data row7 col4\" >2000.000000</td>\n",
              "      <td id=\"T_26a6b_row7_col5\" class=\"data row7 col5\" >280.000000</td>\n",
              "      <td id=\"T_26a6b_row7_col6\" class=\"data row7 col6\" >1500000.000000</td>\n",
              "      <td id=\"T_26a6b_row7_col7\" class=\"data row7 col7\" >1259.000000</td>\n",
              "      <td id=\"T_26a6b_row7_col8\" class=\"data row7 col8\" >160.000000</td>\n",
              "      <td id=\"T_26a6b_row7_col9\" class=\"data row7 col9\" >19100.000000</td>\n",
              "    </tr>\n",
              "  </tbody>\n",
              "</table>\n"
            ]
          },
          "metadata": {},
          "execution_count": 9
        }
      ]
    },
    {
      "cell_type": "markdown",
      "source": [
        "### start_df 살펴보기"
      ],
      "metadata": {
        "id": "Syir-RpRjsmm"
      }
    },
    {
      "cell_type": "code",
      "source": [
        "start_df.head(3)"
      ],
      "metadata": {
        "id": "oafhsU6wjOAH",
        "outputId": "c8722214-5550-4bd3-e770-e1ca5694c5a0",
        "colab": {
          "base_uri": "https://localhost:8080/",
          "height": 143
        }
      },
      "execution_count": 10,
      "outputs": [
        {
          "output_type": "execute_result",
          "data": {
            "text/plain": [
              "   AQU  2019-01-01  1  1    123      Dylan Davis   130  2\n",
              "0  AQU  2019-01-01  1  2    120  Junior Alvarado   295  3\n",
              "1  AQU  2019-01-01  1  3    118     Jose Lezcano   180  4\n",
              "2  AQU  2019-01-01  1  4    123     Jomar Garcia  1280  5"
            ],
            "text/html": [
              "\n",
              "  <div id=\"df-6a20093f-7ddc-42af-95c1-0c8d7d7d38d8\">\n",
              "    <div class=\"colab-df-container\">\n",
              "      <div>\n",
              "<style scoped>\n",
              "    .dataframe tbody tr th:only-of-type {\n",
              "        vertical-align: middle;\n",
              "    }\n",
              "\n",
              "    .dataframe tbody tr th {\n",
              "        vertical-align: top;\n",
              "    }\n",
              "\n",
              "    .dataframe thead th {\n",
              "        text-align: right;\n",
              "    }\n",
              "</style>\n",
              "<table border=\"1\" class=\"dataframe\">\n",
              "  <thead>\n",
              "    <tr style=\"text-align: right;\">\n",
              "      <th></th>\n",
              "      <th>AQU</th>\n",
              "      <th>2019-01-01</th>\n",
              "      <th>1</th>\n",
              "      <th>1</th>\n",
              "      <th>123</th>\n",
              "      <th>Dylan Davis</th>\n",
              "      <th>130</th>\n",
              "      <th>2</th>\n",
              "    </tr>\n",
              "  </thead>\n",
              "  <tbody>\n",
              "    <tr>\n",
              "      <th>0</th>\n",
              "      <td>AQU</td>\n",
              "      <td>2019-01-01</td>\n",
              "      <td>1</td>\n",
              "      <td>2</td>\n",
              "      <td>120</td>\n",
              "      <td>Junior Alvarado</td>\n",
              "      <td>295</td>\n",
              "      <td>3</td>\n",
              "    </tr>\n",
              "    <tr>\n",
              "      <th>1</th>\n",
              "      <td>AQU</td>\n",
              "      <td>2019-01-01</td>\n",
              "      <td>1</td>\n",
              "      <td>3</td>\n",
              "      <td>118</td>\n",
              "      <td>Jose Lezcano</td>\n",
              "      <td>180</td>\n",
              "      <td>4</td>\n",
              "    </tr>\n",
              "    <tr>\n",
              "      <th>2</th>\n",
              "      <td>AQU</td>\n",
              "      <td>2019-01-01</td>\n",
              "      <td>1</td>\n",
              "      <td>4</td>\n",
              "      <td>123</td>\n",
              "      <td>Jomar Garcia</td>\n",
              "      <td>1280</td>\n",
              "      <td>5</td>\n",
              "    </tr>\n",
              "  </tbody>\n",
              "</table>\n",
              "</div>\n",
              "      <button class=\"colab-df-convert\" onclick=\"convertToInteractive('df-6a20093f-7ddc-42af-95c1-0c8d7d7d38d8')\"\n",
              "              title=\"Convert this dataframe to an interactive table.\"\n",
              "              style=\"display:none;\">\n",
              "        \n",
              "  <svg xmlns=\"http://www.w3.org/2000/svg\" height=\"24px\"viewBox=\"0 0 24 24\"\n",
              "       width=\"24px\">\n",
              "    <path d=\"M0 0h24v24H0V0z\" fill=\"none\"/>\n",
              "    <path d=\"M18.56 5.44l.94 2.06.94-2.06 2.06-.94-2.06-.94-.94-2.06-.94 2.06-2.06.94zm-11 1L8.5 8.5l.94-2.06 2.06-.94-2.06-.94L8.5 2.5l-.94 2.06-2.06.94zm10 10l.94 2.06.94-2.06 2.06-.94-2.06-.94-.94-2.06-.94 2.06-2.06.94z\"/><path d=\"M17.41 7.96l-1.37-1.37c-.4-.4-.92-.59-1.43-.59-.52 0-1.04.2-1.43.59L10.3 9.45l-7.72 7.72c-.78.78-.78 2.05 0 2.83L4 21.41c.39.39.9.59 1.41.59.51 0 1.02-.2 1.41-.59l7.78-7.78 2.81-2.81c.8-.78.8-2.07 0-2.86zM5.41 20L4 18.59l7.72-7.72 1.47 1.35L5.41 20z\"/>\n",
              "  </svg>\n",
              "      </button>\n",
              "      \n",
              "  <style>\n",
              "    .colab-df-container {\n",
              "      display:flex;\n",
              "      flex-wrap:wrap;\n",
              "      gap: 12px;\n",
              "    }\n",
              "\n",
              "    .colab-df-convert {\n",
              "      background-color: #E8F0FE;\n",
              "      border: none;\n",
              "      border-radius: 50%;\n",
              "      cursor: pointer;\n",
              "      display: none;\n",
              "      fill: #1967D2;\n",
              "      height: 32px;\n",
              "      padding: 0 0 0 0;\n",
              "      width: 32px;\n",
              "    }\n",
              "\n",
              "    .colab-df-convert:hover {\n",
              "      background-color: #E2EBFA;\n",
              "      box-shadow: 0px 1px 2px rgba(60, 64, 67, 0.3), 0px 1px 3px 1px rgba(60, 64, 67, 0.15);\n",
              "      fill: #174EA6;\n",
              "    }\n",
              "\n",
              "    [theme=dark] .colab-df-convert {\n",
              "      background-color: #3B4455;\n",
              "      fill: #D2E3FC;\n",
              "    }\n",
              "\n",
              "    [theme=dark] .colab-df-convert:hover {\n",
              "      background-color: #434B5C;\n",
              "      box-shadow: 0px 1px 3px 1px rgba(0, 0, 0, 0.15);\n",
              "      filter: drop-shadow(0px 1px 2px rgba(0, 0, 0, 0.3));\n",
              "      fill: #FFFFFF;\n",
              "    }\n",
              "  </style>\n",
              "\n",
              "      <script>\n",
              "        const buttonEl =\n",
              "          document.querySelector('#df-6a20093f-7ddc-42af-95c1-0c8d7d7d38d8 button.colab-df-convert');\n",
              "        buttonEl.style.display =\n",
              "          google.colab.kernel.accessAllowed ? 'block' : 'none';\n",
              "\n",
              "        async function convertToInteractive(key) {\n",
              "          const element = document.querySelector('#df-6a20093f-7ddc-42af-95c1-0c8d7d7d38d8');\n",
              "          const dataTable =\n",
              "            await google.colab.kernel.invokeFunction('convertToInteractive',\n",
              "                                                     [key], {});\n",
              "          if (!dataTable) return;\n",
              "\n",
              "          const docLinkHtml = 'Like what you see? Visit the ' +\n",
              "            '<a target=\"_blank\" href=https://colab.research.google.com/notebooks/data_table.ipynb>data table notebook</a>'\n",
              "            + ' to learn more about interactive tables.';\n",
              "          element.innerHTML = '';\n",
              "          dataTable['output_type'] = 'display_data';\n",
              "          await google.colab.output.renderOutput(dataTable, element);\n",
              "          const docLink = document.createElement('div');\n",
              "          docLink.innerHTML = docLinkHtml;\n",
              "          element.appendChild(docLink);\n",
              "        }\n",
              "      </script>\n",
              "    </div>\n",
              "  </div>\n",
              "  "
            ]
          },
          "metadata": {},
          "execution_count": 10
        }
      ]
    },
    {
      "cell_type": "code",
      "source": [
        "import matplotlib \n",
        "print('matplotlib: {}'.format(matplotlib.__version__))"
      ],
      "metadata": {
        "id": "KNWnK94gNyqj",
        "outputId": "d0cf8309-bb36-4b2f-f95b-5bf8679904c5",
        "colab": {
          "base_uri": "https://localhost:8080/"
        }
      },
      "execution_count": 11,
      "outputs": [
        {
          "output_type": "stream",
          "name": "stdout",
          "text": [
            "matplotlib: 3.5.3\n"
          ]
        }
      ]
    },
    {
      "cell_type": "code",
      "source": [
        "# 3.4 이하일 경우 upgrade\n",
        "#!pip install matplotlib --upgrade"
      ],
      "metadata": {
        "id": "5lLir5W8N1AG"
      },
      "execution_count": 12,
      "outputs": []
    },
    {
      "cell_type": "code",
      "source": [
        "#sns.set_stype('white', {'font.family':'NanumSquare'})\n",
        "sns.set_context('poster', font_scale=0.7, rc={'grid.linewidth':5})\n",
        "\n",
        "fig1, axes = plt.subplots(1,1,figsize=(10,6))\n",
        "ax1 = sns.barplot(x=start_df.AQU.value_counts().index, y=start_df.AQU.value_counts(), color='blue', alpha=0.6)\n",
        "ax1.set_title('start AQU counts', fontsize=20)\n",
        "ax1.set_xlabel('AQU', fontsize=12)\n",
        "ax1.set_ylabel('Counts',fontsize=12)\n",
        "\n",
        "# matplotlib 3.4 이상 contatiner 기능 사용 \n",
        "for container in ax1.containers:\n",
        "  ax1.bar_label(container, label_type='center', padding=2, size=25, color='white', rotation=0)\n",
        "\n",
        "sns.despine(left=True, bottom=True)\n",
        "plt.show()"
      ],
      "metadata": {
        "id": "9Jd-beTij5RU",
        "outputId": "2717c0ee-f8b6-4106-a18b-f1165f075fe5",
        "colab": {
          "base_uri": "https://localhost:8080/",
          "height": 426
        }
      },
      "execution_count": 13,
      "outputs": [
        {
          "output_type": "display_data",
          "data": {
            "text/plain": [
              "<Figure size 720x432 with 1 Axes>"
            ],
            "image/png": "[encoded data removed]"
          },
          "metadata": {
            "needs_background": "light"
          }
        }
      ]
    }
  ]
}