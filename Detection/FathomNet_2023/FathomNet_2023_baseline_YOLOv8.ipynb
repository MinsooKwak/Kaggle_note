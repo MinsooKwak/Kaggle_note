{
  "nbformat": 4,
  "nbformat_minor": 0,
  "metadata": {
    "colab": {
      "provenance": [],
      "authorship_tag": "ABX9TyM350EQvhfgcfvJn3cvZDlz",
      "include_colab_link": true
    },
    "kernelspec": {
      "name": "python3",
      "display_name": "Python 3"
    },
    "language_info": {
      "name": "python"
    }
  },
  "cells": [
    {
      "cell_type": "markdown",
      "metadata": {
        "id": "view-in-github",
        "colab_type": "text"
      },
      "source": [
        "<a href=\"https://colab.research.google.com/github/MinsooKwak/Kaggle_note/blob/main/Detection/FathomNet_2023/FathomNet_2023_baseline_YOLOv8.ipynb\" target=\"_parent\"><img src=\"https://colab.research.google.com/assets/colab-badge.svg\" alt=\"Open In Colab\"/></a>"
      ]
    },
    {
      "cell_type": "markdown",
      "source": [
        "필사 참고: https://www.kaggle.com/code/ted0071/fathomnet-2023-baseline-yolov8"
      ],
      "metadata": {
        "id": "Hm_scsImYPV8"
      }
    },
    {
      "cell_type": "markdown",
      "source": [
        "### Data 가져오기"
      ],
      "metadata": {
        "id": "pjD7By--aFHE"
      }
    },
    {
      "cell_type": "code",
      "execution_count": 1,
      "metadata": {
        "colab": {
          "base_uri": "https://localhost:8080/",
          "height": 76
        },
        "id": "oOMN6UENR0fe",
        "outputId": "67c2506e-9d74-4207-d0f2-ae8e26b8ed1c"
      },
      "outputs": [
        {
          "output_type": "display_data",
          "data": {
            "text/plain": [
              "<IPython.core.display.HTML object>"
            ],
            "text/html": [
              "\n",
              "     <input type=\"file\" id=\"files-2cebf971-2ce9-47ed-bf4b-5c306fcf076e\" name=\"files[]\" multiple disabled\n",
              "        style=\"border:none\" />\n",
              "     <output id=\"result-2cebf971-2ce9-47ed-bf4b-5c306fcf076e\">\n",
              "      Upload widget is only available when the cell has been executed in the\n",
              "      current browser session. Please rerun this cell to enable.\n",
              "      </output>\n",
              "      <script>// Copyright 2017 Google LLC\n",
              "//\n",
              "// Licensed under the Apache License, Version 2.0 (the \"License\");\n",
              "// you may not use this file except in compliance with the License.\n",
              "// You may obtain a copy of the License at\n",
              "//\n",
              "//      http://www.apache.org/licenses/LICENSE-2.0\n",
              "//\n",
              "// Unless required by applicable law or agreed to in writing, software\n",
              "// distributed under the License is distributed on an \"AS IS\" BASIS,\n",
              "// WITHOUT WARRANTIES OR CONDITIONS OF ANY KIND, either express or implied.\n",
              "// See the License for the specific language governing permissions and\n",
              "// limitations under the License.\n",
              "\n",
              "/**\n",
              " * @fileoverview Helpers for google.colab Python module.\n",
              " */\n",
              "(function(scope) {\n",
              "function span(text, styleAttributes = {}) {\n",
              "  const element = document.createElement('span');\n",
              "  element.textContent = text;\n",
              "  for (const key of Object.keys(styleAttributes)) {\n",
              "    element.style[key] = styleAttributes[key];\n",
              "  }\n",
              "  return element;\n",
              "}\n",
              "\n",
              "// Max number of bytes which will be uploaded at a time.\n",
              "const MAX_PAYLOAD_SIZE = 100 * 1024;\n",
              "\n",
              "function _uploadFiles(inputId, outputId) {\n",
              "  const steps = uploadFilesStep(inputId, outputId);\n",
              "  const outputElement = document.getElementById(outputId);\n",
              "  // Cache steps on the outputElement to make it available for the next call\n",
              "  // to uploadFilesContinue from Python.\n",
              "  outputElement.steps = steps;\n",
              "\n",
              "  return _uploadFilesContinue(outputId);\n",
              "}\n",
              "\n",
              "// This is roughly an async generator (not supported in the browser yet),\n",
              "// where there are multiple asynchronous steps and the Python side is going\n",
              "// to poll for completion of each step.\n",
              "// This uses a Promise to block the python side on completion of each step,\n",
              "// then passes the result of the previous step as the input to the next step.\n",
              "function _uploadFilesContinue(outputId) {\n",
              "  const outputElement = document.getElementById(outputId);\n",
              "  const steps = outputElement.steps;\n",
              "\n",
              "  const next = steps.next(outputElement.lastPromiseValue);\n",
              "  return Promise.resolve(next.value.promise).then((value) => {\n",
              "    // Cache the last promise value to make it available to the next\n",
              "    // step of the generator.\n",
              "    outputElement.lastPromiseValue = value;\n",
              "    return next.value.response;\n",
              "  });\n",
              "}\n",
              "\n",
              "/**\n",
              " * Generator function which is called between each async step of the upload\n",
              " * process.\n",
              " * @param {string} inputId Element ID of the input file picker element.\n",
              " * @param {string} outputId Element ID of the output display.\n",
              " * @return {!Iterable<!Object>} Iterable of next steps.\n",
              " */\n",
              "function* uploadFilesStep(inputId, outputId) {\n",
              "  const inputElement = document.getElementById(inputId);\n",
              "  inputElement.disabled = false;\n",
              "\n",
              "  const outputElement = document.getElementById(outputId);\n",
              "  outputElement.innerHTML = '';\n",
              "\n",
              "  const pickedPromise = new Promise((resolve) => {\n",
              "    inputElement.addEventListener('change', (e) => {\n",
              "      resolve(e.target.files);\n",
              "    });\n",
              "  });\n",
              "\n",
              "  const cancel = document.createElement('button');\n",
              "  inputElement.parentElement.appendChild(cancel);\n",
              "  cancel.textContent = 'Cancel upload';\n",
              "  const cancelPromise = new Promise((resolve) => {\n",
              "    cancel.onclick = () => {\n",
              "      resolve(null);\n",
              "    };\n",
              "  });\n",
              "\n",
              "  // Wait for the user to pick the files.\n",
              "  const files = yield {\n",
              "    promise: Promise.race([pickedPromise, cancelPromise]),\n",
              "    response: {\n",
              "      action: 'starting',\n",
              "    }\n",
              "  };\n",
              "\n",
              "  cancel.remove();\n",
              "\n",
              "  // Disable the input element since further picks are not allowed.\n",
              "  inputElement.disabled = true;\n",
              "\n",
              "  if (!files) {\n",
              "    return {\n",
              "      response: {\n",
              "        action: 'complete',\n",
              "      }\n",
              "    };\n",
              "  }\n",
              "\n",
              "  for (const file of files) {\n",
              "    const li = document.createElement('li');\n",
              "    li.append(span(file.name, {fontWeight: 'bold'}));\n",
              "    li.append(span(\n",
              "        `(${file.type || 'n/a'}) - ${file.size} bytes, ` +\n",
              "        `last modified: ${\n",
              "            file.lastModifiedDate ? file.lastModifiedDate.toLocaleDateString() :\n",
              "                                    'n/a'} - `));\n",
              "    const percent = span('0% done');\n",
              "    li.appendChild(percent);\n",
              "\n",
              "    outputElement.appendChild(li);\n",
              "\n",
              "    const fileDataPromise = new Promise((resolve) => {\n",
              "      const reader = new FileReader();\n",
              "      reader.onload = (e) => {\n",
              "        resolve(e.target.result);\n",
              "      };\n",
              "      reader.readAsArrayBuffer(file);\n",
              "    });\n",
              "    // Wait for the data to be ready.\n",
              "    let fileData = yield {\n",
              "      promise: fileDataPromise,\n",
              "      response: {\n",
              "        action: 'continue',\n",
              "      }\n",
              "    };\n",
              "\n",
              "    // Use a chunked sending to avoid message size limits. See b/62115660.\n",
              "    let position = 0;\n",
              "    do {\n",
              "      const length = Math.min(fileData.byteLength - position, MAX_PAYLOAD_SIZE);\n",
              "      const chunk = new Uint8Array(fileData, position, length);\n",
              "      position += length;\n",
              "\n",
              "      const base64 = btoa(String.fromCharCode.apply(null, chunk));\n",
              "      yield {\n",
              "        response: {\n",
              "          action: 'append',\n",
              "          file: file.name,\n",
              "          data: base64,\n",
              "        },\n",
              "      };\n",
              "\n",
              "      let percentDone = fileData.byteLength === 0 ?\n",
              "          100 :\n",
              "          Math.round((position / fileData.byteLength) * 100);\n",
              "      percent.textContent = `${percentDone}% done`;\n",
              "\n",
              "    } while (position < fileData.byteLength);\n",
              "  }\n",
              "\n",
              "  // All done.\n",
              "  yield {\n",
              "    response: {\n",
              "      action: 'complete',\n",
              "    }\n",
              "  };\n",
              "}\n",
              "\n",
              "scope.google = scope.google || {};\n",
              "scope.google.colab = scope.google.colab || {};\n",
              "scope.google.colab._files = {\n",
              "  _uploadFiles,\n",
              "  _uploadFilesContinue,\n",
              "};\n",
              "})(self);\n",
              "</script> "
            ]
          },
          "metadata": {}
        },
        {
          "output_type": "stream",
          "name": "stdout",
          "text": [
            "Saving kaggle.json to kaggle.json\n"
          ]
        }
      ],
      "source": [
        "from google.colab import files\n",
        "\n",
        "files.upload()\n",
        "!mkdir ~/.kaggle\n",
        "!cp kaggle.json ~/.kaggle/\n",
        "!chmod 600 ~/.kaggle/kaggle.json"
      ]
    },
    {
      "cell_type": "code",
      "source": [
        "# Download Dataset\n",
        "!kaggle competitions download -c fathomnet-out-of-sample-detection"
      ],
      "metadata": {
        "colab": {
          "base_uri": "https://localhost:8080/"
        },
        "id": "y23rOTEzTRW-",
        "outputId": "b52781ac-c12f-4570-c2e5-cbd2ae330e21"
      },
      "execution_count": 2,
      "outputs": [
        {
          "output_type": "stream",
          "name": "stdout",
          "text": [
            "Downloading fathomnet-out-of-sample-detection.zip to /content\n",
            " 77% 1.00M/1.30M [00:00<00:00, 2.03MB/s]\n",
            "100% 1.30M/1.30M [00:00<00:00, 2.49MB/s]\n"
          ]
        }
      ]
    },
    {
      "cell_type": "code",
      "source": [
        "!unzip -qq \"/content/fathomnet-out-of-sample-detection.zip\""
      ],
      "metadata": {
        "id": "KRN9xeCETmUi"
      },
      "execution_count": 3,
      "outputs": []
    },
    {
      "cell_type": "code",
      "source": [
        "ls"
      ],
      "metadata": {
        "colab": {
          "base_uri": "https://localhost:8080/"
        },
        "id": "MsLqYt8nTztx",
        "outputId": "15ae4575-585c-4325-8bd6-2f314bf9639e"
      },
      "execution_count": 4,
      "outputs": [
        {
          "output_type": "stream",
          "name": "stdout",
          "text": [
            "category_key.csv                       \u001b[0m\u001b[01;34mmultilabel_classification\u001b[0m/\n",
            "demo_download.ipynb                    \u001b[01;34mobject_detection\u001b[0m/\n",
            "download_images.py                     requirements.txt\n",
            "fathomnet-out-of-sample-detection.zip  \u001b[01;34msample_data\u001b[0m/\n",
            "kaggle.json                            sample_submission.csv\n"
          ]
        }
      ]
    },
    {
      "cell_type": "markdown",
      "source": [
        "### 라이브러리 / 모듈 import"
      ],
      "metadata": {
        "id": "cFhqjQBVaK52"
      }
    },
    {
      "cell_type": "code",
      "source": [
        "import warnings\n",
        "warnings.filterwarnings(\"ignore\")"
      ],
      "metadata": {
        "id": "WzLOeCy6UOlo"
      },
      "execution_count": 5,
      "outputs": []
    },
    {
      "cell_type": "code",
      "source": [
        "# ultralytics library 설치 (컴퓨터 비전, 딥러닝 작업 지원 패키지)\n",
        "# '& / dev/null' : 로그 및 출력 메세지 표시하지 않게 함.\n",
        "'''리눅스/ 유닉스 환경에서 사용되는 리다이렉션 기호\n",
        "    로그 및 출력 메세지를 \"/dev/null\" 이라는 특수 파일로 리다이렉트하라\n",
        "    데이터 버리는 용도로 사용 (출력 보이지 않도록 하고, 설치 과정 로그 메세지 무시 가능)'''\n",
        "\n",
        "!pip install ultralytics &> /dev/null"
      ],
      "metadata": {
        "id": "lb1UJU1UU2U0"
      },
      "execution_count": 8,
      "outputs": []
    },
    {
      "cell_type": "code",
      "source": [
        "import os\n",
        "import ast    # 문법 구조화 모듈 # 딕셔너리 형태 문자열을 딕셔너리로 변경\n",
        "import shutil # 파일, 디렉토리에 대한 명령 모듈\n",
        "\n",
        "import numpy as np\n",
        "import pandas as pd\n",
        "import json\n",
        "from PIL import Image, ImageDraw, ImgaeFont # 반투명 도형 그리기 / 글자 쓰기\n",
        "\n",
        "import urllib.request, io\n",
        "from tqdm.notebook import tqdm\n",
        "from IPython.display import Image # 사진 호출\n",
        "from pathlib import Path  # 파일 경로를 객체로 다루자"
      ],
      "metadata": {
        "id": "XrE9YKEyV3Np"
      },
      "execution_count": null,
      "outputs": []
    },
    {
      "cell_type": "markdown",
      "source": [
        "- shutil 모듈 설명\n",
        "\n",
        "  ```\n",
        "  1) rmtree(path, ignore_errors=False, onerror=None) : 해당 디렉토리 전체 삭제\n",
        "  2)copyfile(src, dst, *, follow_symlinks=True) : 복사\n",
        "    # src : 복사시킬 파일 경로\n",
        "    # dst : 복사된 파일이 저장될 경로\n",
        "  3) copytree(src, dst, ...) : src를 루트로 하는 전체 디렉토리 dst에 재귀적 복사\n",
        "  4) move(src, dst) : src 루트로 하는 전체 디렉토리 트릴르 dst 디렉토리에 재귀적 이동\n",
        "  ```\n",
        "\n"
      ],
      "metadata": {
        "id": "gVaWmk06ZrYM"
      }
    },
    {
      "cell_type": "markdown",
      "source": [
        "- urllib 라이브러리 설명 : https://han-py.tistory.com/320\n",
        "- tqdm :\n",
        "\n",
        "  https://velog.io/@hyunicecream/%EB%94%A5%EB%9F%AC%EB%8B%9D-%EC%9C%A0%EC%9A%A9%ED%95%9C-%EA%B8%B0%EB%8A%A5-tqdm-and-tqdmnotebook\n",
        "- pathlib : https://brownbears.tistory.com/415"
      ],
      "metadata": {
        "id": "LFdIGj9QZd2Z"
      }
    },
    {
      "cell_type": "markdown",
      "source": [
        "### torch 버전 확인"
      ],
      "metadata": {
        "id": "rlQm_ZLGbXIy"
      }
    },
    {
      "cell_type": "code",
      "source": [
        "import torch\n",
        "print(torch.__version__)"
      ],
      "metadata": {
        "colab": {
          "base_uri": "https://localhost:8080/"
        },
        "id": "dviDA2yzbZYH",
        "outputId": "a904c3b2-5ec4-4b92-c80a-d92b6078d083"
      },
      "execution_count": 9,
      "outputs": [
        {
          "output_type": "stream",
          "name": "stdout",
          "text": [
            "2.0.1+cu118\n"
          ]
        }
      ]
    },
    {
      "cell_type": "markdown",
      "source": [
        "### Import Model : YOLO v8"
      ],
      "metadata": {
        "id": "MBJOvUUqcZ4v"
      }
    },
    {
      "cell_type": "markdown",
      "source": [
        "- https://github.com/ultralytics/ultralytics\n",
        "- Task : Detection, Segmentation, Classification, Pose"
      ],
      "metadata": {
        "id": "yYlePsoUcgLp"
      }
    },
    {
      "cell_type": "code",
      "source": [
        "import ultralytics\n",
        "from ultralytics import YOLO\n",
        "ultralytics.checks()"
      ],
      "metadata": {
        "colab": {
          "base_uri": "https://localhost:8080/"
        },
        "id": "J11bzEfdbeK0",
        "outputId": "b4a83226-9967-4f7b-9472-2c7956d1a811"
      },
      "execution_count": 10,
      "outputs": [
        {
          "output_type": "stream",
          "name": "stderr",
          "text": [
            "Ultralytics YOLOv8.0.136 🚀 Python-3.10.12 torch-2.0.1+cu118 CPU (Intel Xeon 2.20GHz)\n",
            "Setup complete ✅ (2 CPUs, 12.7 GB RAM, 24.2/107.7 GB disk)\n"
          ]
        }
      ]
    },
    {
      "cell_type": "code",
      "source": [
        "from fastai.imports import *"
      ],
      "metadata": {
        "id": "vhQcfo02ke63"
      },
      "execution_count": 15,
      "outputs": []
    },
    {
      "cell_type": "code",
      "source": [
        "from pandas.io.sql import DatabaseError\n",
        "class Cfg:\n",
        "  # 루트 경로\n",
        "  DATA_EXPLORING_ROOT = Path('/content')\n",
        "  INPUT_ROOT = Path('/content/object_detection')\n",
        "  OUTPUT_ROOT = Path('/content/working/')\n",
        "\n",
        "  # 이미지 경로\n",
        "  IMAGES_ROOT = DATA_EXPLORING_ROOT / 'images'  # 이미지 데이터의 루트 경로\n",
        "  TRAIN_IMAGES_ROOT = IMAGES_ROOT / 'train'\n",
        "  EVAL_IMAGES_ROOT = IMAGES_ROOT / 'eval'\n",
        "  DATASET_ROOT = OUTPUT_ROOT / 'dataset'\n",
        "\n",
        "  # 파일 경로\n",
        "  TRAIN_IMAGE_DATA = DATA_EXPLORING_ROOT / 'train_image_data.csv'\n",
        "  EVAL_IMAGE_DATA = DATA_EXPLORING_ROOT / 'eval_image_data.csv'\n",
        "  ANNOTATION_FILE = DATA_EXPLORING_ROOT / 'annotation.csv'\n",
        "  CATEGORY_KEY_FILE = INPUT_ROOT / 'category_key.csv'\n",
        "  SAMPLE_SUBMISSION_FILE = INPUT_ROOT / 'sample_submission.csv'\n",
        "\n",
        "  # 기타 설정\n",
        "  DATASET_CONFIG = OUTPUT_ROOT / 'dataset.yaml'\n",
        "  MODEL_NAME = 'FathomNet-YOLOv8'\n",
        "\n",
        "  N_EPOCHS = 50\n",
        "  N_BATCH = 16\n",
        "  RANDOM_STATE = 2023\n",
        "  SAMPLE_SIZE = 1.0\n",
        "  TEST_SIZE =.2\n",
        "  INDEX = 'id'"
      ],
      "metadata": {
        "id": "Uxm4LpzvdIP2"
      },
      "execution_count": 16,
      "outputs": []
    },
    {
      "cell_type": "markdown",
      "source": [
        "- fastai :\n",
        "\n",
        "  https://teamlab.github.io/jekyllDecent/blog/tutorials/fast.ai-%EB%9D%BC%EC%9D%B4%EB%B8%8C%EB%9F%AC%EB%A6%AC-%EC%84%A4%EC%B9%98%ED%95%98%EA%B3%A0-CNN-%EB%AA%A8%EB%8D%B8-%EB%A7%8C%EB%93%A4%EA%B8%B0"
      ],
      "metadata": {
        "id": "mbQoSJ3kk_g5"
      }
    },
    {
      "cell_type": "code",
      "source": [
        "import seaborn as sns\n",
        "import matplotlib.pyplot as plt\n",
        "import matplotlib as mpl\n",
        "\n",
        "# seaborn\n",
        "custom_params = {\n",
        "    'lines.linewidth': 1,\n",
        "}\n",
        "\n",
        "blues_palette = palette = sns.color_palette(\"Blues_r\", n_colors=20)\n",
        "reds_palette = palette = sns.color_palette(\"Reds_r\", n_colors=20)\n",
        "greys_palette = palette = sns.color_palette(\"Greys\", n_colors=10)\n",
        "\n",
        "blue = blues_palette[1]\n",
        "red = reds_palette[1]\n",
        "two_colors = [blue, red]\n",
        "\n",
        "sns.set()\n",
        "sns.set_theme(\n",
        "    style = 'whitegrid',\n",
        "    palette = blues_palette,\n",
        "    rc = custom_params\n",
        ")"
      ],
      "metadata": {
        "id": "d7iSuaO9lLrn"
      },
      "execution_count": 17,
      "outputs": []
    },
    {
      "cell_type": "markdown",
      "source": [
        "### Data Loading"
      ],
      "metadata": {
        "id": "7zT2zU6Jl8S-"
      }
    },
    {
      "cell_type": "code",
      "source": [
        "def read_train_data(file=Cfg.TRAIN_IMAGE_DATA, index_col = Cfg.INDEX):\n",
        "  return pd.read_csv(file).set_index(Cfg.INDEX)\n"
      ],
      "metadata": {
        "id": "xnKIH1o8l93r"
      },
      "execution_count": null,
      "outputs": []
    }
  ]
}